{
  "nbformat": 4,
  "nbformat_minor": 0,
  "metadata": {
    "kernelspec": {
      "display_name": "Python 3",
      "language": "python",
      "name": "python3"
    },
    "language_info": {
      "codemirror_mode": {
        "name": "ipython",
        "version": 3
      },
      "file_extension": ".py",
      "mimetype": "text/x-python",
      "name": "python",
      "nbconvert_exporter": "python",
      "pygments_lexer": "ipython3",
      "version": "3.6.5"
    },
    "colab": {
      "name": "intro_to_tensorflow.ipynb",
      "provenance": [],
      "toc_visible": true
    }
  },
  "cells": [
    {
      "cell_type": "code",
      "metadata": {
        "id": "vhobrBdaD6BP",
        "colab_type": "code",
        "colab": {}
      },
      "source": [
        "# set tf 1.x for colab\n",
        "%tensorflow_version 1.x"
      ],
      "execution_count": 0,
      "outputs": []
    },
    {
      "cell_type": "markdown",
      "metadata": {
        "id": "anLm1rRbD6Bi",
        "colab_type": "text"
      },
      "source": [
        "# Intro to TensorFlow\n",
        "\n",
        "This notebook covers the basics of TF and shows you an animation with gradient descent trajectory.\n",
        "<img src=\"https://github.com/hse-aml/intro-to-dl/blob/master/week2/v2/images/gradient_descent.png?raw=1\" style=\"width:50%\">"
      ]
    },
    {
      "cell_type": "markdown",
      "metadata": {
        "id": "fxvseYvWD6Bo",
        "colab_type": "text"
      },
      "source": [
        "# TensorBoard"
      ]
    },
    {
      "cell_type": "markdown",
      "metadata": {
        "colab_type": "text",
        "id": "DGHBqjWuEojM"
      },
      "source": [
        "**Plase note that if you are running on the Coursera platform, you won't be able to access the tensorboard instance due to the network setup there.**\n",
        "\n",
        "Run `tensorboard --logdir=./tensorboard_logs --port=7007` in bash.\n",
        "\n",
        "If you run the notebook locally, you should be able to access TensorBoard on http://127.0.0.1:7007/"
      ]
    },
    {
      "cell_type": "code",
      "metadata": {
        "id": "jCr-_SiMD6Bu",
        "colab_type": "code",
        "colab": {
          "base_uri": "https://localhost:8080/",
          "height": 339
        },
        "outputId": "d5c2f60d-51e0-406f-acb8-c4ce37906947"
      },
      "source": [
        "import tensorflow as tf\n",
        "import sys\n",
        "sys.path.append(\"../..\")\n",
        "from keras_utils import reset_tf_session\n",
        "s = reset_tf_session()\n",
        "print(\"We're using TF\", tf.__version__)\n"
      ],
      "execution_count": 1,
      "outputs": [
        {
          "output_type": "display_data",
          "data": {
            "text/html": [
              "<p style=\"color: red;\">\n",
              "The default version of TensorFlow in Colab will soon switch to TensorFlow 2.x.<br>\n",
              "We recommend you <a href=\"https://www.tensorflow.org/guide/migrate\" target=\"_blank\">upgrade</a> now \n",
              "or ensure your notebook will continue to use TensorFlow 1.x via the <code>%tensorflow_version 1.x</code> magic:\n",
              "<a href=\"https://colab.research.google.com/notebooks/tensorflow_version.ipynb\" target=\"_blank\">more info</a>.</p>\n"
            ],
            "text/plain": [
              "<IPython.core.display.HTML object>"
            ]
          },
          "metadata": {
            "tags": []
          }
        },
        {
          "output_type": "stream",
          "text": [
            "Using TensorFlow backend.\n"
          ],
          "name": "stderr"
        },
        {
          "output_type": "stream",
          "text": [
            "WARNING:tensorflow:From /content/keras_utils.py:68: The name tf.get_default_session is deprecated. Please use tf.compat.v1.get_default_session instead.\n",
            "\n",
            "WARNING:tensorflow:From /usr/local/lib/python3.6/dist-packages/keras/backend/tensorflow_backend.py:79: The name tf.reset_default_graph is deprecated. Please use tf.compat.v1.reset_default_graph instead.\n",
            "\n",
            "WARNING:tensorflow:From /usr/local/lib/python3.6/dist-packages/keras/backend/tensorflow_backend.py:82: The name tf.placeholder is deprecated. Please use tf.compat.v1.placeholder instead.\n",
            "\n",
            "WARNING:tensorflow:From /usr/local/lib/python3.6/dist-packages/keras/backend/tensorflow_backend.py:84: The name tf.get_default_graph is deprecated. Please use tf.compat.v1.get_default_graph instead.\n",
            "\n",
            "WARNING:tensorflow:From /content/keras_utils.py:75: The name tf.ConfigProto is deprecated. Please use tf.compat.v1.ConfigProto instead.\n",
            "\n",
            "WARNING:tensorflow:From /content/keras_utils.py:77: The name tf.InteractiveSession is deprecated. Please use tf.compat.v1.InteractiveSession instead.\n",
            "\n",
            "We're using TF 1.15.0\n"
          ],
          "name": "stdout"
        }
      ]
    },
    {
      "cell_type": "code",
      "metadata": {
        "id": "97RTBVvmFort",
        "colab_type": "code",
        "colab": {
          "base_uri": "https://localhost:8080/",
          "height": 253
        },
        "outputId": "a59027fd-b8f4-4211-b67d-11b45d0d1ffc"
      },
      "source": [
        "# USE FOR TENSORFLOW AND GOOGLE COLAB\n",
        "\n",
        "# !!! RUN THIS CELL ONLY ON GOOGLE COLAB !!!\n",
        "! wget https://raw.githubusercontent.com/hse-aml/intro-to-dl/master/setup_google_colab.py -O setup_google_colab.py\n",
        "import setup_google_colab\n",
        "\n",
        "# run tensorboard in background\n",
        "import os\n",
        "os.system(\"tensorboard --logdir=./logs --host 127.0.0.1 --port 7007 &\")\n",
        "\n",
        "# expose port and show the link\n",
        "setup_google_colab.expose_port_on_colab(7007)"
      ],
      "execution_count": 2,
      "outputs": [
        {
          "output_type": "stream",
          "text": [
            "--2020-01-27 13:01:01--  https://raw.githubusercontent.com/hse-aml/intro-to-dl/master/setup_google_colab.py\n",
            "Resolving raw.githubusercontent.com (raw.githubusercontent.com)... 151.101.0.133, 151.101.64.133, 151.101.128.133, ...\n",
            "Connecting to raw.githubusercontent.com (raw.githubusercontent.com)|151.101.0.133|:443... connected.\n",
            "HTTP request sent, awaiting response... 200 OK\n",
            "Length: 3636 (3.6K) [text/plain]\n",
            "Saving to: ‘setup_google_colab.py’\n",
            "\n",
            "\rsetup_google_colab.   0%[                    ]       0  --.-KB/s               \rsetup_google_colab. 100%[===================>]   3.55K  --.-KB/s    in 0s      \n",
            "\n",
            "2020-01-27 13:01:01 (64.4 MB/s) - ‘setup_google_colab.py’ saved [3636/3636]\n",
            "\n",
            "Can't get public url, retrying...\n",
            "Open https://bdea365d.ngrok.io to access your 7007 port\n"
          ],
          "name": "stdout"
        }
      ]
    },
    {
      "cell_type": "markdown",
      "metadata": {
        "id": "zsPuIgKVD6B4",
        "colab_type": "text"
      },
      "source": [
        "# Warming up\n",
        "For starters, let's implement a python function that computes the sum of squares of numbers from 0 to N-1."
      ]
    },
    {
      "cell_type": "code",
      "metadata": {
        "id": "YxC5pyulD6B6",
        "colab_type": "code",
        "colab": {}
      },
      "source": [
        "import numpy as np\n",
        "\n",
        "def sum_python(N):\n",
        "    return np.sum(np.arange(N)**2)"
      ],
      "execution_count": 0,
      "outputs": []
    },
    {
      "cell_type": "code",
      "metadata": {
        "id": "Su9rYCjmD6CC",
        "colab_type": "code",
        "colab": {
          "base_uri": "https://localhost:8080/",
          "height": 72
        },
        "outputId": "0a7898c5-fdd5-4171-f146-05a09690a570"
      },
      "source": [
        "%%time\n",
        "sum_python(10**5)"
      ],
      "execution_count": 4,
      "outputs": [
        {
          "output_type": "stream",
          "text": [
            "CPU times: user 1.72 ms, sys: 0 ns, total: 1.72 ms\n",
            "Wall time: 13.3 ms\n"
          ],
          "name": "stdout"
        },
        {
          "output_type": "execute_result",
          "data": {
            "text/plain": [
              "333328333350000"
            ]
          },
          "metadata": {
            "tags": []
          },
          "execution_count": 4
        }
      ]
    },
    {
      "cell_type": "markdown",
      "metadata": {
        "id": "4puqMRrUD6CL",
        "colab_type": "text"
      },
      "source": [
        "# Tensoflow teaser\n",
        "\n",
        "Doing the very same thing"
      ]
    },
    {
      "cell_type": "code",
      "metadata": {
        "id": "M5pptYuVD6CN",
        "colab_type": "code",
        "colab": {}
      },
      "source": [
        "# An integer parameter\n",
        "N = tf.placeholder('int64', name=\"input_to_your_function\")\n",
        "\n",
        "# A recipe on how to produce the same result\n",
        "result = tf.reduce_sum(tf.range(N)**2)"
      ],
      "execution_count": 0,
      "outputs": []
    },
    {
      "cell_type": "code",
      "metadata": {
        "id": "Qs5qrYP7D6CW",
        "colab_type": "code",
        "colab": {
          "base_uri": "https://localhost:8080/",
          "height": 35
        },
        "outputId": "0423b541-1dd7-4926-d296-d2688f8f4cdf"
      },
      "source": [
        "# just a graph definition\n",
        "result"
      ],
      "execution_count": 6,
      "outputs": [
        {
          "output_type": "execute_result",
          "data": {
            "text/plain": [
              "<tf.Tensor 'Sum:0' shape=() dtype=int64>"
            ]
          },
          "metadata": {
            "tags": []
          },
          "execution_count": 6
        }
      ]
    },
    {
      "cell_type": "code",
      "metadata": {
        "id": "UVlovztoD6Ci",
        "colab_type": "code",
        "colab": {
          "base_uri": "https://localhost:8080/",
          "height": 72
        },
        "outputId": "1109bba6-dd0c-4004-c69c-17b618e9fb66"
      },
      "source": [
        "%%time\n",
        "# actually executing\n",
        "result.eval({N: 10**5})"
      ],
      "execution_count": 7,
      "outputs": [
        {
          "output_type": "stream",
          "text": [
            "CPU times: user 7.15 ms, sys: 2.02 ms, total: 9.17 ms\n",
            "Wall time: 83 ms\n"
          ],
          "name": "stdout"
        },
        {
          "output_type": "execute_result",
          "data": {
            "text/plain": [
              "333328333350000"
            ]
          },
          "metadata": {
            "tags": []
          },
          "execution_count": 7
        }
      ]
    },
    {
      "cell_type": "code",
      "metadata": {
        "id": "sA79yQWKD6Co",
        "colab_type": "code",
        "colab": {}
      },
      "source": [
        "# logger for tensorboard\n",
        "writer = tf.summary.FileWriter(\"tensorboard_logs\", graph=s.graph)"
      ],
      "execution_count": 0,
      "outputs": []
    },
    {
      "cell_type": "markdown",
      "metadata": {
        "id": "phiSTPEfD6Cw",
        "colab_type": "text"
      },
      "source": [
        "# How does it work?\n",
        "1. Define placeholders where you'll send inputs\n",
        "2. Make a symbolic graph: a recipe for mathematical transformation of those placeholders\n",
        "3. Compute outputs of your graph with particular values for each placeholder\n",
        "  * `output.eval({placeholder: value})`\n",
        "  * `s.run(output, {placeholder: value})`\n",
        "\n",
        "So far there are two main entities: \"placeholder\" and \"transformation\" (operation output)\n",
        "* Both can be numbers, vectors, matrices, tensors, etc.\n",
        "* Both can be int32/64, floats, booleans (uint8) of various size.\n",
        "\n",
        "* You can define new transformations as an arbitrary operation on placeholders and other transformations\n",
        " * `tf.reduce_sum(tf.arange(N)**2)` are 3 sequential transformations of placeholder `N`\n",
        " * There's a tensorflow symbolic version for every numpy function\n",
        "   * `a+b, a/b, a**b, ...` behave just like in numpy\n",
        "   * `np.mean` -> `tf.reduce_mean`\n",
        "   * `np.arange` -> `tf.range`\n",
        "   * `np.cumsum` -> `tf.cumsum`\n",
        "   * If you can't find the operation you need, see the [docs](https://www.tensorflow.org/versions/r1.3/api_docs/python).\n",
        "   \n",
        "`tf.contrib` has many high-level features, may be worth a look."
      ]
    },
    {
      "cell_type": "code",
      "metadata": {
        "id": "iBb8c27BD6Cx",
        "colab_type": "code",
        "colab": {}
      },
      "source": [
        "with tf.name_scope(\"Placeholders_examples\"):\n",
        "    # Default placeholder that can be arbitrary float32\n",
        "    # scalar, vertor, matrix, etc.\n",
        "    arbitrary_input = tf.placeholder('float32')\n",
        "\n",
        "    # Input vector of arbitrary length\n",
        "    input_vector = tf.placeholder('float32', shape=(None,))\n",
        "\n",
        "    # Input vector that _must_ have 10 elements and integer type\n",
        "    fixed_vector = tf.placeholder('int32', shape=(10,))\n",
        "\n",
        "    # Matrix of arbitrary n_rows and 15 columns\n",
        "    # (e.g. a minibatch of your data table)\n",
        "    input_matrix = tf.placeholder('float32', shape=(None, 15))\n",
        "    \n",
        "    # You can generally use None whenever you don't need a specific shape\n",
        "    input1 = tf.placeholder('float64', shape=(None, 100, None))\n",
        "    input2 = tf.placeholder('int32', shape=(None, None, 3, 224, 224))\n",
        "\n",
        "    # elementwise multiplication\n",
        "    double_the_vector = input_vector*2\n",
        "\n",
        "    # elementwise cosine\n",
        "    elementwise_cosine = tf.cos(input_vector)\n",
        "\n",
        "    # difference between squared vector and vector itself plus one\n",
        "    vector_squares = input_vector**2 - input_vector + 1"
      ],
      "execution_count": 0,
      "outputs": []
    },
    {
      "cell_type": "code",
      "metadata": {
        "id": "Q7d5m7UID6C7",
        "colab_type": "code",
        "colab": {}
      },
      "source": [
        "my_vector =  tf.placeholder('float32', shape=(None,), name=\"VECTOR_1\")\n",
        "my_vector2 = tf.placeholder('float32', shape=(None,))\n",
        "my_transformation = my_vector * my_vector2 / (tf.sin(my_vector) + 1)"
      ],
      "execution_count": 0,
      "outputs": []
    },
    {
      "cell_type": "code",
      "metadata": {
        "id": "umqnxnQ6D6DF",
        "colab_type": "code",
        "colab": {
          "base_uri": "https://localhost:8080/",
          "height": 35
        },
        "outputId": "2ad09560-c9b4-468d-f681-bb629e08a6f2"
      },
      "source": [
        "print(my_transformation)"
      ],
      "execution_count": 11,
      "outputs": [
        {
          "output_type": "stream",
          "text": [
            "Tensor(\"truediv:0\", shape=(?,), dtype=float32)\n"
          ],
          "name": "stdout"
        }
      ]
    },
    {
      "cell_type": "code",
      "metadata": {
        "id": "2KLlAK04D6DM",
        "colab_type": "code",
        "colab": {
          "base_uri": "https://localhost:8080/",
          "height": 72
        },
        "outputId": "a40dbeb2-428e-41f9-f1e9-78faf09294a2"
      },
      "source": [
        "dummy = np.arange(5).astype('float32')\n",
        "print(dummy)\n",
        "my_transformation.eval({my_vector: dummy, my_vector2: dummy[::-1]})"
      ],
      "execution_count": 12,
      "outputs": [
        {
          "output_type": "stream",
          "text": [
            "[0. 1. 2. 3. 4.]\n"
          ],
          "name": "stdout"
        },
        {
          "output_type": "execute_result",
          "data": {
            "text/plain": [
              "array([0.       , 1.6291324, 2.0950115, 2.6289961, 0.       ],\n",
              "      dtype=float32)"
            ]
          },
          "metadata": {
            "tags": []
          },
          "execution_count": 12
        }
      ]
    },
    {
      "cell_type": "code",
      "metadata": {
        "id": "tuIL3szQD6DR",
        "colab_type": "code",
        "colab": {}
      },
      "source": [
        "writer.add_graph(my_transformation.graph)\n",
        "writer.flush()"
      ],
      "execution_count": 0,
      "outputs": []
    },
    {
      "cell_type": "markdown",
      "metadata": {
        "id": "tMsIbxKkD6DX",
        "colab_type": "text"
      },
      "source": [
        "TensorBoard allows writing scalars, images, audio, histogram. You can read more on tensorboard usage [here](https://www.tensorflow.org/get_started/graph_viz)."
      ]
    },
    {
      "cell_type": "markdown",
      "metadata": {
        "id": "3kdUr9EED6DZ",
        "colab_type": "text"
      },
      "source": [
        "# Summary\n",
        "* Tensorflow is based on computation graphs\n",
        "* A graph consists of placeholders and transformations"
      ]
    },
    {
      "cell_type": "markdown",
      "metadata": {
        "id": "1KdFIeXkD6Dc",
        "colab_type": "text"
      },
      "source": [
        "# Loss function: Mean Squared Error\n",
        "\n",
        "Loss function must be a part of the graph as well, so that we can do backpropagation."
      ]
    },
    {
      "cell_type": "code",
      "metadata": {
        "id": "LR0P-7sCD6De",
        "colab_type": "code",
        "colab": {}
      },
      "source": [
        "with tf.name_scope(\"MSE\"):\n",
        "    y_true = tf.placeholder(\"float32\", shape=(None,), name=\"y_true\")\n",
        "    y_predicted = tf.placeholder(\"float32\", shape=(None,), name=\"y_predicted\")\n",
        "    # Implement MSE(y_true, y_predicted), use tf.reduce_mean(...)\n",
        "    # mse = ### YOUR CODE HERE ###\n",
        "\n",
        "    mse = tf.reduce_mean(tf.square(y_predicted - y_true))\n",
        "\n",
        "def compute_mse(vector1, vector2):\n",
        "    return mse.eval({y_true: vector1, y_predicted: vector2})"
      ],
      "execution_count": 0,
      "outputs": []
    },
    {
      "cell_type": "code",
      "metadata": {
        "id": "eEoJsKiAD6Dj",
        "colab_type": "code",
        "colab": {}
      },
      "source": [
        "writer.add_graph(mse.graph)\n",
        "writer.flush()"
      ],
      "execution_count": 0,
      "outputs": []
    },
    {
      "cell_type": "code",
      "metadata": {
        "id": "StFCWJFQD6Dp",
        "colab_type": "code",
        "colab": {}
      },
      "source": [
        "# Rigorous local testing of MSE implementation\n",
        "import sklearn.metrics\n",
        "for n in [1, 5, 10, 10**3]:\n",
        "    elems = [np.arange(n), np.arange(n, 0, -1), np.zeros(n),\n",
        "             np.ones(n), np.random.random(n), np.random.randint(100, size=n)]\n",
        "    for el in elems:\n",
        "        for el_2 in elems:\n",
        "            true_mse = np.array(sklearn.metrics.mean_squared_error(el, el_2))\n",
        "            my_mse = compute_mse(el, el_2)\n",
        "            if not np.allclose(true_mse, my_mse):\n",
        "                print('mse(%s,%s)' % (el, el_2))\n",
        "                print(\"should be: %f, but your function returned %f\" % (true_mse, my_mse))\n",
        "                raise ValueError('Wrong result')"
      ],
      "execution_count": 0,
      "outputs": []
    },
    {
      "cell_type": "markdown",
      "metadata": {
        "id": "H8RnvkJVD6Dw",
        "colab_type": "text"
      },
      "source": [
        "# Variables\n",
        "\n",
        "Placeholder and transformation values are not stored in the graph once the execution is finished. This isn't too comfortable if you want your model to have parameters (e.g. network weights) that are always present, but can change their value over time.\n",
        "\n",
        "Tensorflow solves this with `tf.Variable` objects.\n",
        "* You can assign variable a value at any time in your graph\n",
        "* Unlike placeholders, there's no need to explicitly pass values to variables when `s.run(...)`-ing\n",
        "* You can use variables the same way you use transformations \n",
        " "
      ]
    },
    {
      "cell_type": "code",
      "metadata": {
        "id": "taxp3AafD6Dw",
        "colab_type": "code",
        "colab": {}
      },
      "source": [
        "# Creating a shared variable\n",
        "shared_vector_1 = tf.Variable(initial_value=np.ones(5),\n",
        "                              name=\"example_variable\")"
      ],
      "execution_count": 0,
      "outputs": []
    },
    {
      "cell_type": "code",
      "metadata": {
        "id": "tcC4NjIHD6D2",
        "colab_type": "code",
        "colab": {
          "base_uri": "https://localhost:8080/",
          "height": 35
        },
        "outputId": "dd36f7b6-bab1-4190-f26e-2defec783397"
      },
      "source": [
        "# Initialize variable(s) with initial values\n",
        "s.run(tf.global_variables_initializer())\n",
        "\n",
        "# Evaluating the shared variable\n",
        "print(\"Initial value\", s.run(shared_vector_1))"
      ],
      "execution_count": 20,
      "outputs": [
        {
          "output_type": "stream",
          "text": [
            "Initial value [1. 1. 1. 1. 1.]\n"
          ],
          "name": "stdout"
        }
      ]
    },
    {
      "cell_type": "code",
      "metadata": {
        "id": "tkz1PHlID6D9",
        "colab_type": "code",
        "colab": {
          "base_uri": "https://localhost:8080/",
          "height": 35
        },
        "outputId": "9f97392b-4acf-423f-aa7b-841d3b82cc47"
      },
      "source": [
        "# Setting a new value\n",
        "s.run(shared_vector_1.assign(np.arange(5)))\n",
        "\n",
        "# Getting that new value\n",
        "print(\"New value\", s.run(shared_vector_1))"
      ],
      "execution_count": 21,
      "outputs": [
        {
          "output_type": "stream",
          "text": [
            "New value [0. 1. 2. 3. 4.]\n"
          ],
          "name": "stdout"
        }
      ]
    },
    {
      "cell_type": "markdown",
      "metadata": {
        "id": "kflhlvu3D6EJ",
        "colab_type": "text"
      },
      "source": [
        "# tf.gradients - why graphs matter\n",
        "* Tensorflow can compute derivatives and gradients automatically using the computation graph\n",
        "* True to its name it can manage matrix derivatives\n",
        "* Gradients are computed as a product of elementary derivatives via the chain rule:\n",
        "\n",
        "$$ {\\partial f(g(x)) \\over \\partial x} = {\\partial f(g(x)) \\over \\partial g(x)}\\cdot {\\partial g(x) \\over \\partial x} $$\n",
        "\n",
        "It can get you the derivative of any graph as long as it knows how to differentiate elementary operations"
      ]
    },
    {
      "cell_type": "code",
      "metadata": {
        "id": "mXI_mmZBD6EL",
        "colab_type": "code",
        "colab": {
          "base_uri": "https://localhost:8080/",
          "height": 92
        },
        "outputId": "f2385d28-ddda-4aef-d82b-23d591add14b"
      },
      "source": [
        "my_scalar = tf.placeholder('float32')\n",
        "\n",
        "scalar_squared = my_scalar**2\n",
        "\n",
        "# A derivative of scalar_squared by my_scalar\n",
        "derivative = tf.gradients(scalar_squared, [my_scalar, ])"
      ],
      "execution_count": 22,
      "outputs": [
        {
          "output_type": "stream",
          "text": [
            "WARNING:tensorflow:From /usr/local/lib/python3.6/dist-packages/tensorflow_core/python/ops/math_grad.py:1375: where (from tensorflow.python.ops.array_ops) is deprecated and will be removed in a future version.\n",
            "Instructions for updating:\n",
            "Use tf.where in 2.0, which has the same broadcast rule as np.where\n"
          ],
          "name": "stdout"
        }
      ]
    },
    {
      "cell_type": "code",
      "metadata": {
        "id": "ixrxhD2RD6ER",
        "colab_type": "code",
        "colab": {
          "base_uri": "https://localhost:8080/",
          "height": 35
        },
        "outputId": "945f2855-42e1-4549-d8d9-bebde172f2e6"
      },
      "source": [
        "derivative"
      ],
      "execution_count": 23,
      "outputs": [
        {
          "output_type": "execute_result",
          "data": {
            "text/plain": [
              "[<tf.Tensor 'gradients/pow_1_grad/Reshape:0' shape=<unknown> dtype=float32>]"
            ]
          },
          "metadata": {
            "tags": []
          },
          "execution_count": 23
        }
      ]
    },
    {
      "cell_type": "code",
      "metadata": {
        "id": "cC4bcq0-D6EW",
        "colab_type": "code",
        "colab": {
          "base_uri": "https://localhost:8080/",
          "height": 265
        },
        "outputId": "770ca877-1540-4930-c968-849e274ca991"
      },
      "source": [
        "import matplotlib.pyplot as plt\n",
        "%matplotlib inline\n",
        "\n",
        "x = np.linspace(-3, 3)\n",
        "x_squared, x_squared_der = s.run([scalar_squared, derivative[0]],\n",
        "                                 {my_scalar:x})\n",
        "\n",
        "plt.plot(x, x_squared,label=\"$x^2$\")\n",
        "plt.plot(x, x_squared_der, label=r\"$\\frac{dx^2}{dx}$\")\n",
        "plt.legend();"
      ],
      "execution_count": 24,
      "outputs": [
        {
          "output_type": "display_data",
          "data": {
            "image/png": "[encoded data removed]",
            "text/plain": [
              "<Figure size 432x288 with 1 Axes>"
            ]
          },
          "metadata": {
            "tags": []
          }
        }
      ]
    },
    {
      "cell_type": "markdown",
      "metadata": {
        "id": "ly2SgC9uD6Ea",
        "colab_type": "text"
      },
      "source": [
        "# Why that rocks"
      ]
    },
    {
      "cell_type": "code",
      "metadata": {
        "id": "JGYdXUidD6Ec",
        "colab_type": "code",
        "colab": {}
      },
      "source": [
        "my_vector = tf.placeholder('float32', [None])\n",
        "# Compute the gradient of the next weird function over my_scalar and my_vector\n",
        "# Warning! Trying to understand the meaning of that function may result in permanent brain damage\n",
        "weird_psychotic_function = tf.reduce_mean(\n",
        "    (my_vector+my_scalar)**(1+tf.nn.moments(my_vector,[0])[1]) + \n",
        "    1./ tf.atan(my_scalar))/(my_scalar**2 + 1) + 0.01*tf.sin(\n",
        "    2*my_scalar**1.5)*(tf.reduce_sum(my_vector)* my_scalar**2\n",
        "                      )*tf.exp((my_scalar-4)**2)/(\n",
        "    1+tf.exp((my_scalar-4)**2))*(1.-(tf.exp(-(my_scalar-4)**2)\n",
        "                                    )/(1+tf.exp(-(my_scalar-4)**2)))**2\n",
        "\n",
        "der_by_scalar = tf.gradients(weird_psychotic_function, my_scalar)\n",
        "der_by_vector = tf.gradients(weird_psychotic_function, my_vector)"
      ],
      "execution_count": 0,
      "outputs": []
    },
    {
      "cell_type": "code",
      "metadata": {
        "id": "XgRU_V1SD6Ef",
        "colab_type": "code",
        "colab": {
          "base_uri": "https://localhost:8080/",
          "height": 265
        },
        "outputId": "a053a1b7-13ba-4bce-e834-0f10d71fa80f"
      },
      "source": [
        "# Plotting the derivative\n",
        "scalar_space = np.linspace(1, 7, 100)\n",
        "\n",
        "y = [s.run(weird_psychotic_function, {my_scalar:x, my_vector:[1, 2, 3]})\n",
        "     for x in scalar_space]\n",
        "\n",
        "plt.plot(scalar_space, y, label='function')\n",
        "\n",
        "y_der_by_scalar = [s.run(der_by_scalar,\n",
        "                         {my_scalar:x, my_vector:[1, 2, 3]})\n",
        "                   for x in scalar_space]\n",
        "\n",
        "plt.plot(scalar_space, y_der_by_scalar, label='derivative')\n",
        "plt.grid()\n",
        "plt.legend();"
      ],
      "execution_count": 26,
      "outputs": [
        {
          "output_type": "display_data",
          "data": {
            "image/png": "[encoded data removed]",
            "text/plain": [
              "<Figure size 432x288 with 1 Axes>"
            ]
          },
          "metadata": {
            "tags": []
          }
        }
      ]
    },
    {
      "cell_type": "markdown",
      "metadata": {
        "id": "TJ0dtUA0D6Ei",
        "colab_type": "text"
      },
      "source": [
        "# Almost done - optimizers\n",
        "\n",
        "While you can perform gradient descent by hand with automatic gradients from above, tensorflow also has some optimization methods implemented for you. Recall momentum & rmsprop?"
      ]
    },
    {
      "cell_type": "code",
      "metadata": {
        "id": "PN1swHHGD6Ek",
        "colab_type": "code",
        "colab": {}
      },
      "source": [
        "y_guess = tf.Variable(np.zeros(2, dtype='float32'))\n",
        "y_true = tf.range(1, 3, dtype='float32')\n",
        "\n",
        "loss = tf.reduce_mean((y_guess - y_true + 0.5*tf.random_normal([2]))**2) \n",
        "\n",
        "step = tf.train.MomentumOptimizer(0.03, 0.5).minimize(loss, var_list=y_guess)"
      ],
      "execution_count": 0,
      "outputs": []
    },
    {
      "cell_type": "markdown",
      "metadata": {
        "id": "_sSl890xD6Er",
        "colab_type": "text"
      },
      "source": [
        "Let's draw a trajectory of a gradient descent in 2D"
      ]
    },
    {
      "cell_type": "code",
      "metadata": {
        "id": "rfYnl_1JD6Es",
        "colab_type": "code",
        "colab": {
          "base_uri": "https://localhost:8080/",
          "height": 269
        },
        "outputId": "c0c1aca1-f758-472d-d5d8-d5608d63de4e"
      },
      "source": [
        "from matplotlib import animation, rc\n",
        "import matplotlib_utils\n",
        "from IPython.display import HTML, display_html\n",
        "\n",
        "# nice figure settings\n",
        "fig, ax = plt.subplots()\n",
        "y_true_value = s.run(y_true)\n",
        "level_x = np.arange(0, 2, 0.02)\n",
        "level_y = np.arange(0, 3, 0.02)\n",
        "X, Y = np.meshgrid(level_x, level_y)\n",
        "Z = (X - y_true_value[0])**2 + (Y - y_true_value[1])**2\n",
        "ax.set_xlim(-0.02, 2)\n",
        "ax.set_ylim(-0.02, 3)\n",
        "s.run(tf.global_variables_initializer())\n",
        "ax.scatter(*s.run(y_true), c='red')\n",
        "contour = ax.contour(X, Y, Z, 10)\n",
        "ax.clabel(contour, inline=1, fontsize=10)\n",
        "line, = ax.plot([], [], lw=2)\n",
        "\n",
        "# start animation with empty trajectory\n",
        "def init():\n",
        "    line.set_data([], [])\n",
        "    return (line,)\n",
        "\n",
        "trajectory = [s.run(y_guess)]\n",
        "\n",
        "# one animation step (make one GD step)\n",
        "def animate(i):\n",
        "    s.run(step)\n",
        "    trajectory.append(s.run(y_guess))\n",
        "    line.set_data(*zip(*trajectory))\n",
        "    return (line,)\n",
        "\n",
        "anim = animation.FuncAnimation(fig, animate, init_func=init,\n",
        "                               frames=100, interval=20, blit=True)"
      ],
      "execution_count": 28,
      "outputs": [
        {
          "output_type": "display_data",
          "data": {
            "image/png": "[encoded data removed]",
            "text/plain": [
              "<Figure size 432x288 with 1 Axes>"
            ]
          },
          "metadata": {
            "tags": []
          }
        }
      ]
    },
    {
      "cell_type": "code",
      "metadata": {
        "id": "EJ2Ek-prD6Eu",
        "colab_type": "code",
        "colab": {
          "base_uri": "https://localhost:8080/",
          "height": 309
        },
        "outputId": "5daa69c4-101c-4234-c1df-df622095f2b9"
      },
      "source": [
        "try:\n",
        "    display_html(HTML(anim.to_html5_video()))\n",
        "except (RuntimeError, KeyError):\n",
        "    # In case the build-in renderers are unaviable, fall back to\n",
        "    # a custom one, that doesn't require external libraries\n",
        "    anim.save(None, writer=matplotlib_utils.SimpleMovieWriter(0.001))"
      ],
      "execution_count": 29,
      "outputs": [
        {
          "output_type": "display_data",
          "data": {
            "text/html": [
              "<video width=\"432\" height=\"288\" controls autoplay loop>\n",
              "  <source type=\"video/mp4\" src=\"data:video/mp4;base64,AAAAHGZ0eXBNNFYgAAACAGlzb21pc28yYXZjMQAAAAhmcmVlAABM3m1kYXQAAAKuBgX//6rcRem9\n",
              "5tlIt5Ys2CDZI+7veDI2NCAtIGNvcmUgMTUyIHIyODU0IGU5YTU5MDMgLSBILjI2NC9NUEVHLTQg\n",
              "QVZDIGNvZGVjIC0gQ29weWxlZnQgMjAwMy0yMDE3IC0gaHR0cDovL3d3dy52aWRlb2xhbi5vcmcv\n",
              "eDI2NC5odG1sIC0gb3B0aW9uczogY2FiYWM9MSByZWY9MyBkZWJsb2NrPTE6MDowIGFuYWx5c2U9\n",
              "MHgzOjB4MTEzIG1lPWhleCBzdWJtZT03IHBzeT0xIHBzeV9yZD0xLjAwOjAuMDAgbWl4ZWRfcmVm\n",
              "PTEgbWVfcmFuZ2U9MTYgY2hyb21hX21lPTEgdHJlbGxpcz0xIDh4OGRjdD0xIGNxbT0wIGRlYWR6\n",
              "b25lPTIxLDExIGZhc3RfcHNraXA9MSBjaHJvbWFfcXBfb2Zmc2V0PS0yIHRocmVhZHM9MyBsb29r\n",
              "YWhlYWRfdGhyZWFkcz0xIHNsaWNlZF90aHJlYWRzPTAgbnI9MCBkZWNpbWF0ZT0xIGludGVybGFj\n",
              "ZWQ9MCBibHVyYXlfY29tcGF0PTAgY29uc3RyYWluZWRfaW50cmE9MCBiZnJhbWVzPTMgYl9weXJh\n",
              "bWlkPTIgYl9hZGFwdD0xIGJfYmlhcz0wIGRpcmVjdD0xIHdlaWdodGI9MSBvcGVuX2dvcD0wIHdl\n",
              "aWdodHA9MiBrZXlpbnQ9MjUwIGtleWludF9taW49MjUgc2NlbmVjdXQ9NDAgaW50cmFfcmVmcmVz\n",
              "aD0wIHJjX2xvb2thaGVhZD00MCByYz1jcmYgbWJ0cmVlPTEgY3JmPTIzLjAgcWNvbXA9MC42MCBx\n",
              "cG1pbj0wIHFwbWF4PTY5IHFwc3RlcD00IGlwX3JhdGlvPTEuNDAgYXE9MToxLjAwAIAAADIkZYiE\n",
              "AC///vau/MsrRwuVLh1Ze7NR8uhJcv2IMH1oAAADAADVayF8oYJVUBjg5Cl8UC950wnQObmxLpMS\n",
              "eTd2N1o7ZvU7nZLqidQWs9IRqH4qZFuUNOvgrgAArGB7WlESNB735J/CfrjEy3i5zjzWx5r7oD4b\n",
              "7vRGf5YZpSE2SfCltWRnqtLPBS3FxRjhpp/BEdar5txSfEu67R/ppgZwAi2i8ff512MwmU2ndVwZ\n",
              "0/IypwbXeLiexIGKwjGLSLtuFQ6Y/OKysfXRdbpNhUrKtfRj7PsZ4sEuP5y4zl61S+z6VZzYCdA7\n",
              "422O/g7ogLDysqUE24GpHGaJCX2wbS68ujTHQP6XxiSrNlnDwZHgbp5EeVkCuMJlhlbRejAAAW5E\n",
              "i95ObYO5PsuB/yXJXIr296w2R4KtEWts2QxCeaTyILNtSj0FAa6n+Sm+7xuX2JriZx97d2rE/cAU\n",
              "Qsh/+Ymis26EZW9S/cjgVqTEtyVS3CIlK2Ezdp99jK7/nX0GHUivuh8QdJ4bhVPEmo5B7TQYe9Nv\n",
              "n+ebyMRkTx7hvj05vOEfMTes/dwPLUI91WSm8NQ11fuo1LrBS7pJhE73vxY1JjcZWnegaFLpPjAo\n",
              "+BqceCYe5S3Av97ANnEBmzojm/SDmWarQluOhREg6XGZMu4a7snjhzyH4/KonlxVMyXTB8Ya3dGT\n",
              "vrxM2T8GRxsFP+Ki2XIeafZhzaICPKgU1x2LYZqQc9bRDlrWDpuTNmcCbrO7DXBPWt4+vc4y9j4O\n",
              "nmehjy3+29CwtFTKfeNDtJqpsgh9q2E1nXMB/b67agis4/9zgOkKQTrSKTL/ETxrRLU+M6bDF5Hw\n",
              "Mkk0WQCW3/aB4rOdB/mjy0qnw4YqFkBjk8S3abocW1VP5xCX6kQu/S+pHlRN6K+k0MK67uDbQpak\n",
              "Tg3oFCVnZYtI4fIdaw6N4CrUmzN3+T+U2DAvRHNB/dqFoMjErvCTrUOM5i6sgMFnPlzXuzglEx3r\n",
              "tNS/ihpBKoZOTd1ViyEWuvp6CRVIYeDAf+u+GRvSyJD0uB2YFMYXUoJNAnwTcmSYyZTb5a4nxvDl\n",
              "TOC8jlarLZ59F/D69SA66HYNiutMC2dploDTw52cruOXTwGu6T12mOk1kVNnQZriDnZ5c7I+N9HQ\n",
              "a5ZPa57KaQLMuwNl5cmGiFp4HWwZktokWS6ak4lEXjSXXAiOxi7qBV49WigxIGR33VW8wRNdN3Dv\n",
              "xgLQBmCInEdpSYWVa/7NpJBBH7cIb8ttDQIp2sXitLdMBUvDn63XlKb2/rqFXm4DJl2Woi2N3Ol0\n",
              "XloGi675i1F6emt9/LLYQhVVKflHygiF0G+O9AVc2N/8DsTZJwFSpbyMG/Tst2fF3Nvy0sScZcTV\n",
              "4KwHspWfq9YHyH4DdFDKVMWM1BaNsqek0yKv6K+jX0LsoL5Vr8KjZJ+RihiRjHS1R2byBoCqoi0P\n",
              "rEI0pWor53obQeyY52ReSt/DWLCDSWlOgDG1tlMEleKmjysrE3aS59PR9hA8bdC7kPhnQ2tV0gSL\n",
              "26GNMIDjsMBRW/3SowhuZbrNmTlxmBYV3hCRfvFysfKbzpg5k1qs459I2wsyLeKD4f8dcrcvCUg7\n",
              "oa5G0vn+lToJZzDw2LcJk1HdFaIWUgC+woiUDqCzpfSNceg028zPwTXzCmJDKwJOvcBGFhwXmp4z\n",
              "wi9Vr56d6r3XzmGGMexwaChFdcX3+RnqS6Fw1gLH+WHqMHBf88Ng0IQKG0O7KY1SfRF+RNUMAqRU\n",
              "kBDnE+T7CsIWk+iAI54usYhOf3ZzwGkFSFlrZlHY9TRsZ15m0U1+pVprAMA4MsGtUeFB07K6uyAV\n",
              "hk2T8AkUAGDGt4sbuxuZG7PcrbYaj8llFH8rxyn95ylTaRabhsAziWWC7fnI6NQXfyLMhYWCHoVI\n",
              "r/iEsCfCLQj0d8obYU/KyGIJsSVNrRLeMmc00DlWyv/ZHiAjr7+xLTQlAoP7yT5iaVIfVSZ9+b+Z\n",
              "WeCsaCl25Ys9K99tuM5jvlafGWZkFq1spKlVeojxVAAMpL8DFV2WUfJVGDMyE1ct046A1kPeiiRG\n",
              "MndQwdVptxma2zKIvc2BRolDDSa8/LEF/DjiwriNa9wikvvaZARq+hDDcPuIcAKXtTPQq2ohiVuw\n",
              "uarMf2mA9MkFrneFjnQM/0s+uU5jgquFlKj9kUf//Lh34l2T6bAG0DTd5uCP6eT02CYSX3QIXsLL\n",
              "vy+OY3KnRyizGufKPRrjje2TuAigKjeqH7cYeCWz1iPtwQykwnhsY3/FF/HX986703GJVFl1p/be\n",
              "f1tDkb3B0ULSUcf1tgTlTn8Myoh4A1wgOqpDaNHzXmTBg9pH/cMjBYQQuTtpURQKVbwIHZWR0Uyy\n",
              "u1MxcZgaHnIFqJXEdLsje/wFD8aC1GUFwM6/CSYeMQWp3u2I+3S4yNoI3fHZfah0u4c1vvNbiEcK\n",
              "Nz6vsG6t0IfQVVeKqAoiOUqHAsu3ZOaFvOwn5EIaLhRH1bjVxyA4jOYhY8mJ6SrGdsncxO1mEKJp\n",
              "VZpQgC5hyDeyoH+/ZrHoyH01UpsZxzfvl2U6PuiBIVCWlKAUfiiMyg9tS1LiqfTp3pNXVZkOglxU\n",
              "AVXLxhAvM7ve5ct6bpU3I6pDH2Liipvmm6CmJ3v7FLEMFSAH/fleCoqOjQA3ybCj248xQb5sNOJN\n",
              "DBHEnP5YJ4jTDtzYbvfyC24/Wz9K1LK057yAuT51mRhoEj3ok2srA2J0BF5mI/th3bLiMXqrnoFv\n",
              "F7Jbp85SUJzo/otG3/hBE2m5kolxd9TFo2JMmdD15GataI/wfXGq2K2K1KbW8DrtvpHzbROuO3e3\n",
              "AQB0lsTn1SgiUtDwLeQEhMGpdUuL6vUzrtIR/MfSIDUT444AOMTmTBjCApv5r3nbK+LIB53KuKMh\n",
              "E4P1gWIqhgveyuzjO5LMBk124zNjbyfuFpbvJkP5N0RiqBr+L+fr2qzU35QRvVND8DrK1gqls4Q0\n",
              "q4dbNY0Tr7219x0kShy+1x091tFmqEtxT5hAvLfmxbXE/XnVzdSgCgvaAJ+1mAWA0FCAq5GobAr0\n",
              "N+TPlx9cYh2BDinM3jlCtpKPgK2CC8NvRXjG+kQKLslf3wmNPLMgmX0pKqEAwj4TnrNZeaQwItkC\n",
              "GMRcLyhDXKlFJ+5NkMfnhv1xR888TU36NlRBZiRS5fVt+ECMzqb/qhATDHMTLPYZD37bRJyRVR1q\n",
              "B7yIuFp7L7cZIHwy8537GsmiyiEFVe9Oq0XlJsdCLfMKR3dCkUZbvaWNeVFG4KL0SSa+LclD1tcg\n",
              "c0Xu89/prve6hu54fkOX1h4qYmlwzbDbXdiTdUmQkwS3w2CPRd7EUL7vOufafBaORx4Aec/B4cH0\n",
              "lbtgc8L3GyoPK7UZXLMD9b2XALIDvq1LhTqkC6ohjqsYhspIkkmO250o/5m0vaLETfSle7pzIxBj\n",
              "nrkuH0hNrni9s093qkhN0l/3/HDjsTLC77bQeisJKBywBMy5YBhoIMGYyjOzCZMyRWdZHlMTBWKM\n",
              "+JQlXemyMQMXvjvaelulNnV3SX9VfRC47Kh5v9ODGZf1ZOXpODmjPGmolHS7mED5TACZ6vGex71K\n",
              "8++6rlWmPYFs/Bwcbmi8DukqdEEgVScQYLOPNxCeGG0++cHzUVK6IEwMfYti4YwZWNUWlyMzSCJD\n",
              "EgfSESp7CggmWqefyps6Xqhim8ym0VRT2UySQM306LsyM07IC1hjfiX9LUJFgmyeisKYdBenJbMR\n",
              "2VIJAYgmEo6rKL/sGSDZ2ataZAAhLeep6V/TKCVH5rIxzY7k7Vd33VG5oV7XSWbS2tcgnB1APyNd\n",
              "RbM1ofcrW0kFbw4A8vJ5WcCd8hp+esUDnDA/VntRBv4ibKWp3LmJhI967fO1HhIgqD2PkVoYiW30\n",
              "BVkY3DLHQe77Xexw3BXacrByzpDr3Boq6MXfbmdf6tTteDhLiBOZKaHkGBHC6GdpLC1tXP/+F7bp\n",
              "vZZIhLaDWG0QUOAsNB0uTWxf2S2VexdiQd5mw9s9iPmmjaGtHRbM4eAbXkSw+SVDscSSDS16GdSZ\n",
              "Yf7DTDhJ+DrfD1ad6ncHnrRTm3XjHXEgrGvYDeovml3qNFPoqWZN/dDGzjHQ+FsLTR/5J9grPjIl\n",
              "0LSA00cRVSjvmby+5cMEDBHZfWLX1Lav+jlgSMJkNqa9M0rxUnwpYGXwIqWkfwqK2Cvu3oH4Y0VW\n",
              "7FmGO6/ui/+1AyRnoSz/aZQ/vGo1AiKTbKTObiQuDkuEhqO/a2y6ZPzndAtpP4In//9JZM1FKY8N\n",
              "vrPYoIURvgGFKo0GN237DJq0gz1qrsZJSu0d3xAm5tibVYBhmSIv3TFu7BEyJN7QRxzKJhkDNZdN\n",
              "KC6ajWybJLHgkhV2EQkct7uxl2pDieqwVD4dA86iUsJp/8xzdfe00sXJo3WVMgNuAW9lshhBUd5i\n",
              "8BEVkR615Vy2shSx6Y8vlrbkgftpB6C3+NzJmlADASCtXVBWPaii/0E0D+jewYZRd4ZpGE1JhyPS\n",
              "7mSpZnhMJpMyLie9F02IpegPgVkywrF5mukkczLcZl/axkF0A7Usg10M2HrRwl85fQFOyTT2GlOU\n",
              "vAqWZ2iQvDZnQMnFUcC4GGqKW2KQFb/CDjTfJBZXIh0mncwrAI6EPiG9JasKKo+b9nZKDDqCq/oZ\n",
              "XlxJJeMjwtoCbJFTkN39glqxkDsAtGl9Rp8UDH/VGy9L2IPbk0WheUmHMzGbthJwFrV6OS9VcUWm\n",
              "O970oaNwvII/k/haGMl6AsbC9NxIRjACZLEGXCyWd0+lJdpN40L//7NgI8lJluwu4ljiSF4nfrLX\n",
              "XKFgVBiqaOdz05xuLnh8KsKWwL05F/2L6ezSDl8OuOfeZbArvbSmWhHV3CQcEZAiR54SWF5oAi7M\n",
              "6w/l0rVoqaozoFU09gKzo+WF/qmdX5jFrDWidvDGSVnbU7NWrqnDp2Dqd+hpjgxMzoUs1YGnfgEc\n",
              "341kEE414+nBqvlrB6S3bbMHPILZ2xzfLIzeQIDF7KRYmubvlvmldnFQAAmKhH/obN8CsYHrsBQy\n",
              "434sTYIL1PiMQieXDZPsjloeACzaGTsShwrSmn4nc34oJYmLV3ezEhMv0QRvzr8dVempYjoz2QgF\n",
              "XN+fcbRS6OR9JiiMPmUDQ/McGKk1ACegTtc4cb5PW47OXxMim9g2pW52BXAcfblYYOsFOP8uiZd2\n",
              "Shxdxl9rrMKb432I6jiDtANJyKhCJGDUcNJuq5gI2q7cAYj+1da3/K9SqPkhVseZJ9ADSGkUsp2C\n",
              "UKxaJ4jENLl4zzOLhwYqBN0gYgtmfQ3sEU1Pc6ZGKgLmybERJ3GpvCv86M8YCPu5ov1RPJA4S77i\n",
              "VIiw2QbEZvFk+OfN/m0iwzhJbonPJANMCh9Ps/YwK6ycvOtm4CU+XMIesV8iPCdIY8aeqBsruf53\n",
              "PyAUHOOWCd+pvrAHx4wr2D9mth+7o5LsfpUkuCXy2cY5kmXEZQOxhwqtdS4jMQA54UbqE2MAiXbm\n",
              "EIH/txONtDt3NKZq7umgXpqqMkMLjZG2xQg0H7MKtsK8PIo9i72z0Yv07Je41SpDyL9gauNJQMz+\n",
              "U1FW0dyBpCzU/gU4IgChAbTxglA0BEYtg5+fNg1j0zrx7IWUkxLTVEYlEJEGiucBe8gLB+C2Pj16\n",
              "NP8sj4G60Rw34zTk/YwFT+uaztBJMAxHVI4ifna7NVluD6F98uO8MObAgxQPNWadlL/G/o9jzeJe\n",
              "K7x8yenH4pqDGE3VYwdjDSIH5naT+zQZQSIAYvYqaIyuEMtRPzUGRUrqKuvWSlwqot8AF71uQw4n\n",
              "zxTujmhh3A5vtezv9ZrUMlkuPpYvl9/pit3gHA9jLmZ7aCifNby5GXweos0pOuDuITRwhGP3p8la\n",
              "HSKHjH4xCEJc2EFVXQq6l7kBnBVT2l53QZnewZCQTSMw14nIcLFb0weR2mGU4/FOWFldcewy4xMR\n",
              "zf1kywiJ/Ljj0FQjT+Hkt753t6MdIpJUcKPgkb86CFGUWyxzrPQhcdmz3l/KeuRdRsG3eJYfzIri\n",
              "o82MWuUjxzLaKeZ1Y0RB9wjxzXIGIRx1Fs4AUkF3jmcWLaTthuVp7zrI87LE6G9RiYlIzQIbEHtx\n",
              "ji4Td23RDkllukGO7Z5rFj9z776/YtHh+wWP6SXQ5tIbm29TxaArr870cSU/jG6LTJya47oLLrcb\n",
              "IMbs23iHghLp/7IdnpuDqRDkcGTyCQdjEbWXGM0w56RMSmSh0WmlwaIbYqyPDlPXf81xOhjodMnT\n",
              "ZJsH9qlC2em8X6ddMFQjMCz2GVBOjBRTaIlq8ilcqs9ZmaiFK4gi4ECij3zLNUvrQag7oclQFcqg\n",
              "oi7fjDs0HWa54P+W8RPOHosRGxFruOfiB5+yJkO8Tk3GcskHQO3OpEYVzZznSqKK/OYO0YXvcW+M\n",
              "vdT9s8nIT88pZkPRMU1ctpaLNGPWMA7/5xypZ8mXIgUxKuA0ds5ZM0HhfKHafpWmOQdYCNatCjBe\n",
              "MWh6V3VS2cg1eLO1aBKoRRgckMB/7Kci5iADfXDq8KzS8fzrB4i/9cPuBX0mf7oTuKjdyfn/tY30\n",
              "gtsNpXz1x8rS2Hdd+cc+veVeily86zuYEEJHmXuz+MEt9qdirBhGYx9YfIt9PPifZ6dDJx1EKpGW\n",
              "XCTffadiFF8RwgzGDtpey7/FXpYUL43b/sQv8SL7431wm3uft49MTi7rd4Z4lnIFTcqOo9qzdjb3\n",
              "nePu8NKmPa6+SWmdvMeObqrD0In7IkqF2fNZtG0XAM+5E10797BNf7jkJ5ScRcc5uh44YDhQS8vg\n",
              "3rR3QvIrwftg9yqweuOnc7ivBh6pfwd7dcS59YGxWozoAKws6zzVJrIJHiaowcIbf1tJeLviMF8G\n",
              "qpl7FXXdagFrUY67S+io4cdlBSVNENnNfq6MOUBaaTU4vfS2pp4JFPNGhpafYGkxKI3d28gcbhrs\n",
              "S6ErW0sPhyU/8fZ1Rh8Ne/eOtu6BfB9sY5DLbRHUvz5yTFCRCJU3rOf8leICHVJTJELCFVg3hcMB\n",
              "8Th6VRg9wyTc8S8J1uWrWE1gd/jYkMl3KcDDRrJRJjArwKBawyrt4hLrsOSIJvuRHUFy5OyjGdIq\n",
              "pYHf2pxrN4e4VPq+zXi5/9LjJI0yMFd5bmpGg1ajJNFN5dQOlsW2yBgy/z/c93K2HIs+dc4vsIJn\n",
              "8/MK8HSspKWxokKTkKBWtU5UtZb+gaq2HQztk4r1ugrSbYqJleLW26lZSnBJuOj02FGojRqx3lEE\n",
              "vYYtUfx13PvnXYzFrSwEVrYAUebNIjMX2oMwgDUvZ3o8j/RwpfVe7vlbr2RdyT7dSKhdLYULIPm7\n",
              "+g//KHjPrlVZC57mJWZ2PjccqCSPh0kbJhDp53G11JQSnwPPRDLySrrt8BQlAHAvGFZmMAzNQF1o\n",
              "JVhW4wNTtT6yHs3i6wXInw/AQOahyq/6b8fFeMefsH+PoaP6YTaIt6j7w6/K0LiZP+1M3karKEgo\n",
              "WKVoy6KPPYdsAdnf754r1QpQrRDBuqGhGVctiJMBctOOR76s/cdxZKZjvFLTyezeTD996MBSuiR+\n",
              "+EIZFkfL77OGcy1sIYvhoIqmtJN2Gv9lBG5GycVrFusWtiJ+sPFzWBnJe+pt9wJE5ET7ivTmB7j0\n",
              "AYaB778SZ2BTItyqdxBYcg+SqJMc01iHF2Uxt/a4s6UQnsn5sDqMvzsrV/meYF4r62AHGK6+Balq\n",
              "Qr7osKTRwZMBY2S7z0vu8+CyT9Ue1rJ00H0PvLJh12oUQ3FXj35T8yUPyJEtO3TEMvR9woKuqWur\n",
              "E+for9qUUB+nwvTpxrLe3KTEOvBjaYttt3S3yD9RShpPnwH/VBnmbIgv2QehzYejRzjZG1hMccXw\n",
              "JOKmSdANhqUC5j7CNzOlK7J7yXswzYPAeToRsmeLsoWufAELCk7nzQyUqZlA5AH3p7E8ylT+A8F+\n",
              "MnNQlGy6VOOUrd0+TJmVGn1IZL1/9wOpHjSQuY1a2jFKN253LrW3BjvKqmZjde/Ba58HJG7gDZ6e\n",
              "aRRR9n4Na824hLXhh1o/VaS83+PXpNDEhwgGcMuVjTEXx3nwPLMjB+07s36ZZWDmMXDSI2zkBYfc\n",
              "du0whVwEGuZ6U/GZLsZuu3Kn7etCo868hFVqUT79c66V2OjBe7Gmzw00/YVCwHwLUD5v+Dj489qS\n",
              "4QvKQ7p4ERkbyopz3nClKLtzm2DBgNE3Qz+7vdkP4Iw/9Zq81CR2DOlOoNojisyxx7cQlGKZC1Vf\n",
              "TGjlcuLQiEluYT5YJe/HX5IO1HmGTkxTR9naAH5kbdVA+Qce9P7KsJC/Xqbv/oR50he0IBOE5czz\n",
              "y214UKUD/RnYFTdKtZO43ljZQrcEhmd3VcSw5y9S3HSdLPajP5jAQv66nIg5SLDZ/R7j0r63G6Ek\n",
              "NV2CJcpc0VCr4fd6BFUTP7TumNn5a5XIrtyf+JMkNSHX+C7t3MWN1mMhIRqfbgSa/T3QkOw+e5Be\n",
              "CAJJXKuhEqqoDl2Q3LijoqBvpEpJ40OPE2lUzM+lxTXgQLYqMURCj2sxgRVnIjihlsSdkzOrQMav\n",
              "QhKiptk4fbwO2hHsHLCuel/o4Ag3TVc+L2pEVKHg4l9hetY80qfRXeOL6F1Qpb3QeP4lAiE/mMSM\n",
              "iRTSh/tQ+0Qb1RBFrv+k+1muO9BpIZhxVpPbDhUBxRajIGk4qcpP0+saxNVA8bEQwdnbRItk00bv\n",
              "B6klZh2aI/E1/94V0wJqFpjg4B8SMKTFGh7tH3gX5gS+JVikGQquzQpUzB/rgjEO/3HZTssyv0hG\n",
              "5WQ7DYgiW6NdMUKUuwBPOQ1Gjz0Fq1029O0bamlFRg/g0Sqy9TDNmHV3IiZWTuKm7M34JdUxfH6Y\n",
              "hUvzDUKnr40GQkEK++i5t//ls/KdHVaIarw4/VBLKHO1yT3YHjkqltZh6z5JjVVx1J8H8NlQBPWP\n",
              "Dx7skDMunffETrRUK7bL7utdK691GS2xNcDw9BXB5CG5V03SGln6SOGbD4Nk+zJ5NTmyFWogf9Ja\n",
              "/Wii+x6JTDw67Qb3I9pV5Tfw21hQ8UTF9Nqem2A2ihJMDheF5VhzKmg7GF+VMgrPoHEvdO1pOR7g\n",
              "vMiYm3N3YWr2glRzIBIJ9Kr2w9FzY/M166iWqw1aypjSdhDZth7yxJ8tmIAWMwc92SM8llprMLbB\n",
              "h0YNURwIDWSbEO8Dk3xKehJQCd9JVWyl5jhR5f28Ja3Eu0ElMuAgb3Bw2BfPkMsTTOUqeo7S8xM6\n",
              "lQBP9W9fUvik3S3vG9+JFdOVbSF1Ci3wRy/bNrs/MGBbrrDo7h7aUvEA0TB2hkEto8hWwGANvifl\n",
              "673eaghzFBszcT4DjGZrAvpY4Qxj9PDaXVk0/gEkfLeq3XARM4kH6JBm9E5Nh1I1k1MQskNPf1ny\n",
              "rRSPkuZTY7AMFagrsn92xXglxsxB8FDqX3UnWQKeo6dDUDU6qZFYGbzxvzG52CoY7o8Za70/8G9F\n",
              "bEXcGw8rbi2+wUg/fWgY2pBshGkkGy3PivP182LXGVYPVF9lE4KpbJbAdyWeG9Ar5CihuFDJPgB7\n",
              "MXOskirP2Q5FpM529Uyc5w0L1+NYUh0aqIxxwR0D1YZBn2ip6zDGw1x4Fkp7GOcf7ZznsoJSOuGX\n",
              "WpahdzQSEGr+mCesyAw7LMx/Lm2BWL+cV0B+GKi0Vy+mg1UVWYwTmrmOV4my/eubqXj/bYC2Xq5B\n",
              "7FGHq8fMoW7RDK/3D85XRNo6LsuHl1MmB3Rm2uz3Ckac2FbIG9KBBuhh/F17pZVTPTXe4eMSoflF\n",
              "/qP0hJKpevaEKwB/NBP5i63Wug75SlZo/izruc22VXSb3WJ3obftjuIEc4hyS7e4N1nsFN1c+y1x\n",
              "d86+TJLVph1+AOuAU21T9KNuZGyHQNrB1OXYhOjnOYJ17GEdWOHhm3nDB9+UHjPdDSft2Fqp7mme\n",
              "P3Jw3F7aRNC5G1T3+wTyTkzOqc4dmYvpQg4ghQBwYR6eyOMuA+gidT2GMKbbsUVUWwQ9AzkxF/zM\n",
              "jLmBTM+2H98Q1ZcfszxIAhpBlFuev+/Vdb/L852SESLxjhuzEOVM8bQcNrxxW9bX2neMF2zANw+W\n",
              "N5oH6FxK7appzNtKY60yxVf7hRIyg+gmZkpsQ7o9FW/03OzSwtXY+iw+PPU+h9UXqipI9FzlhD39\n",
              "OjYHrkfhvOITtBEp1Wq8Yk2yxhJbZvutyhzdrSySosvVuxfz0VDS6OA7UkoAacHjmrwJ9sL6KdiY\n",
              "4mzxX8fDz3MwbwdsszQyaPL7K1ZhHH6jw8Jer4qjZzOOipVc0QrzzaYgFO++DPYE4YTrdfC1BgkR\n",
              "1IivNFOTOFmJkG+w0ilFesYTuDkJsG26QDfcvKJ8LM1FHTzMBKE3JhMwpUrK+6/qVEByt6UxN4F4\n",
              "o5jpHIUCX7U1Ul1V5GJPMsi6VBec8M+tijUEfgcuH0qZqXnuSClmbHC5etxjVDwT5QwbGlrvIa3b\n",
              "6ghKIYmr4gWZ1yrQZD1fRzWedHdfgfL6/j2JvF6i3KI48CBKHm23ev5wE1v3SC+2rSm1KryP2Rrn\n",
              "oMDBGm/+9+jkBiCMTbo5ti2m2L23rxt2PHrl7UkHUTcVvkbWI4vOYZRpKaTikRfzIPGqEEAl4hLI\n",
              "+N/DuvBRw2txuWu/hDq7sVBKpW5i7UG0DuYjux6GtOfCMedRez59H9kAZ0J1QKqwsM94ryxm8MMs\n",
              "Y1QfTBEixHO55dLAevP/wZySDXc2wcd8SH7ayBsAn4GY+fZTKDa3zpUqUyK7Gd6YWk59gOGOqdd3\n",
              "Wbk+Uc7WRs1YHh+tQrYpB+1K9BBrV+KpHPn07plivToRgK2SHZro1p9BDZFoaeX7N7ilJWwaVOEk\n",
              "ycQgpSFrl0It0ZpRN6D0wh1AQdwEMyQP1y9KvwDsj+ucpOTaCFtwSsvHJTts7CCQArQ4E/WrG2rG\n",
              "ob4JmXO7DgM3c6gHp01rfuJGKLRUly0mJNb06vm0HSlqHuXo9Z3lWbfcQmpPy0y8WtGMVMORpHXK\n",
              "twTOEKfTXoS5eg3GeDtlsjM2ojoDr3C6gmNWgRE/V8IIBsXv2DLn9wQOFq+enxHuiWkfAWicwUgp\n",
              "NyDTWkUxDrVSfq0HG5kKHWu8aSpigF+vBNdJNDlhXg0M0eW+RlVkAH+14q92m6G2rfOOvxKyXSef\n",
              "ylMkzlEzVckhZPmM/dfkd3ZYEN9pMn5lvX2M5787OWDAkkmtAIMxd446V5scJup8nncSnnhYlFBh\n",
              "9rCM+6VodTiRiKBtX8MGVk5EsOD94ERSCCiNhq+yYIH+P7YMGd4bczHEg5qqyLyxVt2qRMItIjuo\n",
              "7qt9Sp97a9bV2ogr678oJqd29+Xyxl/4OY9MYKy+WY3k8zP9TJxPqSV5WhfJhvpkrWaS62BJ7FAX\n",
              "2W+W+Dbf9Rf2yfcvQ2DHzWqZCHAHDC+mrZIJSnyzA6AahmPJSwYhpey2FddmQtFgeTtwdnWIUbFN\n",
              "zTgrya5+WoR/i4JMahLYvkT0X7fCvW+xOTrNbFXuixdyN8f1hWuIvQMaLc/FDcB2JXp8Vr9AXeKS\n",
              "QHh8p3HNLIVhFx1JJU0vbrmMNxqk31idUsNy6eyoxIafsr+dRaoUg1N4pwyFbQTf5w0IFxBjhOLw\n",
              "YqidVVuL8Rgm75bBSre57t5vABRwt0T3WEI7AG8UE7sQEB/vur4/FzlG0NIkx6lrHtXjxS/xSCyV\n",
              "ZJtRnYSncL0KL4CSgnVlKIy6FvYy2CUcfH/kJC2AvxPvNnIZDl+tIbR+LOWDs2BtFPXggqhslOTE\n",
              "70pErU481Fbn7NwQu32dv7mkUscIN+ccHOI+V3RDw6/jwlzcrVIJat7uEtglfKA+vbiLH3X28lhb\n",
              "nbCnXe0nErRX5Tf5bP4Tr3KwU+zhwxUtHI4YrpmvVkPHx3MNangJnKltnwmgwkf1gf28SNm00Mws\n",
              "KqvUg4t07SuM+SNTFxrTIafk3BxztAaqjmOyvaQfk0yNRo02+JfilGyjJnPimZPzz5Qq0BRr8CTR\n",
              "xby/PAlU2S2CNKMlqVoFu/tkBhP3wrfxGmb8X4OvQ6zm8rguXWD+wgkz81HjFef21hxlxRJ37cN2\n",
              "a0uJaatjGubTfC1dKTqdLj0tDmu2SaSyyw12OwUdKftQvjNptX+jEACKNfN//tZfKwV1+dcSggrC\n",
              "KH8TC93KACZ9EH04qb9nWOPAdhzzvNHcN/HOec+MivFvQwKlbjbFCIeI3Ihw1KwHybrGmOQPb2OR\n",
              "kyQ4S2F32q3vUmJz/Cd+81HTrGeX7GbTACaQwOKRvilLJ+QF5o32rxxoF92SeFJOtQULa5DMbBkz\n",
              "5brkjXpikM0YY4SDMovtYj+MC27/Ky4yxR+gynGJCAgmY3CAm9VTDwhPNO6fNU5t2wiExJqTYRLf\n",
              "Wf8hJzDtzr1CGLHi7vdbzioPS0AoVn0W1F9xQ+8IrFf60krFXkSXOaCxnZGxOURvmxDUbhMKmpih\n",
              "fnIAGVfXx0uw/wBkVjJ5C3IGB6ekTRa0+UM3SfShfXgXhXUV02aw9UWLAXDc+1GAJjW2vX+00bHn\n",
              "oB9sAX44zO24E/58YDTAsm828CH1K/RyZ4RSwo8nbsqH/O3GaXAytLPpKOgZtEEqHTCjvrOBHhO/\n",
              "GJPvdsQ/ZFkwp9iIyE3es//iRoXG9pkICR5WzEUycdoPll9k0NB6+Eq7/sMkarTGDdgXHt+j32DF\n",
              "8MPiIhd4+XyhX8egWQ5bUWLRDDagi8x9E/t7JTyHqm+9kmQSERaSCu5OpUO+EwxITCPvfLv/Dmr0\n",
              "uN/B/Pu2oir3huutdIxN7vmvB0kb+4qX9tclcNLnSH2gIVfxzJy6DVBkrRig9kPs3jwwsJzAqA6A\n",
              "XzFnAsrlbINi8pc6q9lWGFhGMd5PR7DA0Ob7/m1WBgIOqaIWKLG4WwkgOiW+L6845ZvtvksrVJJ1\n",
              "Sum3MdDT5661KC1TQ4NHcVITj4f913fUa6PUNeOgzmONhM07xVN9BOp06AWgksDjGuHrRKxq5yoF\n",
              "z/nu7xyxyxRyNz1ZAmz0y7fXR2OTmTikCe5+6cm8DQ145XVEZnLLPNaT+JxQWVdorTPoKUoJWO98\n",
              "ZpskUjzP7+gNVVqaV+kBnT22jVmZC1qzD7Sb6LS8o8ORtCFtGMbEwMx7fVjwFb0hDutWppKKita1\n",
              "TNcpCcksb844IOxbvkTH4xqWm9NKl+r5WSilvxtXoCaa6/ObCcE7QwFbRqDH56cgV8v7+0hXPc+o\n",
              "wHGQq9Ha2Cpd+dOgUXSksb3iWxqF/oRLXUOkwbg+/FDTgARYFVHLNE2Je/dr4ix5xa5fuOr8qE+1\n",
              "+zMCV7IJgVqReTIyfNtvD2foDI8OXe8NZiAf2GnFQnQO9/+ww4RtpdgeCfT+PSanc3K58sYqveWl\n",
              "RH1TkItSZRkb3bqRVFQEzFYjbvQ20qUtGNk9HQ2q213PGdzSK45XceeV5RvT86Hm9TM+LfEczq77\n",
              "+OD8+JiZ1Wfd9d4eUKRTCHf0M2vbu3VuZdX/R1k62w7acR/nV+1sAaQLJlRj97tqHvOjOPVsiwPv\n",
              "97TVKHilyTQ1dLJxUET1tCi1R4U1tcLXH5py/EfqaX1z/OHmby82iTNOMucruRH2w8BkJXwm5eTR\n",
              "LnPtDvypV/zCzPDr2SKuQNiZJRpQWxKGlQ35J6TirAQ8nTYPxzZLvqbt/AL7/wCFUmo77I4P/x8O\n",
              "ePlzA3fpxWmKL/Kh7MJUdjBr5oH0ezKlYq8MWqsm/SQ4FVdjyvbeD3ZCEIkAH7YZklgYoMR1MhEu\n",
              "nkUVJ17zMGYusakVOrUo2dm3lp8Vys2I+w6cX4hF6K8pmzhRjzGI+NdUXhg4UzpNvbK3DrYDV3Dv\n",
              "x2muXJ/sR8ji3tDEIYttBdXX/pS2X9bt6uAp3UgtcM7edAPSe8HOKnSq+ZY94+ghYK79XrS50LKM\n",
              "eZc5lx37zoFRHtr4vYC2viOf+F9tavh0q76Fgy9nbJhjD304lJXTx4UuluNJhrhbStKQhQIWGu08\n",
              "7JaxBKM8ff/6+p9C8qKGhuNgeBOwfhNfkqZU2FzENCo9mu4C85fBvzyTRCCDwH1AJZKFtDJiBEIO\n",
              "xuAyquWv8QzFKOizIkeln+rutXCBtna5OGGnHghz7WACEB01/jBmYauQl3ILjYpUrsCEq57nBWdF\n",
              "qFR8kgKdjUaPa78QURyJ0zhSu6Q2ZiCpdfBqVTBGm7pdUUyWSzTW45Gwm+p+YauyPvquP/kRCPUZ\n",
              "KrNkDm0O/9AAw7fHhd42RXZLkNTqhKDWhEySz9NbiE6x58hEeXfY71KnYWaO8M4ikkY9CufKFu0U\n",
              "pvrC6JXGq+p94wrhhoaZY2/T6YLbQ3zQjA49Lqh5/ZIHypjCp9344tBblMXkNwIHy+WgbIeQbwIC\n",
              "d5IYenAHa+gE+WbUhdrXfbt0XrkaisJ8Io/03Ij9Vr10IkgFZ3Uj9PCSSujqvcio5BkR5zs+UBOy\n",
              "6f3p7faOP5BCmM64uKN02Ilnv00zZgq0P+NgTPxcglOKepHmHOEn0z4urBDDkbzbOc/TrwqnwmOM\n",
              "wz/8KbkGjXjVi/ytlI9A1/W2BqAB0QT3GvrQr5/QQJDUVEZxMKz2VF18nLdb8uzlpNmIbYmhdO2O\n",
              "FPG5/FinD5D++s4i0oLXTVP2+nl7sA+AlbsvK+nJIQpdSfi3rQDwnAM9WzXZ13iqp5/VMOBqLUoO\n",
              "pCZZszEaMyuiYV9bxyMC9sO9dMZfzxk51TLeYB3oa6OAQfdFVESBYCjjBsPZcoDiw94UP/YYfpnk\n",
              "ndM07lsyT/ehnyyBwP5Lu82Y55ZqJxwp6AKJVawDsYHQ5CNB8Z3ppwylcfUSKaz8g7knKWRgEqCu\n",
              "yC+JGGzEpuvBP//xyqDtYkwuawjXNDr8my5M4BPr9bjiaj3fIKLcfte+yP8W1HbByBCUMK7PxWue\n",
              "evbbVeAzBkAc4AAPIgkEJdcd4rIV8UA9dw6FPt+dWaBMRMiL5chltE3XCyX2hXkd42RAcK0ip1G6\n",
              "7RbeUmO7U10Jv7TrZk09thIrdw5uR2vKkQuDzwlgzDcoz3kUQ6eivkDRyko88m2Lka7eYQ14gJci\n",
              "62DuZTWd/lj+MAiir0mfEGlKKh+AKUUEsnPw8FAh4KI4/mCo+FkJK1+9T/yQBnI2rc2DfBnHzSWQ\n",
              "rRrrN27kPrp+t4CQ7rCySxpN7OCzQZcAt/Fp/2AALD9ra5flTZ1tt7wv++Zz0KsqLVYzJhJ+Zu/E\n",
              "Omp/PyTXFu4qbvbv4m7z8v7ZyeSqjJ7PnH+7mdSbCaNMJqyfMp99FzGNIAqR07/l2tDpO2tI9dzG\n",
              "/UsRV/iekSgLRUYdEMFeBWyZhP+ZSSFEXKuZl1+C2v6rWBfsL8df04dm7YMGIuCYpV8nP29tkrao\n",
              "CFJjtNxjqf93M2QhKipqYYKmksoz8Km3MG1jAMryTpg31HaEvZJwAO+Eq3o/mFd49Xu+7wrTBVQ/\n",
              "IuOW79Qxylk7wlUDDr78Li/G1TbSNn4il1tEqqUgeeMRh67t4mkLuXqaL8IQbCvFGZa1Xf+eUQ8W\n",
              "Sec26NgxODnNCPsMn29lTH8bhqVvAlEoPvbP6ojEQqXbaIQW7EbGXwnIMOPTCxec5FEO8khuhy2m\n",
              "Rw+JNqkzKWWxeeWwZ7K6sXs0TGWynRDnygPGhjMQ5JhNnCRyy1CyJNwfarU1F/eBQ+3BhW4yt1/A\n",
              "H2NWeu1b1OBbkb540e1T9pbqwDMix6Khl2C23LUYWoOtCIGroeNMV4Ab3Gt/FW78+YpETZUQ+z4d\n",
              "DEskovOxmf0exsRZTOdkntJk4ygp9gkHiz/25R7u9QSGB1bjtwatax9GzpWYUtHvpyJkYclSU/rl\n",
              "pQ6LZUORpBNgUwxfIIOzsFniJ1uqtxq/ZRwsgSEPx45IjrKP48S1rc49rFflFY0RwapptGlAgNFr\n",
              "QvlWR31ymR37EYGgbWNT6VfdjNgh5NzqJh/bXsb/xd/7K+jqayvNkTt6TTVx9M7m6ULK7NJJb0I4\n",
              "7IFzmm0wcrn9TdirhP+OgFz6uZ5eZHbSIa9SSSEeDrAcWMoCHQy9z2EO1UdptqyrGsEcYvbwUNff\n",
              "ZXtoJArWmcN6VkZ3BZ8h0JzShWoPBbMQdK2fg24cgre45dUdvlgJdP7ij/wBdsATN6I9LD//L5zk\n",
              "9JJ43IGAbiGE/9uKBIw5YhZ1LuvRhcOrNzMpxXxsbAIf3QZXo2T5VkyPtfoiKgr9hdwspsRVgeWj\n",
              "obaBmwG5FyfpxxbkpDhS6rfsNQiW4y8y2K3ojiDtzWJ5oftpvoBUXdvele2ZsW7FgEUPR6d3zTSi\n",
              "Lht78DpXtaB9oATIXEFhXvI8R22aGD172UPOgtOqfhjM6LPnGB9FNpJKCWormkeHVsWeZGm+DNhD\n",
              "QF8+7Xk3bbWc9BGcTLqr3eNBbPO236cTd9pHfYG2G5NmjyPjT49EHRezdEuyHOUxk7Bfi3w+nOMP\n",
              "yvbFA2Q9BDbn61mZVW6Gmeih7ZMowAeNsW6gl9B9R3ogBiLXUNyjb64P9cKiuLpyAGVr9m/XJgjj\n",
              "wngkBZQffNrEu8lhRtFGc4vCpMG0x+Ec+TSFdI2nfTklLz1HRJjTqg23xz9B8kZ5cVWbWipxR9HQ\n",
              "/2BpG94YvQ8jv1vbnhgu8KFGp4G2kCJrNWT7IgnLmr+gT4OS53XUVgr154M23/Njqc0Mn1wFEwSA\n",
              "6Xcm3ROz8P9XL3D+R1yQLKQsgAiM1l+zDVJvFACGh2gqk8Ld0fcAdqZasv59BHgPbmkZICCvIea6\n",
              "XZ+aVtqlhcTwVB/pjFfZOxrTMwPBD+Fe284HXOeF+LdxDzuKvCfORSlAGS5RtR1bfJkBwjzdT7K4\n",
              "T3cTd1oRw2xam0YAzfaJXjsR6B2Ei93OGOkryS2RU140nK1zP89s9UX8zj/B3reYZzc2vvd0P0GB\n",
              "iT8KhBN0unVEyFw+cnwT86fwm8p57+V7iZ/rJ+r8jj8Jzf+i77IxL9V4+N7lIQF6nFHc+4JDaNpD\n",
              "GclHA0ZI1MecCTPeJh6MqFLtOx7POV8FcGrtmjLFe+ut88RQupmekkgKIP1v1/s+zCOpt7RR5qVL\n",
              "S6Hi83ABZyTDoz/X+wWeeCmmQo5GCS9K0C+EWvcIJwnzUznDVYh72JLPmB+pfxLoR0cPm1U0qezT\n",
              "hNB9sg6ym4+0EiUAZtTgteG2BcY0OplmFS0x9K5wPHoWxsBI+aOx3/Ruxl9L56y2O/whIAAoI3E9\n",
              "24AAAIwAJ+EAAAOcQZojbEK//jhAZXUiWs59gqGw9X/h8BAuU/wuRp1Bkz9S0MXWocezj9Cv8ah5\n",
              "Xh1haBTPwqKqeHLhYRrTAYzwz/pQGqUrONGae75WQTZA6TwakhRj3/ZjNdipFB168itDGu4ahMps\n",
              "JG+u/TokPMOLPgmlBvoHVy8H1xa+hgeS4p+EQk1lnnRuJ5j/rMG1Q6O4YsGn1UhfFiznTUSoQM5w\n",
              "VmlyTdrgB4n9cBvkMqo0Hw13U/pllQo8ato5/HlO4rhjxywz7YdIpp4LByIxAfoI6suFHlf0zgp5\n",
              "mUMNeC8ru3bGHEXeem+pw35AVKwzGW4U6FhdWmr0tf4F4YJeulTEvY2h7ixrlUwbYkWa22rgsV54\n",
              "2Uohg6qLSWGNsQvvToKTCvz44ub7OCuvoZ/8JqVM5yJ+P+BXtZhBzZiXUam2iy6kBGflO9kZOlkA\n",
              "++MYMynqbW0uBR/PWuFA9xLAKmrmy9Pd4FOLE5e8ZPtRJVj2qnNYgzF0/cwOgmLksyw3isTQxfEO\n",
              "tgazQ9rCzZkOv8r3J6YX41S+ZrlxvTOC4JiusgNPdTfu2jVXCMrB/lCkkgpdzagsDz5L7QEv39w8\n",
              "ZYaEagx76aCGiUtISMYGPAph17AkuRe2UigfO/Ux9qGu5WoZTN1CkvZWZKK4W9MLdSPXdAw6CQ/y\n",
              "4d4YkAUVFLy1bfRpQ9gtZ9A2643qRgAY8wVOYwSP0datINcrcpL0ruFqT55/Q3Gc2+SnPzkN9AWZ\n",
              "oNlAXRQKuO6eEFPYjPZttKsf3cUjf2+nshgYc1mAt3VIuknHt2dzvU4jz480glD02dhRA2EKxlOp\n",
              "qxG2ItlNsMQgIrKGpp8+CBhTsjVnYsrF/x2aaXr03AYZZjJLXERyTTgdr+m+xMmG0pqeSX1isqtq\n",
              "8JxHot1bcr2cOkTzILaPiMcRp+66iyFpP7K2LAv/cDTmUf7yaatERBrn7O2tHGNH5a0KosaBF3MF\n",
              "5I/dBbohyAUv2HOvBhZmW5nIuxVKR3bqHU9MwmWN8bbgZfsBI4eiqyGtv+nlsw1po0nb6WczcWss\n",
              "0ZF4BQfXim5KEmsQv1gQv7Atl8Dy7xy/Dwg7bF6TGx8NLi0syhoAMvrYUXeAZYBm+zJHUX5n9zUT\n",
              "BAAuUS8Irwze2EbLJLDy6EYP+pZT3hpJvGYFh+UihGgaQoR5Z5jxBjTk5/kzDlxAv+/JveMCBK7z\n",
              "xsE3xXP8IHuNb0qPCtjkDIuxOf2ikCvgAAAAbEGeQXiEfwNo666qXpGeK9Zp7Gf4OY9PwwCHmgcy\n",
              "8SpqMvAXIGNI/cMkSISTdXOPwXIn2cbOtqwvfgo9H4Bt8G345HACWqxti4S7/kD3rEpHVlPfPHAc\n",
              "LGBohXezKe4MxVsuHYpyirZDlMsYsQAAADoBnmJqR/8H6jSmlFzOsPi8B5B5j7zR/CfNAPnvEkYE\n",
              "9QGx2XZgAAlQpg7/onDM4qzcaP7jXsHyuu/jAAAA80GaZUmoQWiZTBTwr/44QZ2pEtZz7BUHV561\n",
              "50hodxe7GBq7mcs8xIBkStn3s8o9GlgMii+KQXf3eygL+l1KqlJAV7+ZKx7T6+IppdMQeA2Qka9L\n",
              "tJydY2g2GH4/GpZeA6WJApED0kkTkhI9Facqd2N+skBrqbB/6C4S2qfwX0yVfj2TFyMReTd9tVyV\n",
              "OgU4SyeW1q74X6yHNScLYtFNPuKYeVau0UuYL3H5/X8yTQZ1Zko5XhR4obULcJn9yxu2tIx3FqwX\n",
              "z6JCi2piHBpg/on+aS7gEO5oJ2l3DV0YdxGWoSBA7gDk4UOPAgpXAfgzDU+CwQAAADsBnoRqR/8H\n",
              "5Ioyikqk3xUASuhE8gEwrmEb4klbDMU2JhmxzwhItkdZfj5oaQATi8zprRCEozvsbq6N8QAAAIBB\n",
              "moZJ4QpSZTAhf/6MsBUdzQa1OVvA3/nDwdnbvWn1AQMMgQA5YnU2d61zmiaURTfvjwjw8JLgk0nN\n",
              "W9+InP1M/2eCnJKuu1rpuj7PHbAqTfOe3Jvh5X0FYwhNb7rQx1P/f23KhusVGt8tPTUTyC4+9btN\n",
              "48JUKM9L1r5tdto5GQAAAIxBmqhJ4Q6JlMFNEwv//oywAAMo7tsA1K1GLbqCqbldBEHhjVZmS+/K\n",
              "6+/S19gN8Q1gZn0ZgZY6WRo3TaobqyJQYn/5cIYqsBUqbGxsUUFnYbZLkMJ2jhcQOfNWos0GTsrz\n",
              "/IqZ8Y5ChQeE75CBnqReEWsGkQZNANBRuFvcbqqnmOw2rfKXnpOG48evMQAAACQBnsdqR/8AcUJ4\n",
              "j7Fi3nyFi4ipgBuXLJ49ahHT9xiH9NGHsRsAAAB/QZrKSeEPJlMFPC///oywAAYp6dAA6R6QQuV7\n",
              "nEXcJvw/Mv0dzuWq/tIXCLD6/2maSRuRcGcfyFMdKtVGsjiaim6/a+lc1oYDZrVU+47fYv6d1nX4\n",
              "kFOmiVY9Im9xC244oep4w08dFh7to7T25ZclRaCu7gWhoY4TwKmZS+BDgAAAACkBnulqR/8AcUJ4\n",
              "j7Fi3n19F2UQfAC4nzRtNftu/GU+0DgMrJeRPVqvQQAAAJ9Bmu5J4Q8mUwIX//6MsAAMU7tsA0bT\n",
              "mZj6lQqwTwc/5SBBPFkXJ1d9PPUaq9WBRvzfNKLVMZB7wAFinpYfrO6KZjdyCHKq9aJQVpW4X+0R\n",
              "gu7xYW01MO677F2VRO+qAo47Aly9a4F6+Ocw0t+YGWzp/orYhMoilcM9356+nwGWl9yQbQj7eoBt\n",
              "GQc+0X0VS35isbrdjVmMavv03pv93AcAAAA0QZ8MRRE8I/8A3Nx5rqmFoji5iM+aJC+EAw6NwAtW\n",
              "+9ppiCMLhIGX4Bz8I51tYGp8LPL1bAAAABoBnyt0R/8AI6xBlLfvDgAnY7jnWmi/e1mlcQAAABcB\n",
              "ny1qR/8AI78f0YNV1hyv763YoMpoQQAAAK1BmzJJqEFomUwIX//+jLAAGAenQAOkeuBILLh9SBTd\n",
              "wu/oFwJmuRhf8qc9jykdW6JX/1+WJnUiE3PJAkBzCzsQslMorhjwpPA0egD20y7NlJwOZzDw2ZMX\n",
              "jTDS/JUQ2UAjX82rSi1M4Bu491hLU8Y6HzXS+HTXUrYyQSyxvO+Ei7R3YeABLA2/11ElOhhLK/DP\n",
              "P2rlWI1jh7+O3e9y8ZrzLo5CKPHGr7Z9eSZfsQAAACpBn1BFESwj/wDc3HuawuR7zCd86t/UN+B4\n",
              "Q4AFxc+teFTykfBjBdWuC2gAAAAhAZ9vdEf/ACOsQw3TIAIAAFrmfiYSvittv4QRgN6fcu68AAAA\n",
              "GgGfcWpH/wAjvyFgkgzwAlSPUQ56SDh3I0BTAAAAOUGbc0moQWyZTAhf//6MsAAYB94YBNKJw0CI\n",
              "zr4tVlUe433lPS+0cdZsgrsYkraxZ//NgSspo6lEcAAAAItBm5dJ4QpSZTAhf/6MsAAwDsc+nG29\n",
              "JuB/XEauIBmn6B+pPrCDJrM34W7nG7q5NAu+5Ar3WIVPcEQC1jVeQhgbYry8UZ7miN2h9ITI/zg4\n",
              "/xUfvJCmgrZm5tqeYKqO6wycFth/0Skg+CooLo27GHs2QdgnqhJMainxbbX9xI0PQcfji5ECXeb4\n",
              "l8tAAAAAMEGftUU0TCP/ANzce4e97IbCnP9hUSYzBCgAC0A2MqaqXGIrWUdOpubxLnUJ5ksaywAA\n",
              "ABkBn9R0R/8AI6xF2AogAEzXa2MvVovb36qAAAAAHwGf1mpH/wAjvypY/+34SgAJtplDCg4pDRn4\n",
              "Nr1vywkAAACHQZvbSahBaJlMCF///oywAC7p4JoIf1lvXANOfAaXwQXpBazejhMNoDfxXhxOtn3A\n",
              "tA2EMxooWmIzYIDWoNBBfRZHKyHcmBy+BjxmVPwQ6cv8AJ29MVyxptrI3xYPL9GwK8TvWG5pVriD\n",
              "JeEbGbz7j3p6OpE/73eGJa9Iz/xzxxJYMaa+9+XxAAAALkGf+UURLCP/ANzce5rC5HvMJ3zsgI6K\n",
              "AA9mk2rEV5D/Izps5lVZZspFucMq4f4AAAAhAZ4YdEf/ACOsUiR7QTxiwAcbU2tsmUjQZomutUvO\n",
              "r6bxAAAAIgGeGmpH/wAjvylb4q55gYAGmSsYezEBrH/W0kre044Gx6EAAAAkQZocSahBbJlMCF//\n",
              "/oywAC34Ew/NccAUEthorTa6DgI/kJuBAAAAUkGaP0nhClJlMCGf/p4QAC1sb3wJaOATX14Idjmx\n",
              "GuzG0Tjd+TLwlFFdxKPnhno3nTrQhOLthRxw4piylSG34qnFgES8QxmIzR9gGyvJRSUQWUEAAAAq\n",
              "QZ5dRTRMI/8AkwU8khJ3KLpmdhugLpGaAFkkdhxru0p7N7fczTakDBLAAAAAHQGefmpH/wAjvyiI\n",
              "OuAC4qNO0HTTmKuZHXin9s07AAAAaEGaY0moQWiZTAhn//6eEABatzPImfXgtHktC6+vDRIDvqgz\n",
              "lYcbxDu0UqKsnP47za3HbW/wwdvAnvsF0XNXfKcEIM2M8dF2n/FeQ1lTidhxT1vlKuCJSm89KzYs\n",
              "cMT4D3tPXOVkgY/xAAAAMkGegUURLCP/ANzce5rC5HvMKRXhbEBbgATMINGhm8HeayX3AHP0buI7\n",
              "cNXrWgiVAruJAAAAFgGeoHRH/wAugo4qO4npxCvg0mjxVT8AAAAeAZ6iakf/AC2DIy81igBGApK3\n",
              "j4+ER2UNbI++ZSloAAAAREGap0moQWyZTAhf//6MsABZa97RoQAATujoyuiCIIPgfby7u21ztM0A\n",
              "3lh8/N8uYqe2jeTamO41wlcBbOV8yvfwYoOPAAAALUGexUUVLCP/ANzce5rC5HvMKNW64AC4tol1\n",
              "bI4hIBretHSggqBsR84rvgd3QQAAACABnuR0R/8ALNsa5G0AwAtlUCZYZa7Z6RUcOdVAZJRBRQAA\n",
              "ABUBnuZqR/8ALV7NemsbJtGjeF4LTuEAAABZQZrrSahBbJlMCF///oywAIwjgnhszgE19BCZJ5Yt\n",
              "MoQ487X59m+EoKgZZy0kLocw5jDu7iWgsheQaXClmxV6NyjpxtbwVoCP6sZ4s4joL/AQeWQCY8pJ\n",
              "KrAAAAAiQZ8JRRUsI/8A3Nx7msLke8wowzL36Lf5Dq/vg0LYuXy+4AAAABUBnyh0R/8ALUg+6ODv\n",
              "KrZWrv1il3EAAAAPAZ8qakf/ACO/HmPMxm2AAAAAW0GbL0moQWyZTAhf//6MsABZWpLAAM+VsgTS\n",
              "+GuPeh6fuRLYn/Ix7qBEE35zEMa3kmYxb1feiAJov7D00bDHcwf5JSu+qwHVFGraRxaicQVNaUuh\n",
              "dXsRakAR4W0AAAApQZ9NRRUsI/8A3Nx7msLke8wo2g1QAmWqM62hFvcjxj4ENzyRwBROuzEAAAAM\n",
              "AZ9sdEf/AADiRTKDAAAAEwGfbmpH/wAtab+4J7bKLmtPnYEAAABhQZtwSahBbJlMCF///oywAFd3\n",
              "xrdtRmVMBAFrPEDX62T5HhvK9W66AbB24NFAyCueICY4GWmzKZm+bc5o2YzpR60VKibyE+LcmMtm\n",
              "s828nix/LDP3zvhjs+e70FLWJhrPtgAAAD1Bm5NJ4QpSZTAhf/6MsABW2YCI0aIduAC0mMJyqNih\n",
              "3zHL+l5cxKZkgCj0Noso0LcXbomt9FSH0PNBig6YAAAAKkGfsUU0TCP/AJMFPJISdykTnADb8AJp\n",
              "V3cYt8X6FJHUX0biwrOSAzpftQAAABQBn9JqR/8ALCNz75NEgDPjkNkG+AAAAEtBm9VJqEFomUwU\n",
              "8M/+nhAAVlhEzgEw5iKkVzqq71BebyPEbslkvzRFu55l8TqKZ7gGuA9zJ5N4//fPyzoiFOrtkbqQ\n",
              "texk2rkwUEAAAAAmAZ/0akf/AOh3yFRq8i9zBUHOABM04SiUv3Mw1mSrrrds/mk2pWEAAABrQZv5\n",
              "SeEKUmUwIZ/+nhAAU/J0YAh7s4T4OlpXns826DkA8A68jnFcD9CnV9dwEk2d2wLv2oBLvPX0MjTL\n",
              "AXu6il5a0a61TNo78Pv+a6zxw4e8NdaVPtZSzAzuOUauMQn1WzLsTIxph2hJBFwAAAA0QZ4XRTRM\n",
              "I/8A3Nx7h73shsKdtIoABcEJS+SV5ftiMQI8kPC46bKEq/6MhCO9i+jVrkJndQAAABwBnjZ0R/8A\n",
              "KqEiiACZhZ8LaNo1mSkT7t0Gc99DAAAAFgGeOGpH/wAqGdRIzx70EsS3cRD56WAAAABRQZo9SahB\n",
              "aJlMCGf//p4QAFPxuOAK1MA0XKfNAF+vZ/zVMPnI5Zb6tfrggPyoAN1aL20kqwMu3xYRRtwPiDX0\n",
              "0sFJVh0YW65jmiYrnY8LNQIfAAAAIkGeW0URLCP/ANzce5rC5HvMKHFXCQNiNisR+5mUByskyCAA\n",
              "AAASAZ56dEf/ACOsTYiRyUW+pXB5AAAAHQGefGpH/wArU+qACatTD9wMMF1ogHvWKJgbN5RBAAAA\n",
              "RUGaYUmoQWyZTAhn//6eEABT8bjgCtUuJ+HXVgNXs+hYbdJLy0qwlhk99arNXBtXwtFGYk6ahxPd\n",
              "UkhstnqDvmif6gDegAAAACdBnp9FFSwj/wDc3HuawuR7zChxv+ABLTbxlUuQDTkElAvwID5eJBwA\n",
              "AAAWAZ6+dEf/ACsjEWJz/fRZaQaWwNcdYQAAABoBnqBqR/8AK1McAB+mpF3vwyWZXS02KrYM4AAA\n",
              "ADxBmqVJqEFsmUwIZ//+nhAAU/G44ArTzh/+BeGTYFQXbuKTvGAOLbuaE73s8i3eViJTwRQ4kEYt\n",
              "J8FQRcEAAAAhQZ7DRRUsI/8A3Nx7msLke8woa1oehc4QpJeLC23zaETAAAAAEAGe4nRH/wAjrECK\n",
              "J2Upl78AAAAPAZ7kakf/ACO/HmPMxm2BAAAAL0Ga6UmoQWyZTAhn//6eEAAqAJbncAi2QSY2bg6O\n",
              "MqxTq3QSTM8IfDAt3H0zyYUlAAAAHUGfB0UVLCP/ANzce5rC5HvMJ3zqaXAkCcel5AfNAAAAEgGf\n",
              "JnRH/wAjrE2kAclGZEvH2AAAABEBnyhqR/8AI78mQvPBvfdJgAAAAD1Bmy1JqEFsmUwIZ//+nhAA\n",
              "U/DrgCCagvM7b12K4xVUvRjpy99bCSyqRumATjYzHPBLBLC4D9dxPxPn4OOBAAAAKUGfS0UVLCP/\n",
              "ANzce5rC5HvMKDz2gAWcCoo+Ee5n6Bc9hJgyKf0Ky6hiAAAAGwGfanRH/wAqIHbAAlkQ1YeAN8Lu\n",
              "KslKF1J1FwAAABEBn2xqR/8AKhnUSNRQu/08qQAAAFVBm3FJqEFsmUwIZ//+nhAAU/NB4AiY+4Wd\n",
              "gNbj7rVcbO5jJ8GXfx6BFEcx6b5T7dStdRi4N+TFNhsG44SfyflyIehXIM/oyqGBVE1eYK4vh6IX\n",
              "PwcdAAAAIkGfj0UVLCP/ANzce5rC5HvMKE/HMX75fcLhc+DQoF3jk+kAAAAdAZ+udEf/ACs9nIf2\n",
              "eAAugAwc25TjHHVDdHhkRbwAAAAPAZ+wakf/ACO/HmPMxm2AAAAAE0GbtUmoQWyZTAhf//6MsAAA\n",
              "B1UAAAAdQZ/TRRUsI/8A3Nx7msLke8wnfOppcCQJx6XkB8wAAAAQAZ/ydEf/ACOsQIonZSmXvgAA\n",
              "AA8Bn/RqR/8AI78eY8zGbYEAAAAfQZv5SahBbJlMCF///oywAFSZk04MAHEMBRHaa+QVMAAAAB5B\n",
              "nhdFFSwj/wDc3HuawuR7zChr7MgBfrF3xxsGaTsAAAASAZ42dEf/ACsjEzdQLG1mp8jxAAAADwGe\n",
              "OGpH/wAjvx5jzMZtgAAAADFBmj1JqEFsmUwIV//+OEABRrsGgBa6ohHss8geBgnnKxL4y7kpb5b2\n",
              "XjTT9n99SQNTAAAAHkGeW0UVLCP/ANzce5rC5HvMKHFZ3yEODJ4NjYPO0wAAABABnnp0R/8AI6xA\n",
              "iidlKZe/AAAAEgGefGpH/wArOdLYsPxPJFofSQAAAEFBmmFJqEFsmUwIT//98QADIrmwgAuL6sHf\n",
              "UWx2bdjAtuOLBYEtEfWxSnyqQkfg1RjrG3xnoBMok5GL5qpRui5CbgAAACxBnp9FFSwj/wDc3Hua\n",
              "wuR7zChq7Z4w+RQAtpI7mONw+q09/geadJcWe3nxTAAAABQBnr50R/8AKyK5W6xl+UnXcqp3gQAA\n",
              "AA8BnqBqR/8AI0vM9FNswroAAAAuQZqiSahBbJlMCEf//eEABNaaZ8oALhBvw5nv6m1zl8NOkMLj\n",
              "R357Zqni7CBBwQAAACNBmsNJ4QpSZTAj//yEABLZ1eSKp4AS1NUIPthFaVbr75Ai4AAAB75tb292\n",
              "AAAAbG12aGQAAAAAAAAAAAAAAAAAAAPoAAAH0AABAAABAAAAAAAAAAAAAAAAAQAAAAAAAAAAAAAA\n",
              "AAAAAAEAAAAAAAAAAAAAAAAAAEAAAAAAAAAAAAAAAAAAAAAAAAAAAAAAAAAAAAAAAAACAAAG6HRy\n",
              "YWsAAABcdGtoZAAAAAMAAAAAAAAAAAAAAAEAAAAAAAAH0AAAAAAAAAAAAAAAAAAAAAAAAQAAAAAA\n",
              "AAAAAAAAAAAAAAEAAAAAAAAAAAAAAAAAAEAAAAABsAAAASAAAAAAACRlZHRzAAAAHGVsc3QAAAAA\n",
              "AAAAAQAAB9AAAAIAAAEAAAAABmBtZGlhAAAAIG1kaGQAAAAAAAAAAAAAAAAAADIAAABkAFXEAAAA\n",
              "AAAtaGRscgAAAAAAAAAAdmlkZQAAAAAAAAAAAAAAAFZpZGVvSGFuZGxlcgAAAAYLbWluZgAAABR2\n",
              "bWhkAAAAAQAAAAAAAAAAAAAAJGRpbmYAAAAcZHJlZgAAAAAAAAABAAAADHVybCAAAAABAAAFy3N0\n",
              "YmwAAACzc3RzZAAAAAAAAAABAAAAo2F2YzEAAAAAAAAAAQAAAAAAAAAAAAAAAAAAAAABsAEgAEgA\n",
              "AABIAAAAAAAAAAEAAAAAAAAAAAAAAAAAAAAAAAAAAAAAAAAAAAAAAAAAAAAY//8AAAAxYXZjQwFk\n",
              "AB7/4QAYZ2QAHqzZQbCWhAAAAwAEAAADAZA8WLZYAQAGaOvjyyLAAAAAHHV1aWRraEDyXyRPxbo5\n",
              "pRvPAyPzAAAAAAAAABhzdHRzAAAAAAAAAAEAAABkAAABAAAAABRzdHNzAAAAAAAAAAEAAAABAAAD\n",
              "EGN0dHMAAAAAAAAAYAAAAAEAAAIAAAAAAQAABAAAAAACAAABAAAAAAEAAAMAAAAAAQAAAQAAAAAB\n",
              "AAACAAAAAAEAAAMAAAAAAQAAAQAAAAABAAADAAAAAAEAAAEAAAAAAQAABQAAAAABAAACAAAAAAEA\n",
              "AAAAAAAAAQAAAQAAAAABAAAFAAAAAAEAAAIAAAAAAQAAAAAAAAABAAABAAAAAAEAAAIAAAAAAQAA\n",
              "BQAAAAABAAACAAAAAAEAAAAAAAAAAQAAAQAAAAABAAAFAAAAAAEAAAIAAAAAAQAAAAAAAAABAAAB\n",
              "AAAAAAEAAAIAAAAAAQAABAAAAAACAAABAAAAAAEAAAUAAAAAAQAAAgAAAAABAAAAAAAAAAEAAAEA\n",
              "AAAAAQAABQAAAAABAAACAAAAAAEAAAAAAAAAAQAAAQAAAAABAAAFAAAAAAEAAAIAAAAAAQAAAAAA\n",
              "AAABAAABAAAAAAEAAAUAAAAAAQAAAgAAAAABAAAAAAAAAAEAAAEAAAAAAQAAAgAAAAABAAAEAAAA\n",
              "AAIAAAEAAAAAAQAAAwAAAAABAAABAAAAAAEAAAUAAAAAAQAAAgAAAAABAAAAAAAAAAEAAAEAAAAA\n",
              "AQAABQAAAAABAAACAAAAAAEAAAAAAAAAAQAAAQAAAAABAAAFAAAAAAEAAAIAAAAAAQAAAAAAAAAB\n",
              "AAABAAAAAAEAAAUAAAAAAQAAAgAAAAABAAAAAAAAAAEAAAEAAAAAAQAABQAAAAABAAACAAAAAAEA\n",
              "AAAAAAAAAQAAAQAAAAABAAAFAAAAAAEAAAIAAAAAAQAAAAAAAAABAAABAAAAAAEAAAUAAAAAAQAA\n",
              "AgAAAAABAAAAAAAAAAEAAAEAAAAAAQAABQAAAAABAAACAAAAAAEAAAAAAAAAAQAAAQAAAAABAAAF\n",
              "AAAAAAEAAAIAAAAAAQAAAAAAAAABAAABAAAAAAEAAAUAAAAAAQAAAgAAAAABAAAAAAAAAAEAAAEA\n",
              "AAAAAQAABQAAAAABAAACAAAAAAEAAAAAAAAAAQAAAQAAAAACAAACAAAAABxzdHNjAAAAAAAAAAEA\n",
              "AAABAAAAZAAAAAEAAAGkc3RzegAAAAAAAAAAAAAAZAAANNoAAAOgAAAAcAAAAD4AAAD3AAAAPwAA\n",
              "AIQAAACQAAAAKAAAAIMAAAAtAAAAowAAADgAAAAeAAAAGwAAALEAAAAuAAAAJQAAAB4AAAA9AAAA\n",
              "jwAAADQAAAAdAAAAIwAAAIsAAAAyAAAAJQAAACYAAAAoAAAAVgAAAC4AAAAhAAAAbAAAADYAAAAa\n",
              "AAAAIgAAAEgAAAAxAAAAJAAAABkAAABdAAAAJgAAABkAAAATAAAAXwAAAC0AAAAQAAAAFwAAAGUA\n",
              "AABBAAAALgAAABgAAABPAAAAKgAAAG8AAAA4AAAAIAAAABoAAABVAAAAJgAAABYAAAAhAAAASQAA\n",
              "ACsAAAAaAAAAHgAAAEAAAAAlAAAAFAAAABMAAAAzAAAAIQAAABYAAAAVAAAAQQAAAC0AAAAfAAAA\n",
              "FQAAAFkAAAAmAAAAIQAAABMAAAAXAAAAIQAAABQAAAATAAAAIwAAACIAAAAWAAAAEwAAADUAAAAi\n",
              "AAAAFAAAABYAAABFAAAAMAAAABgAAAATAAAAMgAAACcAAAAUc3RjbwAAAAAAAAABAAAALAAAAGJ1\n",
              "ZHRhAAAAWm1ldGEAAAAAAAAAIWhkbHIAAAAAAAAAAG1kaXJhcHBsAAAAAAAAAAAAAAAALWlsc3QA\n",
              "AAAlqXRvbwAAAB1kYXRhAAAAAQAAAABMYXZmNTcuODMuMTAw\n",
              "\">\n",
              "  Your browser does not support the video tag.\n",
              "</video>"
            ]
          },
          "metadata": {
            "tags": []
          }
        }
      ]
    }
  ]
}