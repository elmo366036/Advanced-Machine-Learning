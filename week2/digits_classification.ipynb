{
 "cells": [
  {
   "cell_type": "code",
   "execution_count": 1,
   "metadata": {
    "colab": {
     "base_uri": "https://localhost:8080/",
     "height": 344
    },
    "colab_type": "code",
    "collapsed": false,
    "deletable": true,
    "editable": true,
    "id": "Jn-_rmvvLIfq",
    "outputId": "268b821f-8a70-42a3-9f72-dd8355d7e30f"
   },
   "outputs": [
    {
     "name": "stdout",
     "output_type": "stream",
     "text": [
      "shred: setup_google_colab.py: failed to open for writing: No such file or directory\n",
      "--2020-01-27 13:24:30--  https://raw.githubusercontent.com/hse-aml/intro-to-dl/master/setup_google_colab.py\n",
      "Resolving raw.githubusercontent.com (raw.githubusercontent.com)... 151.101.0.133, 151.101.64.133, 151.101.128.133, ...\n",
      "Connecting to raw.githubusercontent.com (raw.githubusercontent.com)|151.101.0.133|:443... connected.\n",
      "HTTP request sent, awaiting response... 200 OK\n",
      "Length: 3636 (3.6K) [text/plain]\n",
      "Saving to: ‘setup_google_colab.py’\n",
      "\n",
      "setup_google_colab. 100%[===================>]   3.55K  --.-KB/s    in 0s      \n",
      "\n",
      "2020-01-27 13:24:30 (77.9 MB/s) - ‘setup_google_colab.py’ saved [3636/3636]\n",
      "\n",
      "**************************************************\n",
      "inception_v3_weights_tf_dim_ordering_tf_kernels_notop.h5\n",
      "**************************************************\n",
      "cifar-10-batches-py.tar.gz\n",
      "**************************************************\n",
      "mnist.npz\n"
     ]
    }
   ],
   "source": [
    "! shred -u setup_google_colab.py\n",
    "! wget https://raw.githubusercontent.com/hse-aml/intro-to-dl/master/setup_google_colab.py -O setup_google_colab.py\n",
    "import setup_google_colab\n",
    "# please, uncomment the week you're working on\n",
    "# setup_google_colab.setup_week1()\n",
    "setup_google_colab.setup_week2()\n",
    "# setup_google_colab.setup_week2_honor()\n",
    "# setup_google_colab.setup_week3()\n",
    "# setup_google_colab.setup_week4()\n",
    "# setup_google_colab.setup_week5()\n",
    "# setup_google_colab.setup_week6()"
   ]
  },
  {
   "cell_type": "code",
   "execution_count": 0,
   "metadata": {
    "colab": {},
    "colab_type": "code",
    "collapsed": true,
    "deletable": true,
    "editable": true,
    "id": "d70NL4taLGcO"
   },
   "outputs": [],
   "source": [
    "# set tf 1.x for colab\n",
    "%tensorflow_version 1.x"
   ]
  },
  {
   "cell_type": "markdown",
   "metadata": {
    "colab_type": "text",
    "deletable": true,
    "editable": true,
    "id": "In7UIgQnLGcp"
   },
   "source": [
    "# MNIST digits classification with TensorFlow"
   ]
  },
  {
   "cell_type": "markdown",
   "metadata": {
    "colab_type": "text",
    "deletable": true,
    "editable": true,
    "id": "xYDHLGfTLGcw"
   },
   "source": [
    "<img src=\"https://github.com/hse-aml/intro-to-dl/blob/master/week2/v2/images/mnist_sample.png?raw=1\" style=\"width:30%\">"
   ]
  },
  {
   "cell_type": "code",
   "execution_count": 3,
   "metadata": {
    "colab": {
     "base_uri": "https://localhost:8080/",
     "height": 53
    },
    "colab_type": "code",
    "collapsed": false,
    "deletable": true,
    "editable": true,
    "id": "XIIlZed-LGcx",
    "outputId": "b1e99f4f-782f-4b74-84c3-2e0b8a38e94d"
   },
   "outputs": [
    {
     "name": "stdout",
     "output_type": "stream",
     "text": [
      "We're using TF 1.15.0\n"
     ]
    },
    {
     "name": "stderr",
     "output_type": "stream",
     "text": [
      "Using TensorFlow backend.\n"
     ]
    }
   ],
   "source": [
    "import numpy as np\n",
    "from sklearn.metrics import accuracy_score\n",
    "from matplotlib import pyplot as plt\n",
    "%matplotlib inline\n",
    "import tensorflow as tf\n",
    "print(\"We're using TF\", tf.__version__)\n",
    "\n",
    "import sys\n",
    "sys.path.append(\"../..\")\n",
    "import grading\n",
    "\n",
    "import matplotlib_utils\n",
    "from importlib import reload\n",
    "reload(matplotlib_utils)\n",
    "\n",
    "import grading_utils\n",
    "reload(grading_utils)\n",
    "\n",
    "import keras_utils\n",
    "from keras_utils import reset_tf_session"
   ]
  },
  {
   "cell_type": "markdown",
   "metadata": {
    "colab_type": "text",
    "deletable": true,
    "editable": true,
    "id": "QQwXr_GgLGc7"
   },
   "source": [
    "# Fill in your Coursera token and email\n",
    "To successfully submit your answers to our grader, please fill in your Coursera submission token and email"
   ]
  },
  {
   "cell_type": "code",
   "execution_count": 0,
   "metadata": {
    "colab": {},
    "colab_type": "code",
    "collapsed": true,
    "deletable": true,
    "editable": true,
    "id": "D8Qyi_nRLGc-"
   },
   "outputs": [],
   "source": [
    "grader = grading.Grader(assignment_key=\"XtD7ho3TEeiHQBLWejjYAA\", \n",
    "                        all_parts=[\"9XaAS\", \"vmogZ\", \"RMv95\", \"i8bgs\", \"rE763\"])"
   ]
  },
  {
   "cell_type": "code",
   "execution_count": 0,
   "metadata": {
    "colab": {},
    "colab_type": "code",
    "collapsed": true,
    "deletable": true,
    "editable": true,
    "id": "IZcNAsfLLGdH"
   },
   "outputs": [],
   "source": [
    "# token expires every 30 min\n",
    "COURSERA_TOKEN = \"hHgYCCt4DkMJyz3V\"\n",
    "COURSERA_EMAIL = \"cooper.chastain@att.com\""
   ]
  },
  {
   "cell_type": "markdown",
   "metadata": {
    "colab_type": "text",
    "deletable": true,
    "editable": true,
    "id": "Olfa8vk_LGdR"
   },
   "source": [
    "# Look at the data\n",
    "\n",
    "In this task we have 50000 28x28 images of digits from 0 to 9.\n",
    "We will train a classifier on this data."
   ]
  },
  {
   "cell_type": "code",
   "execution_count": 7,
   "metadata": {
    "colab": {
     "base_uri": "https://localhost:8080/",
     "height": 53
    },
    "colab_type": "code",
    "collapsed": false,
    "deletable": true,
    "editable": true,
    "id": "XlNHBB74LGdW",
    "outputId": "0b4d7d2f-7ebc-40fd-96c9-9f6654f2dfa1"
   },
   "outputs": [
    {
     "name": "stdout",
     "output_type": "stream",
     "text": [
      "Downloading data from https://s3.amazonaws.com/img-datasets/mnist.npz\n",
      "11296768/11490434 [============================>.] - ETA: 0s"
     ]
    }
   ],
   "source": [
    "import preprocessed_mnist\n",
    "X_train, y_train, X_val, y_val, X_test, y_test = preprocessed_mnist.load_dataset()"
   ]
  },
  {
   "cell_type": "code",
   "execution_count": 8,
   "metadata": {
    "colab": {
     "base_uri": "https://localhost:8080/",
     "height": 695
    },
    "colab_type": "code",
    "collapsed": false,
    "deletable": true,
    "editable": true,
    "id": "Cqx3B8A6LGdd",
    "outputId": "28fcea89-90e0-48ca-c2a1-b468f91cfdbf"
   },
   "outputs": [
    {
     "name": "stdout",
     "output_type": "stream",
     "text": [
      "X_train [shape (50000, 28, 28)] sample patch:\n",
      " [[0.         0.29803922 0.96470588 0.98823529 0.43921569]\n",
      " [0.         0.33333333 0.98823529 0.90196078 0.09803922]\n",
      " [0.         0.33333333 0.98823529 0.8745098  0.        ]\n",
      " [0.         0.33333333 0.98823529 0.56862745 0.        ]\n",
      " [0.         0.3372549  0.99215686 0.88235294 0.        ]]\n",
      "A closeup of a sample patch:\n"
     ]
    },
    {
     "data": {
      "image/png": "[encoded data removed]",
      "text/plain": [
       "<Figure size 432x288 with 1 Axes>"
      ]
     },
     "metadata": {
      "tags": []
     },
     "output_type": "display_data"
    },
    {
     "name": "stdout",
     "output_type": "stream",
     "text": [
      "And the whole sample:\n"
     ]
    },
    {
     "data": {
      "image/png": "[encoded data removed]",
      "text/plain": [
       "<Figure size 432x288 with 1 Axes>"
      ]
     },
     "metadata": {
      "tags": []
     },
     "output_type": "display_data"
    },
    {
     "name": "stdout",
     "output_type": "stream",
     "text": [
      "y_train [shape (50000,)] 10 samples:\n",
      " [5 0 4 1 9 2 1 3 1 4]\n"
     ]
    }
   ],
   "source": [
    "# X contains rgb values divided by 255\n",
    "print(\"X_train [shape %s] sample patch:\\n\" % (str(X_train.shape)), X_train[1, 15:20, 5:10])\n",
    "print(\"A closeup of a sample patch:\")\n",
    "plt.imshow(X_train[1, 15:20, 5:10], cmap=\"Greys\")\n",
    "plt.show()\n",
    "print(\"And the whole sample:\")\n",
    "plt.imshow(X_train[1], cmap=\"Greys\")\n",
    "plt.show()\n",
    "print(\"y_train [shape %s] 10 samples:\\n\" % (str(y_train.shape)), y_train[:10])"
   ]
  },
  {
   "cell_type": "markdown",
   "metadata": {
    "colab_type": "text",
    "deletable": true,
    "editable": true,
    "id": "rMhkDnURLGdi"
   },
   "source": [
    "# Linear model\n",
    "\n",
    "Your task is to train a linear classifier $\\vec{x} \\rightarrow y$ with SGD using TensorFlow.\n",
    "\n",
    "You will need to calculate a logit (a linear transformation) $z_k$ for each class: \n",
    "$$z_k = \\vec{x} \\cdot \\vec{w_k} + b_k \\quad k = 0..9$$\n",
    "\n",
    "And transform logits $z_k$ to valid probabilities $p_k$ with softmax: \n",
    "$$p_k = \\frac{e^{z_k}}{\\sum_{i=0}^{9}{e^{z_i}}} \\quad k = 0..9$$\n",
    "\n",
    "We will use a cross-entropy loss to train our multi-class classifier:\n",
    "$$\\text{cross-entropy}(y, p) = -\\sum_{k=0}^{9}{\\log(p_k)[y = k]}$$ \n",
    "\n",
    "where \n",
    "$$\n",
    "[x]=\\begin{cases}\n",
    "       1, \\quad \\text{if $x$ is true} \\\\\n",
    "       0, \\quad \\text{otherwise}\n",
    "    \\end{cases}\n",
    "$$\n",
    "\n",
    "Cross-entropy minimization pushes $p_k$ close to 1 when $y = k$, which is what we want.\n",
    "\n",
    "Here's the plan:\n",
    "* Flatten the images (28x28 -> 784) with `X_train.reshape((X_train.shape[0], -1))` to simplify our linear model implementation\n",
    "* Use a matrix placeholder for flattened `X_train`\n",
    "* Convert `y_train` to one-hot encoded vectors that are needed for cross-entropy\n",
    "* Use a shared variable `W` for all weights (a column $\\vec{w_k}$ per class) and `b` for all biases.\n",
    "* Aim for ~0.93 validation accuracy"
   ]
  },
  {
   "cell_type": "code",
   "execution_count": 9,
   "metadata": {
    "colab": {
     "base_uri": "https://localhost:8080/",
     "height": 53
    },
    "colab_type": "code",
    "collapsed": false,
    "deletable": true,
    "editable": true,
    "id": "ltHo3LFCLGdp",
    "outputId": "b271b910-2629-460c-ea2e-46ee3d0caf87"
   },
   "outputs": [
    {
     "name": "stdout",
     "output_type": "stream",
     "text": [
      "(50000, 784)\n",
      "(10000, 784)\n"
     ]
    }
   ],
   "source": [
    "X_train_flat = X_train.reshape((X_train.shape[0], -1))\n",
    "print(X_train_flat.shape)\n",
    "\n",
    "X_val_flat = X_val.reshape((X_val.shape[0], -1))\n",
    "print(X_val_flat.shape)"
   ]
  },
  {
   "cell_type": "code",
   "execution_count": 10,
   "metadata": {
    "colab": {
     "base_uri": "https://localhost:8080/",
     "height": 90
    },
    "colab_type": "code",
    "collapsed": false,
    "deletable": true,
    "editable": true,
    "id": "UoGLCh-DLGdv",
    "outputId": "3693f534-57c4-4895-cc88-8ab3f8fa4d28"
   },
   "outputs": [
    {
     "name": "stdout",
     "output_type": "stream",
     "text": [
      "(50000, 10)\n",
      "[[0. 0. 0. 0. 0. 1. 0. 0. 0. 0.]\n",
      " [1. 0. 0. 0. 0. 0. 0. 0. 0. 0.]\n",
      " [0. 0. 0. 0. 1. 0. 0. 0. 0. 0.]] [5 0 4]\n"
     ]
    }
   ],
   "source": [
    "import keras\n",
    "\n",
    "y_train_oh = keras.utils.to_categorical(y_train, 10)\n",
    "y_val_oh = keras.utils.to_categorical(y_val, 10)\n",
    "\n",
    "print(y_train_oh.shape)\n",
    "print(y_train_oh[:3], y_train[:3])"
   ]
  },
  {
   "cell_type": "code",
   "execution_count": 11,
   "metadata": {
    "colab": {
     "base_uri": "https://localhost:8080/",
     "height": 255
    },
    "colab_type": "code",
    "collapsed": false,
    "deletable": true,
    "editable": true,
    "id": "3bMZNbebLGd1",
    "outputId": "d566b970-774c-457a-b187-8970f5e70517"
   },
   "outputs": [
    {
     "name": "stdout",
     "output_type": "stream",
     "text": [
      "WARNING:tensorflow:From /content/keras_utils.py:68: The name tf.get_default_session is deprecated. Please use tf.compat.v1.get_default_session instead.\n",
      "\n",
      "WARNING:tensorflow:From /usr/local/lib/python3.6/dist-packages/keras/backend/tensorflow_backend.py:79: The name tf.reset_default_graph is deprecated. Please use tf.compat.v1.reset_default_graph instead.\n",
      "\n",
      "WARNING:tensorflow:From /usr/local/lib/python3.6/dist-packages/keras/backend/tensorflow_backend.py:82: The name tf.placeholder is deprecated. Please use tf.compat.v1.placeholder instead.\n",
      "\n",
      "WARNING:tensorflow:From /usr/local/lib/python3.6/dist-packages/keras/backend/tensorflow_backend.py:84: The name tf.get_default_graph is deprecated. Please use tf.compat.v1.get_default_graph instead.\n",
      "\n",
      "WARNING:tensorflow:From /content/keras_utils.py:75: The name tf.ConfigProto is deprecated. Please use tf.compat.v1.ConfigProto instead.\n",
      "\n",
      "WARNING:tensorflow:From /content/keras_utils.py:77: The name tf.InteractiveSession is deprecated. Please use tf.compat.v1.InteractiveSession instead.\n",
      "\n"
     ]
    }
   ],
   "source": [
    "# run this again if you remake your graph\n",
    "s = reset_tf_session()"
   ]
  },
  {
   "cell_type": "code",
   "execution_count": 0,
   "metadata": {
    "colab": {},
    "colab_type": "code",
    "collapsed": true,
    "deletable": true,
    "editable": true,
    "id": "KjFHWmKFLGd9"
   },
   "outputs": [],
   "source": [
    "# Model parameters: W and b\n",
    "#W = ### YOUR CODE HERE ### tf.get_variable(...) with shape[0] = 784\n",
    "#b = ### YOUR CODE HERE ### tf.get_variable(...)\n",
    "W = tf.get_variable('W', shape=(784,10), initializer=tf.contrib.layers.xavier_initializer())\n",
    "b = tf.get_variable('b', shape=(10, ), initializer=tf.zeros_initializer())\n",
    "\n",
    "# initialize W with xavier and b with zeros"
   ]
  },
  {
   "cell_type": "code",
   "execution_count": 0,
   "metadata": {
    "colab": {},
    "colab_type": "code",
    "collapsed": true,
    "deletable": true,
    "editable": true,
    "id": "AZx1Z5VPLGeH"
   },
   "outputs": [],
   "source": [
    "# Placeholders for the input data\n",
    "#input_X = ### YOUR CODE HERE ### tf.placeholder(...) for flat X with shape[0] = None for any batch size\n",
    "#input_y = ### YOUR CODE HERE ### tf.placeholder(...) for one-hot encoded true labels\n",
    "input_X = tf.placeholder(tf.float32, shape=(None, 784), name='input_X')\n",
    "input_y = tf.placeholder(tf.float32, shape=(None, 10), name='input_y')"
   ]
  },
  {
   "cell_type": "code",
   "execution_count": 0,
   "metadata": {
    "colab": {},
    "colab_type": "code",
    "collapsed": true,
    "deletable": true,
    "editable": true,
    "id": "DcdnXj8gLGeO"
   },
   "outputs": [],
   "source": [
    "# Compute predictions\n",
    "#logits = ### YOUR CODE HERE ### logits for input_X, resulting shape should be [input_X.shape[0], 10]\n",
    "#probas = ### YOUR CODE HERE ### apply tf.nn.softmax to logits\n",
    "#classes = ### YOUR CODE HERE ### apply tf.argmax to find a class index with highest probability\n",
    "logits = tf.matmul(input_X, W) + b\n",
    "probas = tf.nn.softmax(logits)\n",
    "classes = tf.argmax(probas, axis=1)\n",
    "\n",
    "# Loss should be a scalar number: average loss over all the objects with tf.reduce_mean().\n",
    "# Use tf.nn.softmax_cross_entropy_with_logits on top of one-hot encoded input_y and logits.\n",
    "# It is identical to calculating cross-entropy on top of probas, but is more numerically friendly (read the docs).\n",
    "#loss = ### YOUR CODE HERE ### cross-entropy loss\n",
    "loss = tf.reduce_mean(tf.nn.softmax_cross_entropy_with_logits(labels=input_y, logits=logits))\n",
    "\n",
    "# Use a default tf.train.AdamOptimizer to get an SGD step\n",
    "#step = ### YOUR CODE HERE ### optimizer step that minimizes the loss\n",
    "step = tf.train.AdamOptimizer().minimize(loss)"
   ]
  },
  {
   "cell_type": "code",
   "execution_count": 34,
   "metadata": {
    "colab": {
     "base_uri": "https://localhost:8080/",
     "height": 309
    },
    "colab_type": "code",
    "collapsed": false,
    "deletable": true,
    "editable": true,
    "id": "dHShq5_wLGeS",
    "outputId": "e50aab65-45b5-4451-af33-69146e76f5d3",
    "scrolled": false
   },
   "outputs": [
    {
     "data": {
      "text/html": [
       "<img src=\"data:image/jpeg;base64,/9j/4AAQSkZJRgABAQEASABIAAD/2wBDAAIBAQEBAQIBAQECAgICAgQDAgICAgUEBAMEBgUGBgYFBgYGBwkIBgcJBwYGCAsICQoKCgoKBggLDAsKDAkKCgr/2wBDAQICAgICAgUDAwUKBwYHCgoKCgoKCgoKCgoKCgoKCgoKCgoKCgoKCgoKCgoKCgoKCgoKCgoKCgoKCgoKCgoKCgr/wAARCAEgA2ADASIAAhEBAxEB/8QAHwAAAQUBAQEBAQEAAAAAAAAAAAECAwQFBgcICQoL/8QAtRAAAgEDAwIEAwUFBAQAAAF9AQIDAAQRBRIhMUEGE1FhByJxFDKBkaEII0KxwRVS0fAkM2JyggkKFhcYGRolJicoKSo0NTY3ODk6Q0RFRkdISUpTVFVWV1hZWmNkZWZnaGlqc3R1dnd4eXqDhIWGh4iJipKTlJWWl5iZmqKjpKWmp6ipqrKztLW2t7i5usLDxMXGx8jJytLT1NXW19jZ2uHi4%2BTl5ufo6erx8vP09fb3%2BPn6/8QAHwEAAwEBAQEBAQEBAQAAAAAAAAECAwQFBgcICQoL/8QAtREAAgECBAQDBAcFBAQAAQJ3AAECAxEEBSExBhJBUQdhcRMiMoEIFEKRobHBCSMzUvAVYnLRChYkNOEl8RcYGRomJygpKjU2Nzg5OkNERUZHSElKU1RVVldYWVpjZGVmZ2hpanN0dXZ3eHl6goOEhYaHiImKkpOUlZaXmJmaoqOkpaanqKmqsrO0tba3uLm6wsPExcbHyMnK0tPU1dbX2Nna4uPk5ebn6Onq8vP09fb3%2BPn6/9oADAMBAAIRAxEAPwD9/KKKKACiiigAooooAKKKKACiiigAooooAKKKKACiiigAooooAKKKKACiiigAooooAKKKKACiiigAooooAKKKKACiiigAooooAKKKKACiiigAooooAKKKKACiiigAooooAKKKKACiiigAooooAKKKKACiiigAooooAKKKKACiiigAooooAKKKKACiiigAooooAKKKKACiiigAooooAKKKKACiiigAooooAKKKKACiiigAooooAKKKKACiiigAooooAKKKKACiiigAooooAKKKKACiiigAooooAKKKKACiiigAooooAKKKKACiiigAooooAKKKKACiiigAooooAKKKKACiiigAooooAKKKKACvPfjt%2B1J8FP2b5NGsfil4g1Maj4ilnTQNB8OeF9R1zVNR8lVed4bHTbee5kjiVkMkixlI96biu5c%2BhV4N%2B0P8D/j5/wANJ%2BDv2tv2bLLwfrWueH/B2seFNX8KeOdcutLtLywv7mwuxcQXtraXj288U2noCpt3WVJSCUKK1ABpf/BTL9izWLvxPb2nxXv0h8FWsk/jLUrvwXrEFjoIS0iu9l5dy2iwWsrQzRskMjrJIWKorMrKL2n/APBQ/wDZK1HwBrXxFTx/q9vB4f1ay0vVdE1DwNrNrrkV5ebfscC6PNaLqEr3AYGER27eaAxTcFYjy2b9gH4y%2BMf2a/jn8NfGHinwppHin4o/FS38daHc6U1xeWFpeW0OiywQ3IkihkkiN3pRRwoyYHGDuJVaPi79i/8AaV%2BLmr/Ef45fG34S/CjWvFnjWx8KaPp/gKy%2BI2s2Wm6fY6Hcaldw3qa7b6al5DqDXOqTOksVoPJSKNFZiWcgHsviH9vv9mzwv4a8OeI9XvvG3meK0v5NE8P2vwm8SXGuSRWUscV3NJpMWntf28MLzQq8s0CIpmiy37xM%2Bmaz8RPBHhv4e3XxX8T%2BJbbSvDljo76rf6vqrfZYbSySIzPPMZdvlKsYLNvxtAOcYNfGHin9hH9s/WPgX4X8Nay3hfxV470a58RHRfGV/wDHbxNpGr%2BCLW%2BuUktLO11q1sJLzXIYkjhEy3qw/aTbReYCFGPUfjR/wTotfj1%2Bzb4n%2BHHxD%2BOfjW78d%2BMPhfH4Z17xS3jbWho818tpDE2oJoS3y2FuzzQLK3kRRSEPIBIrSM5AOkg/4KUfsZf8K58V/FbWPite6Jo3giysr7xQ/ifwdq%2Bk3NlZXkxhtb37LeWsVxJaSyK6pcxxtC3luQ%2BEYjj/AI3f8FZP2d/hn8ENU%2BMfgPRfFXiqbQfiD4X8L674Y/4QXXbHU7A6zqVrax3T2cmnNdeV5Fw88DeT5d48aW8MhknjB8r1T/gmJ8ZPHfwq8faR4i8DeG9G8Y%2BI9D0fR7DxDqv7RfjPxut3aWusW%2BoTRyf27AfsEZ8likUSzHe%2BGkxknv8A9qH9gz40/GD4g/F/4g%2BBfEPheOTxfB8LbzwlZ6tfXMSvf%2BE/EdzrUsN40dvJ5ENwGt4VljEzrl2MfyKrgHqFh/wUE/Zb1H4m2XwZh8T%2BJo/Fd5oun6xLoF38N9egudO0%2B9adILu/SSyU6dDut5VeS68pYiFEhQum6j4a/wCCmH7FPi3wZ4s%2BIWkfGC4TR/Bfgi68Zaxe6h4S1W0Fx4et0Z5tWsVntUbVLNVQ4nsxPGxZArEugbB0P9kP4ofEP4mfG74g/G9fD2gxfGj4O%2BHfCF1Y%2BE9duNRl0u4tE11Ltlnns7XzYwNViMT7FZikm6OPA3fN37Y37Kn7UOj/ALDHxS%2BJv7TF34AtIfhD%2BxT8QfBHhePwFqF5cNrzXukWxn1G6W5toBYqE0i3CWcbXAVppCZ22oKAPrPw9/wUl/Yy8TaHrHiPT/i1dQWehppU1/JqnhLVbJmtNSu1s7HUIUuLVGubCWdgovoQ9qoDO0qorMPT9E%2BLvw88R/FLX/gvofiH7T4k8LaXp%2Boa/YR2k22zgvmuBa7pinlF3%2ByzHy1cyKoRmVVkjLfJOofsz%2BIPFegeKfjb/wAFIvF/wz8J%2BBbf9nu5%2BHUlx4f8QTLay6beyQyXmq3k17BbpYOTBbCG2QzCAmT/AEiQsuOw/wCCPngP4u2f7I9r8f8A9pDUDf8AxJ%2BL15H4n8V6g9nJbtJCLSCy01fKl%2BeH/iX2lpI0TYKSzTZAYtkA%2BqqKKKACiiigAooooAKKKKACiiigAooooAKKKKACiiigAooooAKKKKACiiigAooooAKKKKACiiigAooooAKKKKACiiigAooooAK8R0j/AIKMfse6ld69Z6n8Urzw83hzw5c%2BINQk8a%2BEdV0GObSbd0jnv7WTUrWBb63R5IlaW2MqAyxjOXXPtN7FczWcsNndCCZ4mWKYx7/LYjhtp64POO9fmJq//BHL9uX4v6t4X1z43fHHQ31vw14P1Cz1DxRqHxW8TeJx4h1v7ZpV9a6idLvoobLSbaS50xfPsLIBRHJtWWQKgUA%2B2X/b/wD2YbX4aN8WNY8QeKtK0ttcg0axs9c%2BGWv2GqanfzIZIYLLTbixS9v2kQM6/Z4ZAyo7AkIxHReA/wBqz4H/ABH1%2By8J%2BHPEOqQ6vf8AhSfxJDpGteFdS0y7TTYbv7JLLLDeW8UkDrP8hhkVZe%2BzbzXk3xO%2BDn7bvxib4e/G3XPBvwq0P4h/Cjx1NrHh/wAM2vjjUr/Rdcs7jSbvTLmO4vn0qGaxmKXskkbpa3AjMQU%2BYJGxV%2BJPwG/bg1/4y%2BHf2mvA%2BjfCu08WX3ww1XwX4x0LUvFepSWGkLcX8N1a39lcJpwk1AxCN1kt5YrQSlxiWLHIB3Gk/wDBRv8AZA8R694F8LeFfiNqus6n8SfBuleLfBunaJ4H1m9nvND1F9lrqMiQWjNa2%2B7HmSTiNbcMpm8oMCdj4a/tufs3fFf4jXPwn8M%2BL9Ws9ft9LudThsvE/gzVtEW/sbeRI57uyl1G1gjv4I3liDy2zSIvmISQGUnyj9hT9hL4sfsw6/8ADjWfHniDw1dnwd%2Byl4R%2BGN%2B%2BkXM8rNq2lvM1zNF5kEe61bemxmKu235o0wK8a%2BGn/BKv9sbxP8UfC/ib9qb4w2eqRaf4A8V%2BF/GniaD4v%2BJNavPEUur2KW39p2umX0Men6EcqWNpaKUXKgTOI1WgD6l8J/8ABRf9kfxrosfirQfHeuf2Hcarpen6f4lvfh/rdrpWoy6lex2VlJaX09mlteQS3M0UYuIJHhBlQs4VgT6X4W%2BLvw88a/EDxT8LvC/iH7XrnguSzj8T2iWkwWxkuoPtEEZlZBG7tCVkKIzMiyRlgokTd8w%2BOPAnxF8K/wDBPbxp8CP%2BChnif4VeCPAWg/DSLQLb4meHfFt2GadI0trXUntLqzgTTZlmFvJDBHcXTGcoiOTtDdr/AMEr/h98WPDf7ImlfFX9oqwS3%2BJ3xYvpfHXxEhW3aL7Pf36xmG02N8yfZbGOys9pyQLXBoA%2BjaKKKACiiigAooooAKKKKACiiigAooooAKKKKACiiigAooooAKKKKACiiigAooooAKKKKACiiigAooooAKKKKACiiigAooooAKKx/iB8RPh/8JvB1/8AET4p%2BOtG8M%2BH9LiEmp674g1OKys7RCwUNLNMypGCzKMsQMkDvVe9%2BLPwr034aL8aNR%2BJfh%2B38HNpUepr4sn1mBNMNjIiul0Lov5XksjKwk3bSGBBwaAOgrxf49eP/wBov/hovwL8CPgL4z8FeH01/wAFeJde1fU/F/gu71ok6dd6Hbwwwx2%2BpWPlhv7UlZmZnz5aABeSfTPhz8T/AIafGLwlb%2BPvhH8Q9C8U6Fds62mteHNWhvrSYoxVwk0LMjFWBU4PBBBryb4i60ll/wAFKvhDosijF78E/iGyNnndHq3g04/JmP4Um0ty4QlUdo9m/u1Zf/4Qf/goX/0dB8Gf/DD6t/8ANRR/wg//AAUL/wCjoPgz/wCGH1b/AOaivZqKZB4z/wAIP/wUL/6Og%2BDP/hh9W/8Amoo/4Qf/AIKF/wDR0HwZ/wDDD6t/81FezUUAeM/8IP8A8FC/%2BjoPgz/4YfVv/moo/wCEH/4KF/8AR0HwZ/8ADD6t/wDNRXs1FAHjP/CD/wDBQv8A6Og%2BDP8A4YfVv/moo/4Qf/goX/0dB8Gf/DD6t/8ANRXs1FAHjP8Awg//AAUL/wCjoPgz/wCGH1b/AOaij/hB/wDgoX/0dB8Gf/DD6t/81FezUUAeM/8ACD/8FC/%2BjoPgz/4YfVv/AJqKP%2BEH/wCChf8A0dB8Gf8Aww%2Brf/NRXs1FAHjP/CD/APBQv/o6D4M/%2BGH1b/5qKP8AhB/%2BChf/AEdB8Gf/AAw%2Brf8AzUV7NRQB4z/wg/8AwUL/AOjoPgz/AOGH1b/5qKP%2BEH/4KF/9HQfBn/ww%2Brf/ADUV6p4xnmtfCOq3VtKySR6bO0bqcFWEbEEe%2Ba858b/tAfsNfC3xPc%2BA/iX8cPhT4f1uwEYvdI1/xPptreQb41kTzI5pA6lkdXBYcqwPIINZ1a1GjHmqSUV5tL82jswWXZjmdV0sHRnVkldqEJzaW17QhN2u1ra2q11KP/CD/wDBQv8A6Og%2BDP8A4YfVv/moo/4Qf/goX/0dB8Gf/DD6t/8ANRVf/hr/AP4Jwf8AR0XwR/8AC20f/wCO0f8ADX//AATg/wCjovgj/wCFto//AMdrD6/gP%2Bf0P/A4f/JHqf6pcWf9C7Ef%2BE9f/wCUFj/hB/8AgoX/ANHQfBn/AMMPq3/zUUf8IP8A8FC/%2BjoPgz/4YfVv/mor0LxXpHw%2B8IeFtS8Wah4HtJrfS9Pmu54rLRPtEzpGhdljiijZ5HIUgIiszHAAJIFeFfAz9vj9jr43eF/hhfWvgXXtK1/4q%2BHLfWfD/hW8%2BFOrtdLbv9jWWdythtFpFJfW6NfEi1IfeJdmWHWfPnZ/8IP/AMFC/wDo6D4M/wDhh9W/%2Baij/hB/%2BChf/R0HwZ/8MPq3/wA1FZU/7V/7LF7oeoahoGiw2t7pOveHNO1HS/GngXVtAuI11nVYtNs51hutO8%2BSOWZ5EilWIwPLEyPNCqySx2Ph5%2B1v%2BxD8UvG978P/AAhrdib6wbWlludT8F3thYSvpF2bTU0hvbq1jtrhraZSsqxSuUA3kbPmoAu/8IP/AMFC/wDo6D4M/wDhh9W/%2Baij/hB/%2BChf/R0HwZ/8MPq3/wA1FT/tCfEzwV8Ivhzonij4f/Cvw/4t1jxf4h03RPBum/aYrS01C6vXGySS7SGbyrdIRLcPIkcreXE2xHYqpi%2BCXxFsvjZ8DtX8e6Z8BNDs/F%2Bh6lrWi6j4Qkvo2txrOnXM9q8CXv2dd1vLJCrR3BhVvKmR2iVt0YAG/wDCD/8ABQv/AKOg%2BDP/AIYfVv8A5qKP%2BEH/AOChf/R0HwZ/8MPq3/zUV458Tf28D8GPh941vfil%2BzV8NNH8U%2BBviB4a8M6wlz8RhH4ahXWTamK6l1eTSkkgEMdyHljezBUbCCVlV60PjD%2B2npvwt1j4Q%2BEU%2BGvwDbUfit4c1jVbbWNd%2BMo0/wAPhrKfTIorax1D%2Bx5W1GW4Gpq6AQQ8QSY3cUAep/8ACD/8FC/%2BjoPgz/4YfVv/AJqKP%2BEH/wCChf8A0dB8Gf8Aww%2Brf/NRXK6z%2B1L8O5f2wX/ZO8F%2BBvhg9zpVzZ23iCXxT44g0rVJbie3W7aHS9NFnM%2BpPDaSwTSFpLdALhFVmIfZx3jv9vnwd8IfHvxO8C/Ef4EeANRm%2BHHw%2B1XxZeJ8PfG8Ws3FlDaS26Q2msRS2FqNHubpLpZYVZ5kZLa7bftg3OAet/8ACD/8FC/%2BjoPgz/4YfVv/AJqKP%2BEH/wCChf8A0dB8Gf8Aww%2Brf/NRXE6H%2B1t4RsPDPxE0n4nfAjwrafEH4faxpukv4N8Ja6mrQ6xe6pbwy6VBbXctnbMHneYRN5sEYiKPI2YQJTxMv/BQ2z1H4CeEfjl4P/Y90PUluvgRa/Fn4i6XJ4jSF/D2iTRCTyLN/sDf2ndkR3nlxutqji0bdJGXRSAe2f8ACD/8FC/%2BjoPgz/4YfVv/AJqKP%2BEH/wCChf8A0dB8Gf8Aww%2Brf/NRXMeKv2sPhRpH7XPhX9mTw38G9L1bTNW0%2B8l8SeNRJFFb6LcppzajBZiLyW%2B0Svap50g3xmGOe1bD%2BeAvl2o/8FItP8N/A/VfjR43/ZF8L6NFe/DKx8f/AA9tr3xfGsWq6Hc3kFtnUZjp4/su4hF3ZyzRqt1Gq3ACyuUcAA94/wCEH/4KF/8AR0HwZ/8ADD6t/wDNRR/wg/8AwUL/AOjoPgz/AOGH1b/5qK8p%2BLP7c3g/4RfAbwP8Ydf8C/Al4vG%2BvXVhD4oX4vIvgmwjht7idZJvEB0niSXyDFHH9lw0pKb%2BMm54m/bp8A6T4b%2BB%2BoaT%2By552rfFt/Dlzr2g6kYbSbwbpurzwWsVxdHyX3zfabhY47fEZmEF0wZRbuKAPSv%2BEH/4KF/9HQfBn/ww%2Brf/ADUUf8IP/wAFC/8Ao6D4M/8Ahh9W/wDmorz74LftlfD74ofFT4peFfEXgT4S6Nofws1HW7fWha/EBb7xJHBp03lm8uNGXTU%2BzW8iq7h/tLn7oAbdxJ8Bv2zfhd8UPgb4p/aK8a/D34cWHh7QrS1ntdM8F%2BNbfxHrKSzgmPTb%2B0htIks9TZmt4ltI5rnfNN5auSoLgHe/8IP/AMFC/wDo6D4M/wDhh9W/%2BaiqHgfxx%2B1Z4O/as8OfBH43fEf4e%2BJtG8TfD3xDrkM3hX4eX2i3VpdabfaJborPcavfJLG6apKSoRGDRIQ2Mgyfs1fFK1/aL/ZUg%2BPGsfBXTvBGuTDWILrRLO%2BjvW027sL66s2C3SQxeZ89qWDBFHzY5Aybfjj/AJSF/C//ALIz48/9O3hCgD2aiiigAooooAKKKKACvnH4TeKv27/jro%2BveO/C/wAb/hJoGl2/xC8VaHpelX/wf1S/uIrXS9ev9MhaW4TxFAssjx2auzLFGu5yAoAFfR1eM/sH/wDJENc/7LN8R/8A1NdboAP%2BEH/4KF/9HQfBn/ww%2Brf/ADUUf8IP/wAFC/8Ao6D4M/8Ahh9W/wDmor2aigDxn/hB/wDgoX/0dB8Gf/DD6t/81FH/AAg//BQv/o6D4M/%2BGH1b/wCaivZqKAPGf%2BEH/wCChf8A0dB8Gf8Aww%2Brf/NRR/wg/wDwUL/6Og%2BDP/hh9W/%2BaivZqKAPGf8AhB/%2BChf/AEdB8Gf/AAw%2Brf8AzUUf8IP/AMFC/wDo6D4M/wDhh9W/%2BaivZqKAPGf%2BEH/4KF/9HQfBn/ww%2Brf/ADUUf8IP/wAFC/8Ao6D4M/8Ahh9W/wDmor2aigDxn/hB/wDgoX/0dB8Gf/DD6t/81FH/AAg//BQv/o6D4M/%2BGH1b/wCaivZqKAPGf%2BEH/wCChf8A0dB8Gf8Aww%2Brf/NRR/wg/wDwUL/6Og%2BDP/hh9W/%2BaivZqKAPGf8AhB/%2BChf/AEdB8Gf/AAw%2Brf8AzUUf8IP/AMFC/wDo6D4M/wDhh9W/%2BaivZqKAPGf%2BEH/4KF/9HQfBn/ww%2Brf/ADUUf8IP/wAFC/8Ao6D4M/8Ahh9W/wDmor2aigDxn/hB/wDgoX/0dB8Gf/DD6t/81FH/AAg//BQv/o6D4M/%2BGH1b/wCaivZqKAPGf%2BEH/wCChf8A0dB8Gf8Aww%2Brf/NRR/wg/wDwUL/6Og%2BDP/hh9W/%2BaivZqKAPGf8AhB/%2BChf/AEdB8Gf/AAw%2Brf8AzUUf8IP/AMFC/wDo6D4M/wDhh9W/%2BaivT9d%2BIHgPwvN9n8TeNtI06TGdl9qUUJx9HYVg6h%2B0n%2BzrpKGTVPj74KtlHVrjxVaIB%2BclZyrUYfFJL1aX6mM8Rh6fxTS9Wl%2BbRx3/AAg//BQv/o6D4M/%2BGH1b/wCaij/hB/8AgoX/ANHQfBn/AMMPq3/zUVpXf7dP7Eenym3v/wBsb4VwSDqk3xC01T%2BRnqlqP/BQr9g3Src3N1%2B2f8LWUdrfx5p8zf8AfMcpP6Vg8fgFvWh/4HH/AOSMHmeWR3rw/wDA4f8AyZF/wg//AAUL/wCjoPgz/wCGH1b/AOaij/hB/wDgoX/0dB8Gf/DD6t/81Fcj4h/4LBf8E1fDG7%2B0v2tPD8u3r/Z1rd3n5eRC%2Bfwrnv8Ah9x/wT6vPn8NePfE%2BtR/wzaX4A1V1b6brda55Z1k8HZ4iF/8Sf5NnHPiLIIO0sXTv/ji/wAmz0//AIQf/goX/wBHQfBn/wAMPq3/AM1FH/CD/wDBQv8A6Og%2BDP8A4YfVv/morzD/AIfMfsuXZ2%2BHvhr8XNXbsmm/DK9Yn/voLR/w9v8ADNzzon7BH7T%2BpqfuvYfCF2DfTdOKn%2B3Mo6Vk/RSf5QZP%2BsmRdMRF%2Bik/ygz0/wD4Qf8A4KF/9HQfBn/ww%2Brf/NRR/wAIP/wUL/6Og%2BDP/hh9W/8Amory6f8A4KySWUTXeof8E2P2q4bdRkyn4Sj5R6sPtPFcprn/AAXa%2BCWkyGyT9kr45x3S/fi1bwhaWKRn0Z5bzCn8KifEGT01edZL1U1%2BcEdGHzfA4yXLh3Kb7RpVpP7o0JM98/4Qf/goX/0dB8Gf/DD6t/8ANRR/wg//AAUL/wCjoPgz/wCGH1b/AOaivlvVf%2BC%2BGixE/wBkfsvIv9xNd%2BLvh/TnP1V52Irk/EH/AAcJeMtPyLX9lDwXCnaeb4/6Vc/%2BQ7aF2rlnxXkMN63/AJLL/I97DZVxFjXbC5Xjal/5cFjH/wC6yX4n2h/wg/8AwUL/AOjoPgz/AOGH1b/5qKP%2BEH/4KF/9HQfBn/ww%2Brf/ADUV8CT/APBxf8SLi4Nrp/wn%2BHMUmeIm17V7oj8YbDB/A1ND/wAF7f2p7/DaR8BPA94D90Wtn4ifP/kmK5/9c8ge1Rv0iz1nwV4iJXfD%2BYJeeDrx/wDSlA%2B9f%2BEH/wCChf8A0dB8Gf8Aww%2Brf/NRVv8AZW%2BI3xp8Yax8UPAnx01/wvq2qeAfiFFodnqvhPw1c6Tb3VrLoOj6mrPb3F7eMsiyajKhYS7SsaHapzn4MtP%2BC5H7ckxBt/2ILHUQegsNL18Z/wC%2BrQ19Mf8ABJH43%2BPP2jvDPxp%2BM/xN%2BGsvhDXNZ%2BMy/bvDsyTK1p5Phbw9AmROiSDekSSfMo4fjIwT6OXZ9l2aVnSw7ldK%2BsZLTbdq3XuefjMk4iyyCnmGX18PFuydWk6ab7JuUtbXdrbJ9j62ooor2TzgooooAKKKKACiiigAooooAKKKKACiiigAooooAKKKKACiiigDlfjd4i8PeEvhPrviLxToWqanZWtkWkstF8NXesXUjlgI/Ks7OGaeZg5U4jjYrjdwFJHzz%2ByV8d9M%2BE//AAS6%2BH134l%2BAfxS1TWfAHwW0VNV8C/8ACpdai1a5v7Cyt7d7KC2urSMyz/aUwgHBA80Hy1Mg%2BsKKAPAP%2BCd1hdXvwu8U/FPxPZ6vaeK/H/jq48Q%2BNNP1LwVquhQWGoPZ2dulpaQapa2088ENrbWkRuvLC3E0c8uEZ3jTzz4t3HxT8P8A/BZD4Bp438a%2BH9Q0XWvhx8SIPDGnaV4ansrqxjV/DcsiXVxJezJeMxjQq0cNuF2NlX3Db9hV8Y/tnau2kf8ABYz9i3c2I7vw/wDE62kOf71ho5Uf99KtcuMn7OhzecfxlFfqe7w5hvreaey706z/APAaFaX/ALafZ1FFFdR4QUUUUAFFFFABRRRQAUUUUAFFFFABRRRQBl%2BOf%2BRJ1j/sFXH/AKLauQ8c/si/sofFDxTdeOfiX%2BzD8PPEWt32z7brGu%2BCrC7urjYixpvlliZ32oioMk4VQBwBXX%2BOf%2BRJ1j/sFXH/AKLavDPjn/wVa/YG/Zr%2BKeqfBT41/Hr%2BxfE2i%2BR/aemf8Itqtz5PnQRzx/vILV42zFLG3yscbsHBBA48bVy%2BjSUsY4KN/t8tr/8Abyavv5lRz%2Bpw6/rMMW8M37vMqkqTd9eXmjODd7Xte2l7aadd/wAMD/sK/wDRlnwl/wDDc6Z/8Yo/4YH/AGFf%2BjLPhL/4bnTP/jFeSf8AD83/AIJZf9HRf%2BWTrn/yFR/w/N/4JZf9HRf%2BWTrn/wAhV5f17hX/AJ%2BUP/Kf%2BRf/ABFLE/8AQ9n/AOFlX/5oPq%2B%2Bs4dRsZtPuc%2BXPE0cm04O1hg/zr50/Zv/AGEfGfwVHgZfF/x4tdabwB8G7n4caLc6F4TfS5209n077PdO73tyPtUa6eNzKFR3lDKkQTY30J4g1WbQtBvtbt9GvNSks7OWdNO09UNxdFELCKIOyqXbG1dzKMkZIHNeFX//AAUg%2BBI8BXPxJ8NaTq%2Br6VafDbQPG9zeC/0rToIdO1meWKxjkudTvra3hnYQTyMkkqqqxfeLPGj/AEBkeOfBv/gjU/wtS/kuPjR4US4vrfwDBczeFfhUukm/bwz4iTWvtt832%2BaS9v73YYZrl3GCRIEODG3sfw//AGHdQ%2BHN/wCCdY0b4rwS3fgnxV461y1Nx4dJjuZPEV/e3ixuq3IIW3a7CkhszCPP7rd8vnfin/gqx4U1rwfpHxm%2BEbW0vga%2B%2BCHxI8Yajdy6dFql9aaj4Y1XRNPMEa22oJa3UYkvr4MI7ny5zFC0VysZ3v1vjv8A4KB3a/tB%2BB/g58MPhLrlzomtfGG48D67481OwgOky3NtpGoXl1a2hjuxcrPFNaJGZZbcW5Mc8auzgYAPTv2hPgT4j%2BOPw50TStO8fWeh%2BLvDPiHTdf0HxH/YbXNpDqVo4JMln9oRpLeVGmheITq4jnbbKrgOMb4Xfs6/Fv4O/BvVPAfgr426OPEuuHxJq2reK77wW8qt4j1O6e6hvYrUXqqlnbSSyKLNnd5IkhU3KsjvLe/aT/aG1L4V/s1XPxl%2BHmgm51TUbzSdL8M2fiPTrmyVb/VNRttNtGuoJVjnjjSe7ieRCEfYrAbTgiv%2By/8AF74q/EFviP8ADX4tS%2BHrrxd8NPG3/CP3useHdLnsdO1QTaTp2q29yltNcXElv%2B61KOJ4zNId8DsG2soAByv7Pn7K37TP7PPwGl%2BGHh/9oL4d6h4kfWRqUvjDUPhNfu2qXUu5r271GJteMl1dzyEP5yTwpGFCLH5aoi5d5%2Bwl8W9O/Zcm/ZX8D/HzwnaaT4ki8TDx9faz8LmvnvH12/uL27/s6JdSih0%2BNHvLhYopUu1VRDu8woxk5nxt%2B1l%2B2h8OtM%2BM3gW1t/BPxA8W/Dzwv4f1HT9U8D/DvVmtrXUNQupkl0q402PULi4vLiG1jhuwsE8cjR3UW6KMPG0mh49/bw8Y%2BFf2Qb3xr8NvGfhX4g/FC5m1ay0azTwNqfh21srmxge5u31HSry7lvbRLS3TzJY5ZY3lZ4IlMTXMRoA0/E//AATetb74mvrvhH4o2mm%2BF9Y8ReDde8X6Ze%2BFzeazqGoeGZLVtPeDVDcoLdHWxtEmVreZmVZvLeJpmYdM/wCy38cPFPxduPjL8VPjl4P1fUNN8Da74a8HWOn/AA0mtbSGLUpbSR5NUSTU5m1MIbG3HlRtaRsGmyAXQxcj8af2hv2udF8EfBr4gfCjxl8OI5vijq/hfSE8Iaz4Av7u4nuL0fa9TnhvItXhWKO306K9uVja3kP%2BiEM7B8rU8e/8FEfFfhL9p/XvD%2BneD9MvPhR4Y%2BFXjbW7vWlSU6jqmteG5tJF7DauJPKFrH/aMlsxKM7XVtMuUWH96AXPhZ/wSn%2BBPh7QbsfEq3tP7ZufFkWv2dx8IF1HwBY6PNDYS2EMVjBpOoCaFBBcXhffcSmSS9nYkKyInL6J/wAElNU8Cfs8%2BF/2e/hl%2B0xd2FrF8Fh8MPiJqus6Jc6pca/o5LFpbJp9Q3aZcKZ70Q5a5ggS78tYSsMQXc8GftufHT4eDxD4N/aR0Dwprni8%2BBvDPiLwTpngWxubFNTvdbuL6zh0Mi5uLgvLFdWYDXuY42hmMrQwrBJXF/ET/gpV%2B0P4K/4J0Wfxs0rwp4L1X4xy%2BG/EetX%2Bnw2N2mhWdhodzOl7fPEbg3AhbyoLeNfO3G4vYiTsWQqAep6x/wAEv/gG/wC0X4V/aE8Ia14s0aTQ/EWqazrPh6Px7rsunarcXtm1sxFo2oC1tl5UsqQlJEURsu2q/wAEf2FfjB8D7C2udM/aO0LV9Y8I/D2y8D/C281j4eyvb6PotvcxSsdQhTUlbUruVLe1jeeOS0TNsjrEpL7qvib9uy/b9tzVP2c7D4geG/C2h%2BEte0LQ9aOu%2BAdW1KXWNS1O3huYrdNSt54bLSC6XNtDbm6Er3Nw8kaIDGA/k%2Bl/8FXfjlpWrfEC/wDFfgjw/eW3h/wZ4y1bStATwxqWlG3vdI1aDT7K1j1a4nktfEEVx526e40%2BNVsmVVlG6VFIB6xYf8E/vip4dvbP4n%2BFP2iPD8PxDHxA1jxXqt9f/DmSfw7cz6jp0WnTRxaSmpRywFYbeJll%2B2PIZHuWcuLh1rEvf%2BCNfwDf4feAvDOlfETxxYa14Nn8J/2hr2n%2BOdbsotZt9Dnjkiiawsr%2BC0gZgsixyJHut/N3JkqM0viV%2B2J%2B2f8ADOPWvhPf2fhfV/GPhrx/oVnrfivwl8INe1qxj8P6lptzc/bBoljfyXvmxXFrJA225dCuyUhd5jTI/ad/4KfeKfgX4E0r4jaB8V/hleaDbfCC48aJr2peHL6GL4iXlvI4m0PRYvt4axuwkRJSVryWM3MYMLCOUgA9o8a/sd%2BM/jV8ZbXxv8fvij4d1bwtolr4gtfDfhvw34Il0y8W31W3e0livr6S/uPtSrbuwxFDbK8oSVhlEUcZ8OP%2BCWfhRbaOy/aH%2BJD%2BKYdI8K%2BG/DnhUeB7fUPB0lhZaHLdS2E8s%2Bn6iZprwPdMTJHJDCNg8uCPLZ0PBn7XfxR1b9tnW/hF4/8AFOi%2BFfBJ161sfAFlq3wm1tJ/FsUvhy01Fnt/EL3a6b563Mt2ptVheUx2MgxnMi6X7Kf7Ynj/APaO/ae%2BIfgqTw3o9t8PNP8ABfh7xD8NdUgil%2B36vZ3t9rVlJezs0hjMEz6UJrYIgJt5UkZiZdkYB0X7Nf7K2ifsbfstar8FNB8a6zr8K3mvaq2o65q17dyk3t1cXQjDXlzcOoRZVQ4fEjq8pUPK%2BZPHH/KQv4X/APZGfHn/AKdvCFepeOf%2BRJ1j/sFXH/otq8t8cf8AKQv4X/8AZGfHn/p28IUAezUUUUAFFFZvjDxl4Q%2BHnhe/8ceP/Fem6Houl2zXGp6xrF9HbWtnCoy0ksshCRoB1ZiAKANKiuc0z4w/CPWvhkPjXo/xS8OXfg06e9%2BPFttrlvJphtEBL3H2pXMXlKFbL7to2nJ4rndW/a//AGS9B%2BG2m/GXXP2ovh1ZeD9YumttI8V3fjawj02%2BnUsGihumlEUrgo4KqxI2NxwaAPRa8Z/YP/5Ihrn/AGWb4j/%2Bprrdew2F/Y6rYw6ppd7Fc21zEstvcW8geOWNgCrqw4ZSCCCOCDXj37B//JENc/7LN8R//U11ugD2aiiigAooooAKKKKACiiigAopJJI4Y2llcKqglmY4AA6kmvnf4z/8FUP2K/g3rw8ER/FFvGXih5DHB4U%2BHlk%2BtX0jjqmLfMaMP7rup9q58Ti8Lg4c9eaivNpfd1fyTOXF47BYCnz4mpGC82lf06t%2BSTfkfRNFfI0v/BRD9q/4gxNF%2Bz7/AMEsfildvKpFtdfES7tPDcak9HdZmclR1wCCR0IqrF%2BxT%2B23%2B1RKNX/bo/a2uvDmiSnevwy%2BC8j6daqOoS51B8z3HYMn3cjKsK4Xm0a2mEpSqPvZwj85TUV9yk/I8155Gv7uCozqvvyuEF6zqKK/8BjJ%2BR9J/E/9oX4DfBO3Nz8YPjR4V8LqF3Aa/r9vaMw/2VkcFj6AAk14Hr3/AAWY/YkGqyeHfhLq/i74m6rEcPpnw58F3moSZ7YdkjjbPs5rpPhh/wAEnv8Agnp8J7gahof7MHh/U73dvkv/ABUJNYlkk67yb15QGzzlQOele96B4c8PeFNLj0TwvoNlptlCMRWdhapDEg9kQAD8BRy53W3lTpryUpv724R/AOXiOvvKlSXkpVH98nCP4M%2BVR/wUG/bE8b/vPgh/wSd%2BJV9E3KP488RWHhlsepS48wg%2B2ad/w0j/AMFb9S/e2X/BNfwnpq9fK1H4x2kzfTMUeM1738Tf2n/2b/guHHxb%2BPXg/wANvH96DWvEdtbyk%2BgjdwzH2AJrw/Xf%2BCzn7BlvqT6B8PfHmv8AjzVE66b4F8H39/IfTDeUsbZ9nNcVedLDu2IzFp9l7KP/AJKoyl%2BZ9TlPhn4hcQU/a4Kni6sd%2BaFCMadu/O6Sgl5urbzKh/aQ/wCCuI/0b/h2x4SLtwtyPjFaeWh9Svl7iPYc0n/CQf8ABbfxf/yDPh9%2Bzv4Phf739s6rq2oTxj/Z%2BzgIT9eKP%2BHkP7RHjn/khP8AwS1%2BMeqh/wDUy%2BNhaeGo5PQ7rhpMKfX0pf8AhZX/AAWf%2BIHPhf8AZo%2BC3w%2BR%2B3jXxjd6rJGPrp6hSf0rn9tRqfBXxFT/AAxa/H2UPzPY/wCIOcT0v%2BRlmVPDrtVxuEpyXrGkq9T/AMlAfAD/AIK/eJv3%2Buf8FA/AXhhjyYPDfwpivUHtm7cGg/scf8FO9R/d65/wV7uBC334tO%2BB2jwN%2BEglJH5UH9nr/grl4648Zf8ABQPwT4Mjf/Ww%2BCPhfFenHdVkvnDL/vdRSH/glp4o8afN8ef%2BCiHx48Uq3%2Bv07TfFaaRYzeoaC3jPH0YYo%2BrVKnwUK78513D8FNv8A/4hnwVhtcw4ji%2B6ovHV396jhqf/AJNbuY3iz9h/x9oiK/x9/wCCxfxW0%2BKUZY2HiCw8P7h3KkKcfhXnvib9mX/gkVpKO3xz/wCCj2ueMmX/AF0Pir9oNbqV/XMdtIjH8BXuvhL/AII4/wDBOXwpI17P%2Bzlaa3eyndcX/ibWL3UZZm/vN58zLn6KBXofhr9gv9iLwe6zeHP2RPhtbSp9y4HgqyaUf8DaIt%2BtH9jYmp8VCl/2/OtU/VL8A/1V8EKGlWWOxL78lCCfyrYiu0vVN%2BXQ%2BF3uv%2BDZf4cudOaPw5fy55YQeItVLt/vgSjn64q5YfFn/ggMrAfD/wDZRk8Uz/8ALO20n4Vancu/0E8ag/jX6SeHvB3hHwjbfY/CnhbTdMhA4i0%2BxjhX8kAFaNaxyGqtlQj6UE//AEqX6G0MJ4KYbSlkNadv5sTQjf1VPBO3yk/U/Oqz%2BIH7HmtRfZfhD/wQL8Z62D/qrrXPgbpen28nuJrjcSPciruneDfjPqFyL/4df8G9Hwn0RP8Aljf6/wCIPDkEn4xRWu9fzr9CKK2WRN/HV/8AAaVGP/tkn%2BJ0LOfD/C/7pwxhfWrUxFV/g6C/Cx8VeHtG/wCCp9ltHw8/Yp/Zp8FEf6s32p3Eoj/8A41/Sug/4V5/wWn8XjyfEP7Q/wACvByt1l8JeE7/AFBk%2BgviAfxr61orojk8ErOvVt2U%2BVf%2BSwidcOPIYZWweT5fS9MKptf%2BDa8198WfJQ/YR/bq8T/vPib/AMFZfGkzP9%2BPwp4F03R1UeimMsfx60o/4JOafrfz/Eb9vv8AaS8Q7v8AWW1x8TjDbH6RxwjH519aUVX9iZa/ji5f4p1JfnP9Cv8AiKHGsP8Ad61Oj/16w2Ep/dy4VtfKXzPk2H/gih%2BwDfSrc%2BPPAvifxbKpyJfEvj3VJiT6kJOgP5V1ui/8EoP%2BCc2gRrFY/si%2BEZAvQ3tq9yfxMzsT%2BNfQtFXDJcnpu8cPD/wFP8WmzmxHiZ4i4uPLVzjFNdlXqRS9FCUEvkkeQ6R/wT9/YV0IhtN/Y4%2BGCsv3ZJPA1hIw/wCBPETXWaD%2Bzr%2Bz74WIbwx8CvBunFfumw8MWkOP%2B%2BIxXZUV1QweDp/BSivSMV%2BUTwsTxJxHjVbEY6tP/FWrS/8ASqrX4EVnYWOnQi30%2ByigjHSOGMKo/AVLRRXTseM25O7eoV4z%2By//AMlv/aO/7LNY/wDqFeF69mrxn9l//kt/7R3/AGWax/8AUK8L0CPZqKKKACiiigAooooAKKKKACiiigAooooAKKKKACiiigAooooAKKKKACiiigAr4M/4KW6p/YX/AAVX/Yg1TdjdqnjG1z/13GhxY/8AHq%2B86/Ov/gsdey6P/wAFB/2JdfThLPx5qJuG/uxPqnhuNj/4/XmZxLky2cu3K/8AyemfceG9BYnjTC0H9tV4/fhcX/kj9FKKKK9M%2BHCiiigAooooAKKKKACiiigAooooAKKKKAMvxz/yJOsf9gq4/wDRbVqU2eCG5he3uIleORSrowyGBGCCPSsxfBmjIoSO41NVAwqprd0AB6ACTigDVorL/wCEP0n/AJ%2B9V/8AB5d//HaP%2BEP0n/n71X/weXf/AMdoA1K%2BbtC/4Je/Arwl4E8S%2BCvBnjvxnpU/iD4oQ%2BOrHXYb2ymu9AvreWOS1tLJbi0ktxZW%2Bxlit5oZgolkOSxDD33/AIQ/Sf8An71X/wAHl3/8do/4Q/Sf%2BfvVf/B5d/8Ax2gD54H/AASr%2BBM/w7vfh3rHxL8faimpeE/H2gajq19qtm95cxeL9VtNU1W4ZhaBPPW4s4/JIQIiO6sknyleim/4J%2B/DtvjfpXxitvi147trDRfiHc%2BONO8BwX9kNFi125sbmzubrBtDdMJVu7iRojcGISyNIqKSc%2By/8IfpP/P3qv8A4PLv/wCO0f8ACH6T/wA/eq/%2BDy7/APjtAHOfEv4E6B8YvghefA74k%2BKdZ1OC%2Bs4o5dfEkFvqKXMMiTQXqNBCkMdxFNHHMhWIIHjU7CODlfCD9mi3%2BDWmX8ej/GPxdqer694muNe8YeJdYXTXvfEV5JYpYobkRWUcMawwQWaxrbRQAfYoQ25TIsncf8IfpP8Az96r/wCDy7/%2BO0f8IfpP/P3qv/g8u/8A47QB4x8A/wBhfUv2dPhVrPwq8Efti/FW7TV7hrwa/q9t4al1K2v5Lg3FzfecujKLq4nYkSPdrOCpwoXAIg1j/gmV%2Byh49%2BGOu/D747%2BBbT4m6h4j1HUdS1Pxn8QtC0vUNWF/e2sFpLdwN9kW3tJFt7W0iQQQxoq2sPykrk%2B3f8IfpP8Az96r/wCDy7/%2BO0f8IfpP/P3qv/g8u/8A47QB574L/Y4%2BDfw/1H4Wz%2BE7S5stP%2BD/AIcvdJ8HaDax28NhG1zDBA17JFFCv%2BkrDFLGrIUQLe3OUYupTm9W/wCCZH7DGp/Hq1/aNg/Zp8Gaf4ji0PX9N1CXSfCen2w1X%2B2Db/bLq6eOATS3OyCWNZvMBCX12G3ecSPZv%2BEP0n/n71X/AMHl3/8AHaP%2BEP0n/n71X/weXf8A8doA8V8Cf8E3P2cdH0bUNE%2BNVjcfGWO%2B0/SdNiPxg0zTNXWz0/S1uRp9pFGtnFERCb27YTSI9w7XDmSaQ4xzOqf8Eaf%2BCeOs/sxXP7LGo/s5eFZdKew1a10/xDJ4Q0ltX0r%2B0JZJZprSc2ZWCVC6hGVPlEMWQ2zNfSH/AAh%2Bk/8AP3qv/g8u/wD47R/wh%2Bk/8/eq/wDg8u//AI7QB5B4k/4J/wDwa1vx5a%2BJdE17XfDnh5NR8P6hqfw88NrY22h6pd6HJDJpU0sf2Vp4vs5tbNRHbzQxOlpCkiOqlThad/wTA%2BBS6df%2BE/Fnjvxr4j8Lv4X17w94d8JavqVotn4a0/WJEe9jspLa1iuS37tFjkuZp5IVQCNkyc%2B%2Bf8IfpP8Az96r/wCDy7/%2BO0f8IfpP/P3qv/g8u/8A47QB5P4Z/Yz1Pwb4e1pPDX7WfxOtvFniXXrfUvEPxEeLQJtW1BLezFpDZtHLpTWMdskaqQsdqjbw0hctJIXq6x%2BwN4G1P4L6R%2BzjZfGTx5p/gO30%2B6s/Ffhm0u9PePxhFdzNNeDUp5rOS5BuHknMv2SW23C4kXhSoX2L/hD9J/5%2B9V/8Hl3/APHaP%2BEP0n/n71X/AMHl3/8AHaAPPPGP7KGnfEf4t6V8RviJ8Z/GOtaJoOtJq%2Bh/Du6XS49Esr1LZ7dJcw2KXkwUSSuI5rmSMO%2B7Z8iBc74J/wDBPb9j79m/486z%2B0R8BPgJ4T8Ha3rfhGx8Oz23hfwtp%2BnWsFrbXN1cF4lt7dHWSZrlVmJcrItnajaDECfVP%2BEP0n/n71X/AMHl3/8AHaP%2BEP0n/n71X/weXf8A8doATxz/AMiTrH/YLuP/AEW1eXeOP%2BUhfwv/AOyM%2BPP/AE7eEK9RPgzQ3ws7X0yZBMVxq1zIjezK0hVh7EEV5d44/wCUhfwv/wCyM%2BPP/Tt4QoA9mooooAK8Q/b%2B8N%2BItd%2BCejatonhTUtftPDfxL8K6/wCIND0fTpLy6vNNsdatLm4MVtErSXLwrH9pEKK0kn2faiu5VT7fRQB8XeGvh7afEn9k/wCLfh7xfoXjrwjp3if4l3/jzwnbf8Ky1S6u7O1i1mC7tZX00W/mTNcXtm95Jp2FuXhuyHjjaQ45Hwd8UP2kf2fPg98Svi7qnwx8U%2BLPFPxk%2BNbyeBNQt/gdrcdvoFk2gaXYT6ve6Jbx3V/YWgl066kW2lPn3LPCHaM3LyRff9FAHlnwD%2BGg%2BGn7HXgr4Qfs8%2BJZ7CPw94G03SfC2q%2BPPCl2ZUjt7aOKOS8053sp1cqmWhLQMpOMKBtrnv8AgnTb%2BJbT9m6%2BtfGWrWN/q8fxb%2BIa6nfaZpz2ltcTjxnrXmSRQPNM0KFskI0shUEAu2Mn3SvGf2D/APkiGuf9lm%2BI/wD6mut0AezUUUUAFFFFABRXgf7Vf/BQn4R/s16/bfCfw9o%2Bo/ED4n6qAND%2BGvhBPP1CZiMq85UFbSHHzF5OduWVWAOPNf8Ahnb/AIKSftgr9o/al%2BP9t8GvCF0Pn%2BH/AMJJg%2BqzRH/lndaq%2BdjYyGEIaNgegrzK2Z01VdHDwdWa3UbWj/ik/dj6ay/unj184pRrSoYWDrVFuo2tF/35v3Y%2Bl5S/unV/tFf8FF9N8M/EST9mj9kP4fy/Fr4stlbjRNJnC6boAztM2p3n3IFU9YwdxI2koWUnmE/YE/av/abYan%2B39%2B2LqMmlykM/wz%2BEZfR9HA6mKa5P%2BkXaez4II4avoT9nP9mD4G/sofD6L4afAjwDaaHpykPdSRgvcX0uMGa4mbLzSH%2B8xOBwMAADgv2i/wDgpL%2By5%2Bzn4gX4d33ie88X%2BOJpDFZ%2BAPAVidV1eaX/AJ5mKI7YW74lZCRyAa469CHs/bZrVSj/ACKTjBeXSVR%2Bu/SFjvyTgviHjHGfV1SniKjV/Y0lL2cYrdza5eZL7U6s4U12SOGH/BDz/gmrKQdU%2BBup3/PP2zx1rDZ%2BuLoV7V4G%2BEv7J/7GHgaW48F%2BD/Bfw60KFVW81Ipb2KP6Ge5kIMh95GJ4614WfiP/AMFav2nf3fw0%2BD/hP4BeHJ/u6545uhrOutGekkVlEBDE/rHP0x19dPwX/wAElPghqfiGD4iftcePvFPxy8UxHcl54/1Jm062Y9Rb6fGRDHGf%2BebeYBWOHhQjPmy7BKL/AJ5RVNfLR1H8lH1Pu8L4b8FcLz9tnGMoUqi/5dYSMMTX9JVIuOGp%2Bd69Rr%2BV7HV%2BNv8Agqn/AME7Ph%2Bkkmu/teeDJ/KBLDRdROpE49BaLKW/DNcN/wAPVdS%2BKB8j9j79iD4s/EsP/wAe2tXGjjQtGm9MXl30/GMcV9CeC/2a/wBnT4blG%2BHnwD8FaCYiDG2jeFrS1KkdCDHGMV2td/sM5q/HXjBf3INv76jf/pJ3rNvDbL9cLllfEy/6icRGEPnTwtOLfp7ZL8z5HOq/8FoPjENtj4U%2BDnwc0%2Bb7zajfXOv6tb5/u%2BUBauR798Ui/wDBLPxL8VCLz9sf9uj4qfEdn5n0XTNSXw/o0hPXNnZ/kCHHFfXNFH9jYap/vEp1f8cnb/wGPJH8GP8A4iTnmD0yehh8D54ehBVP/B1X6xW%2BanB/PU8C%2BGX/AAS2/wCCe/wjKSeEf2TvCMssZylxrtkdVlDf3g960rA%2B4Ne4aD4c8PeFdNTR/DGg2Wm2cf8Aq7WwtUhjX6KgAFXaK7sPg8JhVahTjBeUUvySPlc24i4gz%2Bp7TM8ZVrvvUqVKn/pc5JfJIKKKK6DxwooooAKKKKACiiigAooooAKKKKACiiigAooooAKKKKACiiigArxn9l//AJLf%2B0d/2Wax/wDUK8L17NXjP7L/APyW/wDaO/7LNY/%2BoV4XoA9mooooAKKKKACiiigAooooAKKKKACiiigAooooAKKKKACiiigAooooAx/iB8RPh/8ACbwdf/ET4p%2BOtG8M%2BH9LiEmp674g1OKys7RCwUNLNMypGCzKMsQMkDvTrTx94E1DwJF8UbDxrpM/hmfSV1WHxFDqUTWElg0XnC7W4DeWYTERIJA20r82cc1l/G7xF4e8JfCfXfEXinQtU1OytbItJZaL4au9YupHLAR%2BVZ2cM08zBypxHGxXG7gKSPkPwjbeKPiZ/wAEZPBPwT0H4TeOx4m8O/CfwnH4j8H698P9V0q6vI9KbT/7T0xUv7aESyyx21zAsWT5wcFdyNuoA%2ByPhr8U/hj8Z/CFv8Qfg98R9B8WaBdu62mueGtYgv7OZkYo4SaBmRirAqcHggg8ivgP/guX/oHxx%2BAni/p/wj0Oq6jv/u7fEfg9M/8AkSvp/wDYng1bXfGvxr%2BMkHg3XtB8N%2BO/iZb6l4Ws/Evh660i8uYYfD%2BkWM949leRxXFsJLm0nULLGjOIRLjEisfkP/guTofxdtbq78SeK/GXh7UdKsvhTr194T07SvDE9nd6esfi3wN5gubmS9mS7JDDDRw24Xa2Q24bfKz3/kTYh9oN/dZ/off%2BFLX/ABEvJ4v7eIpw/wDBjlT/APch%2Bm9FR2d1DfWkV7btmOaNXjPqpGRUlerufAtNOzCiiigQUUUUAFFFFABRRRQAUUUUAFFFFABRRRQAUUUUAFFFFABRRRQAUUUUAFFFFABRRRQAUUUUAFFFFABRRRQAUUUUAFeM%2BOP%2BUhfwv/7Iz48/9O3hCvZq8Z8cf8pC/hf/ANkZ8ef%2BnbwhQB7NRRRQAUUUUAFFFFABXjP7B/8AyRDXP%2ByzfEf/ANTXW69mrxn9g/8A5Ihrn/ZZviP/AOprrdAHs1FFZ/i3xV4f8C%2BFdT8b%2BLdUjsdK0fT5r7U72Y/Jb28SGSSRvZVUk/Sk2opt7IUpRjFybskVfiJ8RPA/wl8Ean8SfiV4os9F0LRrRrnU9TvpdkUEa9ye5JwAoyWJAAJIFfIp%2BPn7an/BRgnS/wBkLSLz4QfCa54n%2BLniew/4nGtQngnSrNiPKRh0uHI4IKsjKVOf8Nvh58Qf%2BCs3jTTP2if2htDutD%2BAekXgu/hv8NLttsviqRSdmq6ooODCescHIIPdCWm%2B4be3gtIEtbWBIookCRxxqFVFAwAAOAAO1eLF4jOPeUnCh0tpKp533jB9LWlJa3imr/OweKz731KVPDdLe7Oqu994U30tac1reMWr%2BT/sqfsS/AL9j3Qrm0%2BFfhyW41rVCZPEPjDXJ/ter6zKTuaS4uWG5st82xdqAkkLkknd/aP/AGm/gr%2Byd8Nrj4p/HHxnBpOmxN5drFjfc385HywW8Q%2BaaRuyr0GSxCgkcF%2B2D%2B3f4U/Zu1DT/hH8PfCl14%2B%2BLPiVdvhT4d6I4NxKTnFxdPyLW2XBJkfGQrEcK7Lyn7N37BXizU/iTbftcft5%2BLLXx58VAN%2BiaXEhOh%2BDYydwgsIG4Mi8ZnYFsgEfMDI468aT%2BpZbBc0dG/sU/wDFb4pdeVPme8mk7v8AW%2BH%2BC8pyjJ6Wa583h8G03Rowsq%2BJs9fZJpqnSvdTxNRON%2BZU1XqfDySeHv27P%2BCkRFz41uNZ/Z%2B%2BDFzymh2UoTxf4ktz/wA95ORp0TDqgBfBKsJFYMPon9nP9j/9mz9k7QDoHwD%2BEmlaB5qBbzUIojLe3nfM1zIWll55wzEDsBXpVFdWGyyhQqe2qN1Kv88rN%2BkVtBeUUvNvcyzzjfNM0wf9m4SMcJgU9MPRvGDttKrJvnr1O860p6/DCmrRRRRRXonxgUUUUAFFFFABRRRQAUUUUAFFFFABRRRQAUUUUAFFFFABRRRQAUUUUAFFFFABRRRQAUUUUAFeM/sv/wDJb/2jv%2ByzWP8A6hXhevZq8Z/Zf/5Lf%2B0d/wBlmsf/AFCvC9AHs1FFFABRRRQAUUUUAFFFFABRRRQAUUUUAFFFFABRRRQAUUUUAFFFFABRRRQAV8H/APBaPRf7e0u8sdm7y/2cPHtzj/rjrngubP8A45X3hXx5/wAFONF/4SDxFqelBNzP%2ByX8WGjX1dLjws6/%2BPKK4czh7TLK8e8J/wDpMj6ngbE/U%2BN8rr/y4nDv/wAr0v8AM%2BmfgXrX/CR/BLwd4h37vt/hXT7nd677aNs/rXVV5T%2BwjrP/AAkP7Enwf1kvua4%2BGOgtIf8Ab/s%2BAN/48DXq1bYSftMJTn3jF/fGL/U83iDDfUs/xmH/AJK1aP8A4DVqx/8AbQoooroPICiiigAooooAKKKKACiiigAooooAKKKKACiiigAooooAKKKKACiiigAooooAKKKKACiiigAooooAKKKKACiiigArxnxx/wApC/hf/wBkZ8ef%2BnbwhXs1eM%2BOP%2BUhfwv/AOyM%2BPP/AE7eEKAPZqKKKACiivEP2/vEniLQvgno2kaJ4r1LQLTxJ8S/Cvh/X9c0fUJLO6s9OvtatLa4EVzEyvbPMsn2YTIyvH9o3IyOFYAHt9FfIPhCL9oHxx%2Bxr8V/hf8ABfx/r2q6j4X%2BK%2BpaB4S1m98VSf2rqOi2uqW7XdhHqlw5k%2B1iI3%2BmxXcsnmJJFGzy70aSvKvhR47%2BKXxU%2BI1r%2BzF8Q9b%2BJPgv4fH9oPWtD05Lz4pXcmvyWtr4MtNUTSZ9dsr6WeRl1CbUZmEV5Iyix%2BzNIyQyoQD9E68Z/YP/AOSIa5/2Wb4j/wDqa63VL9jL4vfEbxX%2BwN4D%2BL3iLSNZ8da9P4QgnQadJaR33iJF%2BSG7VrmaC38y4iCTlmkjQ%2BYSCAQKT/gnTq1/r37N19req%2BGL7RLm8%2BLfxDmuNH1OSB7mxdvGetEwytbyywl0J2kxyOmQdrMMEgHulfJP/BVXxNrvxK0bwJ%2BwB8PdTkg1342%2BJFs9YuLY/vLDw7albjUbj2yiqgB4cGRa%2Btq%2BOv2Gf%2BMsP2xvir%2B39qH%2BkaBpkx%2BH/wAKpG5RtPtH33t5H2Kz3ByrjBA8xTXk5s3WhDBx3quz8oLWb%2B73fWZ4eeSeIp08vhvXfK/KmveqP/wG0F5zPrbwv4Z0LwV4Z07wd4W0yOy0zSbGGy06zhGEggiQJHGo9FVQB9K%2Bff26P2vvGnw31XR/2V/2WdMg1341ePIyug2bgNb%2BH7PkS6ve8EJFGAxUMDvZejBSp7b9tz9qfR/2P/2e9W%2BLVxp39pay7pp3hHQUBaTV9XnJS2tlVfmbLfM23kIjkZIArlf2Cv2P9X%2BAmgan8Z/jjrH/AAkXxk%2BIWy%2B8f%2BJbjaxhcgFdOt8cR20AwgVcBigPCqiosZVq1qywOGfK7JykvsR2SX9%2BVmo/ypOXSKf65wvleVZNlP8ArLm9NVKUZOnhqD2xFaCTbna3%2Bz0LwdW1vaTcKEWuao46/wCxz%2Bw58O/2TdLvvEcuq3fiz4h%2BJMTeNfiJrzebqGrTnBYBmJMUAYDbEpwAq7izDdXt1FFehh8NQwlFUqMbRXT9X1be7bu29Wz5POc6zTiDMqmPzGq6lWe7fZKyikkoxjFJRjCKjGMUoxikrBRRRW55YUUUUAFFFFABRRRQAUUUUAFFFFABRRRQAUUUUAFFFFABRRRQAUUUUAFFFFABRRRQAUUUUAFFFFABXjP7L/8AyW/9o7/ss1j/AOoV4Xr2avGf2X/%2BS3/tHf8AZZrH/wBQrwvQB7NRRRQAUUUUAFFFFABRRRQAUUUUAFFFFABRRRQAUUUUAFFFFABRRRQAUUUUAFfNH7YGjf8ACR/tF6R4e2bvt/7NHxPt9vrvu/Ci4/WvpevEfidp8Or/ALe3w40m4H7u6%2BCPj%2BJ/o2qeEQf51FWHtKUod0196a/U6sDiHg8dSxC%2BxOEv/AZRl/7aZX/BKXWv7e/4J0fCG%2B37vL8Hw22f%2BuLPDj/xyvoOvlP/AIIk6jNff8Eyvhtb3X%2Bvsf7XtJ1/umPVrxQP%2B%2BQtfVlcGTT9pk%2BHl3pw/wDSV/kfWeJeHWE8Rs5or7OKxC/8rVH/AO3BRRRXpHxIUUUUAFFFFABRRRQAUUUUAFFFFABRRRQAUUUUAFFFFABRRRQAUUUUAFFFFABRRRQAUUUUAFFFFABRRRQAUUUUAFeM%2BOP%2BUhfwv/7Iz48/9O3hCvZq8Z8cf8pC/hf/ANkZ8ef%2BnbwhQB7NRRRQAVm%2BMfBng/4ieFr/AMD/ABA8KabruiapbNb6no%2BsWMd1a3kLDDRyxSApIhHVWBBrSooA4q3/AGa/2c7TwW/w3tfgD4Ki8OyaH/YsmgR%2BFbNbJtN8xpPsRgEflm33u7%2BVjZudjjJJqPU/2YP2ada%2BEtt8AtY/Z48DXfgSzdXs/BVz4Ss5NJgZXLqUs2iMKkOzMCF4JJ6mu5ooAh07TtP0jT4NJ0mxhtbW1hWG2treIJHDGoCqiquAqgAAAcACvH/2D/8AkiGuf9lm%2BI//AKmut17NXjP7B/8AyRDXP%2ByzfEf/ANTXW6AKH/BSr473n7Ov7E3j3x/oUrjW7nSDpHhxIOZX1C9YWsBjA5ZlaXzMekZrq/2O/gPZfsxfsu%2BBfgRaRRrJ4c8O29vftFjbJeMvmXMgx/fneV/%2BBV4X%2B2p/xkL%2B318BP2QoP32meHLu4%2BJfjSAchYbHMOnBh3V7pnVgeOR1rsP%2BCoXx08VfCb9mmT4f/Chy/j/4o6rB4O8D28T4cXd6fLknBHKCKEyPv6K2zOM14EsTTp4vE42esaUVBeb0lJLzcpQh66EcJZJiuL%2BN1g8O0nKUKEZP4Y/8vK05PpGEfem%2Bkacjzv4Rj/h4l%2B3ZeftGXn%2Bk/CX4GX82kfDuM8wa54jwBd6oO0kcA2pE3I3bHUg7xX2lXD/s1fAjwj%2BzH8B/C3wG8EQqNP8ADOkRWgmWMKbmYDM1wwH8ckpeRvdzXcV35bhamGoOVXWpN803/efReUVaK8lfqz7LjXPcJnOaxo5enHBYaPscPF7%2Byg378l/z8rTcq1R/zVFHanGxRRRXoHyAUUUUAFFFFABRRRQAUUUUAFFFFABRRRQAUUUUAFFFFABRRRQAUUUUAFFFFABRRRQAUUUUAFFFFABRRRQAV4z%2By/8A8lv/AGjv%2ByzWP/qFeF69mrxn9l//AJLf%2B0d/2Wax/wDUK8L0AezUUUUAFFFFABRRRQAUUUUAFFFFABRRRQAUUUUAFFFFABRRRQAUUUUAePf8FBz45H7DnxYPw3/tP%2B2P%2BEC1P7P/AGJv%2B3bPs7%2Bb9m8v5/P8rzPL2fPv27fmxXzn8D/Gn7PfhrwH%2B0tp37H17p83wzufDr3Hw70P4T6hbwjUdUg8PhtVXQRDmMygNYBmhVlS7eQuPNMufu2igD4N/wCCNOk%2BEPDvjb4i6J8O/Gfw68UaP/whHguaXxB8G9F/szw39uMeqJPayWwmnVtYQJHJd3PmK8sVxYh4LcxKJPa7/Uvivd/8FNvBdn428F%2BHtP0K3%2BD3jgeGtR0rxPPeXd%2Bh1bwl5jXNtJZQpaEYTASa4DbjkrtG76Hrxnxx/wApC/hf/wBkZ8ef%2BnbwhQB5j/wRk/0D9krWPCHT/hHvij4l07b/AHdt%2B74/8iV9aV8l/wDBJv8A4lun/tB%2BEG4/sj9pzxXFCnpCxtnQ/jlq%2BtK8nIv%2BRRRXZNfdKa/Q/QPFT3vETMqn89SM/wDwZSw9T/3Iwooor1j8/CiiigAooooAKKKKACiiigAooooAKKKKACiiigAooooAKKKKACiiigAooooAKKKKACiiigAooooAKKKKACiiigArxnxx/wApC/hf/wBkZ8ef%2BnbwhXs1eM%2BOP%2BUhfwv/AOyM%2BPP/AE7eEKAPZqKKKACiiigAooooAK8Z/YP/AOSIa5/2Wb4j/wDqa63Xs1fOX7PnjYfDX9ir4lfEZpQg8P8Aj/4rakXJ%2B75Hi3Xpc/8AjtTOcacHOWyTf3Jv9CKk40qcpy2Sbfok2/yOO/4J4Z%2BPX7T3x9/bdu/31lqnixPBXgqZuVGlaUoSWWI/88552D/70Z6VB8Mz/wANmf8ABT7xH8YZv9J8D/s8WcvhjwsTzFc%2BJrpQdRuF7FoIsQEdj5bCqX7HfjC3/Y3/AOCIug/FacJFNo3w0vfEFt5gH766u3murdTnqXkniUZ/vCvV/wDgmP8ABB/gL%2BxD4D8MapA41vV9IXXvE085Jmn1G%2B/0mZpWPLOvmLGSe0Y9K%2BWwVOWIjhaEuq9vPzlJ3iv/AAKV/SET6/w8i%2BHfDXF5/LTEYr/Zqb7PERdfFzXmqDhQT6e1ltex73RRRX1Z8mFFFFABRRRQAUUUUAFFFFABRRRQAUUUUAFFFFABRRRQAUUUUAFFFFABRRRQAUUUUAFFFFABRRRQAUUUUAFFFFABXjP7L/8AyW/9o7/ss1j/AOoV4Xr2avGf2X/%2BS3/tHf8AZZrH/wBQrwvQB7NRRRQAUUUUAFFFFABRRRQAUUUUAFFFFABRRRQAUUUUAFFFFABRRRQAUUUUAFeM%2BOP%2BUhfwv/7Iz48/9O3hCvZq%2Bd/jF49s/C3/AAVC%2BA/hO9YA%2BJvhH8RrS1B6maK98J3P/ouGXj/CplOMFd/1fQic4043ltp%2BLsvxZyf/AATn/wCJR%2B0v%2B1V4Q6eR8Yl1Hb/192aPn8dlfWlfJf7HP/En/wCCmn7W/hk8JLc%2BC9Rtx/e83SZBIf8AvoAV9aV5eS6YHl7TqL7qk/8AM/Q/E33uKlW/5%2BYfBz/8CwWG/wDkQooor1j8/CiiigAooooAKKKKACiiigAooooAKKKKACiiigAooooAKKKKACiiigAooooAKKKKACiiigAooooAKKKKACiiigArxnxx/wApC/hf/wBkZ8ef%2BnbwhXs1eM%2BOP%2BUhfwv/AOyM%2BPP/AE7eEKAPZqKKKACvMP2tvjJ4y%2BDHwwsL74a2emS%2BJfEnjDRfDWgSa3BJLZWtxqF/DbG6njikjeWOGOSSbylkjMpiEYePfvX0%2BuN%2BPHwS8NftA/DqX4d%2BJtY1PS9upWOp6XrWiTRx3ul6hZXUV3aXcDSxyR7454Y22yI8bgFHR0ZlIB4lqv7ZPxm8Kfsa/FD4p654f8OX/j34W%2BJtQ8P6k9hZTxaZeyw3EIjvorVrh52BtbmGf7Es7yvKGt45XZkc%2BW3H/BSr9oj/AIVlaXsceiJev8XNS8KT%2BKIPgp4ju7v7LbaIupJI/g2K7GtW07yM0JSSQ7IY0vGUQ3EePoCP9g7wDJ8FtY%2BCOr/FXxrf2mvan/bWp61c3Ngmoy6%2BNTXU01oSxWiKt0lzHAUjCC1RLaKNbcIpU5Sf8E7PClrdr430r9or4k2fxBbxVd69efE6CbR21a8nuNNttMlhkgfTW0/yPsllZxiNLRdptUcESF3YA7f4GftF6X4w/ZB8G/tRfGvWPDXhODWvA%2Bna74iuz4hgbStNe4to5JALxn8oxK7lQ%2B8gjHzHqflL4ofF/wANWf8AwRR%2BNfxO8G%2BJ7HU9I1zxf8RrfTNW0y8Se2vINR8cataxyRSoSsiOtwCGUkEMCCc19q/Bf4R%2BDfgJ8JvDvwX%2BH0Fwmi%2BGdJh0/TvtlyZpnjjULvkkbl5GOWZj1Zie9fBX7Uf/ABUX7Aej/BgfN/wsb9szxB4caH/nosnxA1ucjHp/o4rzM5nKnlNdx35Wl6y91fjJHj8QVJUsjxLju4SS9ZLlX4zR2v7dfguT/hl39nX/AIJ12CFZPH3iPw5oGsWiHBGjaXBFPesAOuzyYTivuWOOOGNYYY1REUBVUYAA6ACvke0H/C%2B/%2BCyl1c/67SfgN8L0hXv5Gt6y24n23WSkevy19dVjlUIyr16y2uqcf8NJKP8A6U5fcfq/FtOOT8N5JkUNPZ0HiJr%2B/ipc0b%2Baw9KgvSXZoKKKK9k%2BACiiigAooooAKKKKACiiigAooooAKKKKACiiigAooooAKKKKACiiigAooooAKKKKACiiigAooooAKKKKACiiigArxn9l/wD5Lf8AtHf9lmsf/UK8L17NXjP7L/8AyW/9o7/ss1j/AOoV4XoA9mooooAKKKKACiiigAooooAKKKKACiiigAooooAKKKKACiiigAooooAKK8e/4KDnxyP2HPiwfhv/AGn/AGx/wgWp/Z/7E3/btn2d/N%2BzeX8/n%2BV5nl7Pn37dvzYr59/Z08WfDXRfDv7RWh/8E79b8Jx%2BGL7RxL8GtN8HXFsNMvPEcOgq16dMjjPlSIkjad53kgoLhpt/70y0AfcdfAP/AAVP8b3Hws/4KafsU/EuMskNprHinTb6YdIbfUJtAsXdvRQJxn610f8AwR%2B8U%2BAyviHwD8O/Dfwvv4oPBPhnVte8cfDLR5IJLjVLkXyT6VrM8s00l7q1sYBLNPK6TN9uzLBASvmebf8ABZnw18Z/Hniq5n1jwV4f0238HfBrxZ4i8DaxpPiae9vLg2XiHwbPNLc20llCloyxI4AjmuA29sldo3ebnHOsrqyhvFcy/wC3Wpf%2B2s8jP/aRyavOn8UY8y/7ccZ/jyNfM9w%2BC3/Ek/4LFfGzS/u/258L/Deo4/veSz2%2Bf1xX1pXxVr/juy8Jf8FJ/gX%2B1Jp7BfDnx7%2BFMvhieUnMcF0gTU7Jif70okES464P1r7VrHJ5x5a8F0qSfynyzi/mpXP1bj2UcXDKMxpu9OvgcNZ93RVShNesZU4r0cX1QUUUV7B8AFFFFABRRRQAUUUUAFFFFABRRRQAUUUUAFFFFABRRRQAUUUUAFFFFABRRRQAUUUUAFFFFABRRRQAUUUUAFFFFABXjPjj/lIX8L/%2ByM%2BPP/Tt4Qr2avGfHH/KQv4X/wDZGfHn/p28IUAezUUUUAFFFFABRRRQAV%2BcV0y%2BMPjV%2BzX8ICwZJ/2ovi94mnQ9E/srxLrcyOfTmQ4PrX6O1%2BWngPxVn9sTxDrfmfufhT8PvjV4n83PEM9x48163x7MY0z9K8fPJqOCjF/anBfJS5n%2BEGeZmeGqZg8NgafxV69Cmv8At6rD/I%2Bkv%2BCQ8UnxH%2BG/xG/bE1BC1x8Y/ihqurafK4%2BZdKtpms7OE9/k8qYD2NfXNfPX/BJ/wp/whv8AwTm%2BEWkeVs87wjFfYx/z9SPc5/Hzs/jX0LWuSwdPKaF93FSfrL3n%2BMmfpfiZioYvxBzN0/4cK06UF2p0WqFNfKFGK9bvqFFFFemfDhRRRQAUUUUAFFFFABRRRQAUUUUAFFFFABRRRQAUUUUAFFFFABRRRQAUUUUAFFFFABRRRQAUUUUAFFFFABRRRQAV4z%2By/wD8lv8A2jv%2ByzWP/qFeF69mrxn9l/8A5Lf%2B0d/2Wax/9QrwvQB7NRRRQAUUUUAFFFFABRRRQAUUUUAFFFFABRRRQAUUUUAFFFFABRRRQAUUUUAFfO/7S3gCy%2BK/7Wfhb4W6lt%2Bz%2BJf2ePiTpU%2B8cbLi/wDCcLZ/BzX0RXjPjj/lIX8L/wDsjPjz/wBO3hCpnCNSDjLZqz%2Ben6kVIRqwcJK6aafo00/wbPi2N/FnxZ/4IU%2BAvi/4ft2Hjb4C6hbazYRP9%2B1n0G/kt5EYjkAWas5Hsv4fo98N/Hmg/FP4eaD8TfCs/m6Z4i0a11PTpM53QTxLKh4/2WFfKX/BPHwzotj4z/am/Y48UWazadpvxXvr/wDs9%2Bi6VrtqJo4QP7hVZMf7xrb/AOCQHibWtP8A2Z9V/Zr8ZXrTa/8ABjxvqng6/eXh5YIJzJbSgf3DDKqKehEVfL5NOVGtRUv%2BXlPkf%2BOg3H73D8j63hycs78F6UJu9XLK/K%2B/ssRelL5RxOGi/J1fM%2BrKKKK%2BqPlQooooAKKKKACiiigAooooAKKKKACiiigAooooAKKKKACiiigAooooAKKKKACiiigAooooAKKKKACiiigAooooAK8Z8cf8pC/hf/2Rnx5/6dvCFezV4z44/wCUhfwv/wCyM%2BPP/Tt4QoA9mooooAKKK4748fGzw1%2Bz98OpfiJ4m0jU9U3alY6Zpmi6JDHJe6pqF7dRWlpaQLLJHH5kk80a7pHSNAS7uiKzAA7GivHP%2BG3Phda/s2a9%2B0rr3hfxHpdt4Y1O40nX/Ct7a2/9rWWqw3gszYMsc7W5kado1SQTmBllSXzfLbfWPZf8FAPBeoaBJHafBHx6/jSPx7L4OHwySLS21h9Vi09NTkQSi/On%2BUtjIlw05uxGoYRlhMRFQB73X43fD/XrmHR/%2BCh3xLvAUj8O3HibwhYTE/eXUPE2uySqP%2BBzLkf7Qr9gvCus3viLwzp2v6l4Yv8ARLm%2BsYp7jRtVaE3Vi7oGaCYwSSxGRCSrGOR0yp2uwwT%2BQmpeF7mD9gP9sJ1BivfiP%2B2xr3h6zderxReKl249efPX86%2Bc4m5vqSkvs87%2B6lNL8Zo9/gfL45p4n8O4efwfXaMpf4Ye%2B38uVv5H6n/steFf%2BEE/Zk%2BHXgjy9n9j%2BBNIsSmOnlWUUeP/AB2u7pltbQWdtHaW0YSOJAkaDoqgYA/Kn179KmqVKMF0SX3JL9Dy8wxc8fj62KnvUnOb9ZzlN/jJhRRRWhyBRRRQAUUUUAFFFFABRRRQAUUUUAFFFFABRRRQAUUUUAFFFFABRRRQAUUUUAFFFFABRRRQAUUUUAFFFFABRRRQAV4z%2By//AMlv/aO/7LNY/wDqFeF69mrxn9l//kt/7R3/AGWax/8AUK8L0AezUUUUAFFFFABRRRQAUUUUAFFFFABRRRQAUUUUAFFFFABRRRQAUUUUAFFFFABXjPjj/lIX8L/%2ByM%2BPP/Tt4Qr2avGfHH/KQv4X/wDZGfHn/p28IUAeR%2BJdT/4ZX/4K4W3jLxND5HhX9oXwha6Jb6mGxHH4j00kQQy9h5luwSM9WdtoHBNVvG2sS/sIf8FJZ/ix4lhWH4Z/tEx6fpOp6sDti0XxRaRtHbGbskdxESu7jL7mbAQk%2Bz/t5/suxftcfs1618MNNvfsPiO1aPVvBWsK%2Bx9O1m2JktZlccplsxsw5CSPjnFcD8Fte8B/8FWf%2BCf114J%2BN2iG21a7t5vD/j3TfKCXGieILQhZJFU/6uRZQlwgPQOqnPzCvmK%2BGq08TOhTdpczrUm9ubapB%2BTv/wCAzv8AZPR8P89wXDHE2JyzM4uWBx0JxqW%2BJQnKEpuHR1KFaNPEU19pc8HpJtfUVFfLv/BOv9o/xrqMWt/sVftN6xGvxb%2BFki2V5LNJhvEmkgD7Jq0O75pA8ZQSHkhirNgybR9RV7uDxdPG4eNWGl90901o4vzTun/k0dnEnD%2BN4Yzmpl%2BJak42cZx1hUpySlTqwfWFSDjKL82naUZJFFFFdR4QUUUUAFFFFABRRRQAUUUUAFFFFABRRRQAUUUUAFFFFABRRRQAUUUUAFFFFABRRRQAUUUUAFFFFABRRRQAV4z44/5SF/C//sjPjz/07eEK9mrxnxx/ykL%2BF/8A2Rnx5/6dvCFAHs1FFFABXl/7W/wb8Z/Gf4YWFj8NbzTIvE3hrxhoviXQI9bnkisrq40%2B/huTazyRRyPEk0aSQ%2BaschiMgkCSbNjeoUUAfKeo/sgftGeJ/wBl/wCJXwq16XwVbeIvib4ln8Ta3FBrl3PpkskuoQtJoMhazSRrKXTbWKzlvAokY3E7rbJhVPni/wDBLTxZ/wAIxpmr3XwM%2BDtxDo3xW1HxLo3wGbWblPBVhpd5ocOmzWEcw0w8m8iOq/8AIPEXnzSqIwxFxX3fRQB5Z8Bv2etY8DfskeGP2b/it451LVrzTPDMGm6trGh69f2E5ZQPlt7uGVLuNU4jSTzBKUQFjkmvhbxH8NPD/gz9nX4PfBHwzcX1xD4m/b88RS3rapqM15czW1t4w10SGWed3lncJDDulld3cgs7MxJr9PK/OXSv%2BKo/ad/Zo%2BHI%2BZP%2BGhfjbrlyvZPsXiLWGjY/VnIHvXkZ5FSy9x/mlCP/AIFOCf4H3/hhGMONKOKf/Liliqvp7PCYmV/vcfnY/RqiiivXPgAooooAKKKKACiiigAooooAKKKKACiiigAooooAKKKKACiiigAooooAKKKKACiiigAooooAKKKKACiiigAooooAKKKKACvGf2X/APkt/wC0d/2Wax/9QrwvXs1eM/sv/wDJb/2jv%2ByzWP8A6hXhegD2aiiigAooooAKKKKACiiigAooooAKKKKACiiigAooooAKKKKACiiigDyL9vr4heNPhR%2BxR8U/iR8PNZk0zWdF8DajdWWrwxhn00rA268UMCpMC7phuBXMfIIyK86%2BBvjnUv2fta/aE8KeHb/x58RfC3wztNO1fQNNn1q%2B8S61LdS6MLu50m2nuZJrm6kfZbzxws7sG1AKu2Mxov07e2VnqVnLp2o2kVxb3ETRzwTRh0kRhhlZTwQQSCDwQa5T4c/s8/AH4PafYaT8I/gd4P8AC1rpctzJplt4c8M2tjHZvcBBcNEsMaiMyhE3lcF9i7s4FAHzL/wSj%2BNvj34o%2BPvjtonxP8aePdY1mz8baXqE0Hi7wjrulWekG80LT5pdP0%2BLVrWAwW0U7TLHCFWRo9k8ik3HmSeh3/jTxJ4h/wCCm3gvw7q3wj8Q6FZ6T8HvHCWGvarc6c9prQbVvCWXtltruWdAm0Z%2B0RQH5xtDfNj3jSvCvhfQtW1PXtE8N2Fnfa3cx3Gs3trZpHLfzJCkKSTOoBldYo44wzEkJGqjhQB5R44/5SF/C/8A7Iz48/8ATt4QoA9mr4u/aF8M/FH/AIJ4ftD%2BI/26fg74Un8S/C/xs1vL8avBmmw5u9LmiUr/AG7ZrnD4Ukzpxn5mY4O%2BH7RpssUc0bQzRq6OpV0YZDA9QR3rjxuDWLpq0uWcXeMlvF7fNNaST0abXZrz8xwCx1KPLJwnB80JLeMrWvbZpptSi9JRbWmjXzh8ff2bfgx/wUK%2BG3hj9oz4CfE9dF8Y6dbC/wDht8VvDTfv7U8nyZhwZoC25JIJOVJcYUl1ON%2BzX/wUKurLxpH%2Byp%2B3lpdn8PPi5aOILWa4Yx6N4sj4CXen3DYQl%2BMwkhgx2qM7kTA8VfsjftMfsReNtZ%2BMX/BOOTTdZ8I6zfHUPE/wG1yYW9pJOR%2B8m0m46WkrAf6o4j/3gsca7Xhv9o79gn/gpj4Tuf2ePjx4RtdO8UwymHVfhj8Q7f7BrWm3e3BNtuKuWAPEsDbtpG4LkrXhe0q08VzK1HEPeMr%2Byq26p/zdn8aWkozSTPsuHfEDLsRl9PhvjGjJ0439jUg17Si27yeHnP3KtKT96eFqSjZ3lTdOd5T%2Br6K%2BNrT4Bf8ABRX9iGMwfsrfEix%2BNHw%2BtTm1%2BHfxHv8A7NrVhCOkFnqf3JAMAKJwFRcAKTyej%2BH3/BXH9ma61%2BL4dftI6f4g%2BCvjAnbLoPxK0uSzhYjgvFeY8h4skYkZk3A5AxXpwzihCShi06Mv73wv/DNe4/vi/I9/EeHWbYqlLE8P1I5jQWt6F3Wiv%2BnuGf7%2Bm11ahWhfao1a/wBTUVS8O%2BJPDvi/RoPEXhPX7LVNPuk321/p10k8My%2BquhKsPcGrteqmpK6PgJwnSm4TTTWjTTTT7NNJp%2BTSYUUUUyQooooAKKKKACiiigAooooAKKKKACiiigAooooAKKKKACiiigAooooAKKKKACiiigAooooAK8Z8cf8AKQv4X/8AZGfHn/p28IV7NXjPjj/lIX8L/wDsjPjz/wBO3hCgD2aiiigAooooAKKKKACvzf8A2YL%2Bz1r/AIKW%2BG9NvpwsPg2w%2BLuuOSCdhu/iLrNkDgc5OAAByc4r9IK/ND/gnJ/xVv8AwUQ%2BOniH7/8AwiOu61oe7%2B59q%2BI%2BsXu38dua8nNfeeHp/wA1WH/kvNL9EfoHAP7mOcYv/n3gMT99V0KC/wDTkl8z9Gv%2BEw0n/n01T/wR3f8A8apf%2BEw0n/n01X/wR3f/AMar528ff8Fkf%2BCb3wv8d618NPHP7Rv2HW/DurXOmaxZf8IhrEv2e6t5Wilj3x2jI%2B10YblJU4yCRzWT/wAPy/8Aglp/0dD/AOWTrf8A8hVUs8yWEnGWJppr%2B/H/ADM6Phb4mYijGrSyTFyjJJprD1Wmmk001CzTTTT6pp9T6f8A%2BEw0n/n01X/wR3f/AMao/wCEw0n/AJ9NV/8ABHd//Gq%2BdvAP/BZH/gm98UPHei/DTwN%2B0b9u1vxFq1tpmj2X/CIaxF9ouriVYoo98loqJud1G5iFGckgc1337f3xg%2BJn7Pv7E3xT%2BOPwbtNNm8T%2BEvA%2Boaro66vMyW6ywQtJvfbHJu2qGYJtw7KELIGLr14XG4PGxcsPUjNLfladvWx8/nnDPEnDFaFLOMFVw0ppuKq0503JJ2bSmk2k9G110PS/%2BEw0n/n01X/wR3f/AMao/wCEw0n/AJ9NV/8ABHd//Gq%2Be9T/AG3Pjb4V%2BIfjnwX8QvgV4E0LT/hl8PLTxN458T3fxUujY273cWqNb21tjRxLOofT4xLK6RFEuC0cczoIpOZ%2BG3/BSrV/irqnhnQ9W%2BE%2Br%2BF9bi%2BNEvg7xDpCy3ltDIh8H6hr8M%2B3WNHtL14XSGJNv2e0kEqBllkhUrcdJ4Z9Vf8ACYaT/wA%2Bmq/%2BCO7/APjVH/CYaT/z6ar/AOCO7/8AjVfPP7JX7fPxJ/aH0/RLjxz%2BzB/wj934s%2BE2i/EHwnpfh7xrDqs91p18wR4JzcQWUVvcQl4mKh5EdHyHDKY66n9qvxZ8VdS%2BLXwv/Z4%2BFvxX1DwI3ja61i61bxXo2m2N1exW9hZCRbaBb%2B3uLdWkmmhZmeJz5UEqrtZhIgB67/wmGk/8%2Bmq/%2BCO7/wDjVH/CYaT/AM%2Bmq/8Agju//jVfOUH7Qn7SPxP/AOCZHhD4/wDw%2BtLn/hOdd0jw7N4hu/Cuhre3FvaS39pFrGoadZSLIJ5UszeXNvAVl3Msa7JziN%2BB8K/tL/EHxr%2BzL8QvG/jP9qr4l%2BCofhZ8Rr/w9p3iI/D/AEiHxF4w8y0sbjTYZdNvNMZBcySX6WyW0FtbzTOsalYnZkoA%2By/%2BEw0n/n01X/wR3f8A8ao/4TDSf%2BfTVf8AwR3f/wAar4c/aB/ar/bt%2BBFhofxF%2BLtp4p0a70rwJ4KvZvC/grwPDqPh/X9aubsxeIrO/wBRa2mawEKmNbcC4tcl1ZDdsTCvW/Bj9rT4k/FP9p/WdN8beNfiL4X0XUviZ4n8AeArKHw1obeGLm/0qG8G15nR9UkvGSwu75ZC0VkVQW43SIwcA%2Btf%2BEw0n/n01T/wR3f/AMaq/YX9pqdol9YziSKQZVgCO%2BCMHkEHIIPIIrwH9jfxt8VPEPxc%2BJ/g/UfjhrXxM8CeF5NM07RfG3iHSdNtp5PECNerrNhE%2Bm2trBcW1sF05fMERZLiS7haR2hZY/b/AAf/AMgmb/sKX3/pXLQBq0UUUAFFFFABRRRQAUUUUAFFFFABRRRQAUUUUAFFFFABRRRQAUUUUAFFFFABXjP7L/8AyW/9o7/ss1j/AOoV4Xr2avGf2X/%2BS3/tHf8AZZrH/wBQrwvQB7NRRRQAUUUUAFFFFABRRRQAUUUUAFFFFABRRRQAUUUUAFFFFABRRRQAUUUUAFeM%2BOP%2BUhfwv/7Iz48/9O3hCvZq8Z8cf8pC/hf/ANkZ8ef%2BnbwhQB7NRRRQAV5d%2B0f%2Bxd%2BzB%2B1npQ0749fB7Stbnij2Wmr%2BWYNQtB1HlXURWVADztDbSRyDXqNFZVqFHEU3TqxUovo0mvuZjiMPh8XSdKvBSi900mvuaZ8fw/sZ/wDBQL9mtCn7HX7bqeJ9Btzmz8C/G7Tm1CONR0jXUoMXCoB8qoFAAxyetZXjn9rv4%2B6b4dl8D/t%2Bf8EoPEGv6L0vNR8BQWnizTbgYwZjath4UHP3yWA59q%2B1aK8yWUKEXHD1ZQX8rtOHpyzvp5KR5tDK8Rl1WNXLMVUoSi7q0uZJrblUnzRt05akbdLH5deH0/4IteKPEk%2Bo/s8/tbeMv2dfFcku69tNL8Qah4eWKb%2B7PDfIbfb0yiMq444r27wNo3/BSrSrMX/7NH/BQj4O/HHSol3QW/jLRkhlMX937TpUj%2BY3o74yetfW3j34R/Cn4q2X9m/FD4Y%2BHvElvt2%2BRr%2BiwXiY9NsqMK8H8b/8Ed/%2BCcPjm8Opz/szaZpF4G3Q3fhjUbvS2hb%2B8q2sqIPptx7V5jyXG0HeioL/AASqUX9y9pT/APJT7yHib4oKCp5lPDZlBaWxVFTlbt7SUZVFp2r%2BlkYI/bN/4KKfDX918bf%2BCYeo6tbxf6zWfhn44tNREvqUs3AmH0ZuaVf%2BCzH7L/hohPjp8Nfiz8MXU4mHjr4bXkIjPubcTce9A/4JL6N4W%2Bf4Mftz/tCeDlT/AFNhZ/EVrmyT0zDNE27Hu1B/Yx/4KR%2BFFx8Pf%2BCrt/dwKMLYeL/hVpt7vHo04cP%2BQ5ovxHQ2Un6%2BxqfinRl%2BpX%2Bu/D2J/wCRlwpyvrLCY2cPuhW9tD5fgd74I/4Khf8ABPX4hBD4e/a98ERGTGxNY1hdOY%2B2278s59uteteEvir8L/H6LJ4E%2BJGga2rjKtpGsQXII9vLY5r4s8b/ALFP/BRrxDvPirwt%2ByF8R92d8njj4aXMMsnvmBGw3vnrXk3i3/gmp8cNQdpPF3/BJr4Ca24OS/gX4lanoeT6oDIgX8RR/a2eUvjw9/8AtyovydRC/tjwoxHx0c0wr86GGxMV86dWjJ/cj9S6K/JX/hjv9pbwUNugf8E7fjp4MRPuT/Dj9rC1l2j/AGI5Udh9CTS%2BV%2B3Z4G40mL9ujT9nT7XcaZ4ox%2Bfl7/60f6y14fxMLJenN/7dSQW8Lq38PPqlPyr5bjYfe6fto/cmfrTRX5Lf8Na/8FIPB/X4y/tL20af8u/jD9j/AE9k/GeG7LsPfFA/4Ksft7%2BFB/p3xQ0Gfb1/4TL4Da7ZZ/3vse/H4Uf63YCP8SnOPyT/AFQf2ZwZU/gcTYB/43i6P3%2B2wKS%2B/wCZ%2BtNFfkwv/Bej9o/w3hfGHiH4CXLDgpbeH/GNmx/7/WjAVp6f/wAHE3j2DH2r4K/DjWf%2Bwd8Q7iw3fT7XZjH41S4zyF/FNr1j/k2OPDuXVnbD53llT0zHDx/9Oqj%2BNj9VKK/M7SP%2BDilZlDa9%2ByXpNuO/2P426RN%2BjRpW3bf8HFvwOtxu8RfADW4B/F/Z/jLRbr8sXK5raPFvD0v%2BX6XqpL9DWPB2ZVHajicJU/wY/AS/LGI/Raivz60z/g5A/YqvJvs158JfijHJ/EbbSNOuEH/Ao74/yrp9L/4L/fsL6iA0%2Bg/Ee0B73Hg4tj/v3K1bQ4n4fntiYfe//kTWXAXFcdqEZf4a%2BEl/6TjZfkfb1FfHtn/wXV/4J3TDOoePfE1gO5u/BGocf98RNWlZf8Fwf%2BCX94wjb9poQP3S58H6wmPxNpj9a3WfZJLbE0//AAJL87ErgHjaXwZdVl/hip/%2BkTmfWFFfNNh/wWI/4Jp6jj7P%2B1joS5/572N5F/6HAK2bH/gqb/wTu1HH2f8Aa/8ABK5/576qIv8A0MCtY5vlMtsRD/wOP/yQpcA8dR3yrE/%2BCKz/ACps99orxmy/4KK/sEahjyP2zPhkuf8Anv42sov/AEOQVrWX7bv7F%2BpY/s/9rv4Xz56eT4/05v5TVtHH4CW1aH/gcf8A5I4qnCXFlH%2BJl2IXrh66/wDcJ6hRXC2f7UX7M2oY/s/9orwJPnp5Pi6yb%2BUtalp8avg3qGPsHxa8Mz56eTr1u38nrVYjDy2nF/Nf5nBUyfOKP8TDVY%2BtOovzpo6aisy08beDL/H2Hxdpk2enlX8bfyatCG4t7ld9vOki%2BqMCP0rVSjLZnFOjWpfHFr1TX5pD6KKKZmFFFFABXjPjj/lIX8L/APsjPjz/ANO3hCvZq8Z8cf8AKQv4X/8AZGfHn/p28IUAezUUUUAFZvjDxl4Q%2BHnhe/8AHHj/AMV6boei6XbNcanrGsX0dta2cKjLSSyyEJGgHVmIArSrxD9v7w34i134J6Nq2ieFNS1%2B08N/Evwrr/iDQ9H06S8urzTbHWrS5uDFbRK0ly8Kx/aRCitJJ9n2oruVUgHpmm/GH4R6z8Mh8a9H%2BKfhy78GHT3vx4tttct5NM%2ByICXuPtSuYvKUK2X3bRtOTxVLRP2hfgF4m%2BFV58dvDfxx8H6h4I062uLjUPGVj4mtZdKtYYATPJJdrIYUWMKxdiwCbTnGK%2BQvEfhXxp4w/YZ%2BNPh/Rfg941iPjX4k3nirw1oL%2BEL%2B21HT9Gn1y2Mmow20kKk3ytBd6tHpzjz5GeNZYczMh898Vfs9ftf/ABR/Zy%2BKun/DjwLceN/CusfEfWvEWpXHxcW%2B8J%2BJfHYi8OaZFp9xLp9vozA%2BRfwyxpbi0sfP/sixbBWSV5wD9KNL1TTNc0y21rRdRgvLO8gSe0u7WZZIp4nUMroykhlIIIIOCCCK/O7/AIJCeHj/AML6/bE8dspIvf2mrzTlc/8ATt4i1BiB/wCBAr7E/Z/0j41x/sb%2BCdBubXRfCPjiHwLptu8Oo2lzq1np1yltGpWWImxmmwBhkzCwbIz8uT82f8EffCHiPw58Ivjtq/jTUbO%2B1nVf2xPGb6jqGnae9pb3MkXiFYHeKF5ZWhjMkcrLG0shUNtLuRuPBi6ftMVh3/LKT/8AJJL9T63h/GrB5BnEb61aNKn9%2BKpTf/ptH3PRXzF4/wD%2BCmv/AAgXjvW/Av8Aw75/ae1r%2BxdXubD%2B2NA%2BE/2mwv8AyZWj8%2B2l%2B0jzYX270fA3KynAzWR/w9h/6xqftaf%2BGb/%2B6qylnWWRk4upqv7s/wD5WfnMuIcmhJxlV1Wnw1Omn/Po%2BtKxfiP8PPBnxc%2BH2ufCr4jaDFqvh/xLpFzpeuaZOzKl1aXETRTREoQwDIzDKkEZyCDzXz54B/4Ka/8ACe%2BO9F8C/wDDvn9p7Rf7a1e2sP7Y1/4T/ZrCw86VY/PuZftJ8qFN293wdqqxwcV7N%2B0n4w%2BJ3w8%2BAXi/4g/Bnw5aaz4n0HQLnUtH0W9hd01KSBDKbUBHQh5VRo0bdhXdWIYAqevDYzDYyLlRldLfSS/9KjH9TtwePweYRcsPLmS0ekl5/ajH8LmNB%2Bxr%2BzwvhXxT4O1PwhqWr2fjXw3b6D4ql8ReK9T1O61Kwg%2B0%2BTHJc3dzJPvT7XPiUOJRuX5/kTbneB/2Cv2Wvh7qS654f8BalNqQ8XDxRLq2teMdW1K8uNXGkTaMLua4vLqWWdhp88tviRmXaVONyIy%2BG%2BI/%2BCj/AMTfiR4WufGP7LjaHqth4j8dzaR8KJYvCS6o3iDTrDSFutVvZGudb0q2hjiu/PgDtcLtFm4CStIPL4nwb%2B3V8Rvi54j0T48WX2m107x58Mv2d9Vj8KNr979h0qfxF4u122v5IPs08W5zF5KMxyk62sKzJLEvlHpOw%2Bw/DH7J3wI8E2OiWHg7wne6UvhzwNaeDtEm07xHqEM1potq8bwWqypOHO0xR5kLGRgCGdgzA6Pxv/Z6%2BFP7ROiafofxS0fUZhpGom%2B0i/0TxFfaRfWNwYZYGeG8sJobiLdDNNE4SQB0kZWBUkV8m/BP9qn9qD43ftSfCDxhqfirwj/Ynjv4W%2BP9b8OfD3Srq909rWSzv9GgtoNWlM1wl1LH5pRrhLaI20j3CLFJnJ9u/bf1bxJPpnwo%2BG8virVfDukeO/ivYaH4z1Lw3rtxp91DZnT7%2B6SCG9t2int/PvbWztfMjaORluCqlS4oA9Ck/Z3%2BFieAx8MNGsdY0XQIvDlhoVlpnhnxXqOlR6fY2ZJt0tPsdxEbN1B2mWApK6IiM7LGirxfiX/gnr%2Byr4r8KeE/B2o%2BEvElvbeCdeu9c8O3ekfEfXrC%2Bi1S6WVbi/mvLa9jubu5kE8waeeSSQ%2BdJ83ztngfhFqP7QvxT/4Jt%2BN9D%2BE/xJu5/GlnqXjvw54B8Waxqpa4uLfT9e1TT9MuJLyUOWlNrbQD7W4cu2J237jniv2fbP4q/FnTvjf8Cz4L8fWFh4S8U6MfBPh7xx%2B0Jq1pqsN/LpUU93p934g0m6vrpIxuS6EKzXW1bpNyqrLFEAfSviD9kv4KeLvEHhjxH4utPE2rSeELewi0ey1Xx/rNzYu9lJ5trcXVpJdtb391HLiUXV1HLP5iI5kLIrCvc/sZ/s7XfxUu/jPJ4O1Bdfu5rm53w%2BKtSjtLa7uLRrOe%2Bt7NbgW1revbO8TXkMaXBWRx5nztn4Mn%2BNXxc8X/ALNGpa/4w/aS8ZaZq/wu/Zr8ReKfDV/pfiy7the%2BJ9O1jUbOZrh4Zh/bsFm9hZWy/aPNiu0vBLJGXuF2%2Bs%2BCvj18U7r9tjXPG/xw8IeI49HsPjNp/wAP/DsOnfFi/sodJmuvDtneQq/h6ALaalDJJdSyvdXLvPH5qlIvKtw4APqH9mv9kr4J/sjeFR4F%2BBVn4msNEjs4LW00jWvH%2Bs6zbWUMO7YltFqN3OtqPnOfKCb/AJd27auO28H/APIJm/7Ct9/6Vy1qVl%2BD/wDkEzf9hW%2B/9K5aANSiiigAooooAKKKKACiiigAooooAKKKKACiiigAooooAKKKKACiiigAooooAK8Z/Zf/AOS3/tHf9lmsf/UK8L17NXjP7L//ACW/9o7/ALLNY/8AqFeF6APZqKKKACiiigAooooAKKKKACiiigAooooAKKKKACiiigAooooAKKKKACiiigArxnxx/wApC/hf/wBkZ8ef%2BnbwhXs1fOH7R%2Br/ABr0f9vD4Tz/AAO%2BH/hbxFqTfCPx2t3aeK/GFzosEcH9qeEiXSW30%2B9Z33bRsMajBJ35AUgH0fRXjP8AwnH/AAUL/wCjX/gz/wCH41b/AOZej/hOP%2BChf/Rr/wAGf/D8at/8y9AHs1FeM/8ACcf8FC/%2BjX/gz/4fjVv/AJl6P%2BE4/wCChf8A0a/8Gf8Aw/Grf/MvQB7NRXzjpP7R37dusfGfX/gdb/sofCRdU8O%2BF9I128uX%2BOuqeRJBqNzqVvCiEeGNxdW0ucsCoADx4LEsF6j/AITj/goX/wBGv/Bn/wAPxq3/AMy9AHs1FeM/8Jx/wUL/AOjX/gz/AOH41b/5l6P%2BE4/4KF/9Gv8AwZ/8Pxq3/wAy9AHs1FeM/wDCcf8ABQv/AKNf%2BDP/AIfjVv8A5l65fwD%2B0d%2B3b8RPFfjfwho/7KHwkhuPAfiiLQtVkufjrqgSeeTStP1MPFt8MElPJ1GFSWCnejjGAGYA%2BjqK8Z/4Tj/goX/0a/8ABn/w/Grf/MvR/wAJx/wUL/6Nf%2BDP/h%2BNW/8AmXoA9morxn/hOP8AgoX/ANGv/Bn/AMPxq3/zL0f8Jx/wUL/6Nf8Agz/4fjVv/mXoA9mor5x%2BEX7R37dvxl8KXfi/w5%2Byh8JLa3s/FGt6FJHe/HXVFcz6Xqt1pk7jb4YYbGmtJGQ5yUZSQpyo6j/hOP8AgoX/ANGv/Bn/AMPxq3/zL0AeysqupVlBB6gjrWXqHgTwRq%2Bf7V8G6VdZ6/aNOifP5qa8u/4Tj/goX/0a/wDBn/w/Grf/ADL0f8Jx/wAFC/8Ao1/4M/8Ah%2BNW/wDmXpOMZbq5MoxkrSVztr/9nn4Aapn%2B0/gb4Puc9fP8M2r5/OOsa9/Y1/ZB1LP9o/sqfDa4z18/wNp75/OGsL/hOP8AgoX/ANGv/Bn/AMPxq3/zL1y/wR/aO/bt%2BPHwY8IfHHwr%2Byh8JLXS/GfhfT9d0221D466os8MF3bR3EaSBPDDKHCyAMFZhkHBI5rGWFwsvipxf/bsf/kTCWCwc/ipRfrGL/8AbTr7z/gn1%2Bwhf5%2B0fsYfCvJ6mPwBp6H81hFZd3/wTL/4J83v%2Bu/Y5%2BHy5/54%2BG4Y/wD0FRV3/hOP%2BChf/Rr/AMGf/D8at/8AMvR/wnH/AAUL/wCjX/gz/wCH41b/AOZesnl2XS3ow/8AAI//ACJhLKcqlvh6f/gEP/kDAuv%2BCUH/AATlvM%2Bd%2ByH4QGf%2BeVo8f/oLis65/wCCPH/BNO7/ANb%2ByZoI/wCuV5eJ/wCgzCuw/wCE4/4KF/8ARr/wZ/8AD8at/wDMvXL/ABu/aO/bt%2BA/wY8X/HHxV%2Byh8JLrS/BnhfUNd1K20/466o080FpbSXEiRh/DCqXKxkKGZRkjJA5rJ5RlL3w8P/AI/wCRk8iyOW%2BFp/8AguH/AMiZFz/wRU/4JhXWfN/ZVsBn/nn4i1RP/QboVRn/AOCGv/BLac7v%2BGYAh9Y/GetD/wBvMV6b/wAJx/wUL/6Nf%2BDP/h%2BNW/8AmXo/4Tj/AIKF/wDRr/wZ/wDD8at/8y9Q8jyV74an/wCAR/yMnw5w898HS/8ABcf8jya4/wCCEX/BMKcYT4AXsf8AueNNWP8A6Fcmqc//AAQN/wCCZkv%2Br%2BD2rxf7njC//rKa9l/4Tj/goX/0a/8ABn/w/Grf/MvR/wAJx/wUL/6Nf%2BDP/h%2BNW/8AmXqHw/kT/wCYWn/4CjWGR5NT%2BDDxXorfk0eHzf8ABv3/AME2Jf8AV/D3xHH/ALni26/qxqrL/wAG9n/BOOT7nhnxbH/ueKpP6qa9S%2BLv7R37dvwa8KWni/xH%2Byh8JLm3vPFGiaFHHZfHXVGcT6pqtrpkDnd4YUbFmu42c5yEViAxwp6j/hOP%2BChf/Rr/AMGf/D8at/8AMvUPhzIH/wAwsP8AwFHRHLsHD4Ytekqi/Kqj57l/4N3v%2BCdsn3LPxsn%2B74oH9YjUD/8ABun/AME%2Bid0F/wDECE9jH4mi4/O3NfRf/Ccf8FC/%2BjX/AIM/%2BH41b/5l6P8AhOP%2BChf/AEa/8Gf/AA/Grf8AzL1L4Z4ef/MLD7v%2BCbRoKPwzmvSrXX5V0fOif8G8P7EUH/Hj8R/itbY6eR4stxj/AMlKni/4N/v2U7X/AI8f2gfjbb%2BnkeNbZcf%2BSdfQn/Ccf8FC/wDo1/4M/wDh%2BNW/%2BZeuX8fftHft2/DvxX4I8Iax%2Byh8JJrjx54ol0LSpLb466oUgnj0rUNTLy7vDAITydOmUFQx3ugxgllFw1kC2w0fx/8AkgdBS3nU/wDB1f8A%2BaDy%2B3/4IS/AWz/48P2uf2hLfHTyfiDbrj/ySq9b/wDBFL4cWQxYft1/tMQY6eV8ToVx%2BVnXtX/Ccf8ABQv/AKNf%2BDP/AIfjVv8A5l6P%2BE4/4KF/9Gv/AAZ/8Pxq3/zL1a4eyRbUF98v/kznnluFqfFzv/uLX/8Al55BF/wR50y0/wCPD/gov%2B1HD6bPioo/lbCk%2BBX7JN1%2By1/wUK8GrcftN/FT4jLrnwZ8ZbB8TPFh1T%2BzvJ1bwtn7NlF8rzPN%2Bfru8qP%2B7XsH/Ccf8FC/%2BjX/AIM/%2BH41b/5l6oeB/A/7VnjH9qzw58bvjd8OPh74Z0bwz8PfEOhww%2BFfiHfa1dXd1qV9olwjMlxpFikUaJpcoLB3YtKgC4yR0YfKcuwtVVKVO0l5z/Jza/AVHKsDh6yqwi%2BZd51H%2BEqkl%2BDPdaKKK9E9AKKKKACiiigAr5y/Yh8Mab4W/Z48WXtj5hF7%2B0N4/wBTvnYZwf8AhPNU3twOipGPwWvo2vkr9krxZ%2B2dp/w98UWfwx%2BAfww1fQk%2BNPxF/s/Ude%2BLuo6bdzL/AMJnrJYyW0WgXKRENuAAmfIAOQTtCaTafYuNSpGEoJ6Stfzs7r7nqfUH/Cc%2BCf8AocNL/wDBhH/8VS/8Jz4J/wChw0r/AMGEf/xVeW/8Jx/wUL/6Nf8Agz/4fjVv/mXo/wCE4/4KF/8ARr/wZ/8AD8at/wDMvTIPUv8AhOfBP/Q4aV/4MI//AIqj/hOfBP8A0OGlf%2BDCP/4qvLf%2BE4/4KF/9Gv8AwZ/8Pxq3/wAy9H/Ccf8ABQv/AKNf%2BDP/AIfjVv8A5l6ANS%2B%2BBn7FGqfDjSfg7qfwd%2BFtx4R0C9%2B2aF4Vn8Paa%2Bm6bc7pG86C2KeVDJullO9FBzI5z8xzoaf8OP2UdJtbWy0rwH8PbaGytNJtLKG30uxRbeDS55LjTIkAUBEtJ5ZZbdRgQSSO8YVmJPmfwR/aO/bt%2BPHwY8IfHHwr%2Byh8JLXS/GfhfT9d0221D466os8MF3bR3EaSBPDDKHCyAMFZhkHBI5rqP%2BE4/wCChf8A0a/8Gf8Aw/Grf/MvQBq2PwP/AGKtL8U63450z4QfC631vxLBdQ%2BI9Yg8P6al1qsd1j7SlzKE3zrLtXzA5IfA3ZxXQeN9K%2BAHxM8EXPwy%2BJGm%2BDvEHhu8hSK78Pa5DaXdjPGjKyI8EoaNlVlUgFcAqCOgriv%2BE4/4KF/9Gv8AwZ/8Pxq3/wAy9H/Ccf8ABQv/AKNf%2BDP/AIfjVv8A5l6AOqHgn9mEeHrfwiPCPgMaTaeG5/D1rpf2Cy%2Bzw6ROI1m05I9u1bWQQxB4APLYRICp2jGHdfs%2BfsMX3wttfgde/BD4TzeCrK/N9Z%2BD5fDWmNpcF0d%2BZ0tDH5KSfvH%2BcKG%2BdueTXE/G79o79u34D/Bjxf8AHHxV%2Byh8JLrS/BnhfUNd1K20/wCOuqNPNBaW0lxIkYfwwqlysZChmUZIyQOa6j/hOP8AgoX/ANGv/Bn/AMPxq3/zL0AbviD4TfsgeLLHwxpfir4afDbU7bwTLHL4Mt9Q0bT5o9AdAgRrJXQi1KiNMGLaRsXHQVcuvA37L198VLf46Xvg/wAAzeN7SzNpaeMZdPsm1WG3KspiS7K%2BcqYdxtDYwzDHJrlv%2BE4/4KF/9Gv/AAZ/8Pxq3/zL0f8ACcf8FC/%2BjX/gz/4fjVv/AJl6APUf%2BE58E/8AQ4aX/wCDCP8A%2BKo8GHfoZnUHZNfXcsRIxuR7mRlb6FSCPY15d/wnH/BQv/o1/wCDP/h%2BNW/%2BZeuX%2BLv7R37dvwa8KWni/wAR/sofCS5t7zxRomhRx2Xx11RnE%2Bqara6ZA53eGFGxZruNnOchFYgMcKQD6Oorxn/hOP8AgoX/ANGv/Bn/AMPxq3/zL0f8Jx/wUL/6Nf8Agz/4fjVv/mXoA9morxn/AITj/goX/wBGv/Bn/wAPxq3/AMy9H/Ccf8FC/wDo1/4M/wDh%2BNW/%2BZegD2aivnHx9%2B0d%2B3b8O/FfgjwhrH7KHwkmuPHniiXQtKktvjrqhSCePStQ1MvLu8MAhPJ06ZQVDHe6DGCWXqP%2BE4/4KF/9Gv8AwZ/8Pxq3/wAy9AHs1FeM/wDCcf8ABQv/AKNf%2BDP/AIfjVv8A5l6P%2BE4/4KF/9Gv/AAZ/8Pxq3/zL0AezUV4z/wAJx/wUL/6Nf%2BDP/h%2BNW/8AmXrl9W/aO/bt0f4z6B8Drj9lD4SNqniLwvq%2Bu2dynx11TyI4NOudNt5kcnwxuDs2qQFQFIISTJUhQwB9HUV4z/wnH/BQv/o1/wCDP/h%2BNW/%2BZej/AITj/goX/wBGv/Bn/wAPxq3/AMy9AHs1FeM/8Jx/wUL/AOjX/gz/AOH41b/5l6P%2BE4/4KF/9Gv8AwZ/8Pxq3/wAy9AHs1FfOOk/tHft26x8Z9f8Agdb/ALKHwkXVPDvhfSNdvLl/jrqnkSQajc6lbwohHhjcXVtLnLAqAA8eCxLBeo/4Tj/goX/0a/8ABn/w/Grf/MvQB7NRXjP/AAnH/BQv/o1/4M/%2BH41b/wCZej/hOP8AgoX/ANGv/Bn/AMPxq3/zL0AezUV4z/wnH/BQv/o1/wCDP/h%2BNW/%2BZeuX8A/tHft2/ETxX438IaP%2Byh8JIbjwH4oi0LVZLn466oEnnk0rT9TDxbfDBJTydRhUlgp3o4xgBmAPo6ivGf8AhOP%2BChf/AEa/8Gf/AA/Grf8AzL0f8Jx/wUL/AOjX/gz/AOH41b/5l6APZq8Z/Zf/AOS3/tHf9lmsf/UK8L0f8Jx/wUL/AOjX/gz/AOH41b/5l6t/srfDn40%2BD9Y%2BKHjv46aB4X0nVPH3xCi1yz0rwn4ludWt7W1i0HR9MVXuLiys2aRpNOlcqItoWRBuY5wAet0UUUAFFFFABRRRQAUUUUAFFFFABRRRQAUUUUAFFFFABRRRQAUUUUAFFFFABXyv%2B09%2B1p8XPhh8Y/FmteAfDvg%2BTwx8H/D/AIfvfGp1rSLibVdUt9Xv5UuYLC4juI0svItrOO4zJFOLmQpGRD5fmn6orxn4z/sQ/Dj43fFI/EzXPHPirS4tRtdItfF/hrRrq1TTvFMGl3sl7YxXyy28kwWOaaXP2eWAyxyGKYyxhUAB7NRRRQAUUUUAfMfhz9pX4mQ/t/8Aij4P/EbWPD3hPw2viC00TwZFqPwi1lLrxjANAg1HEHiNrtdOaWO7udQAtBC8nl2kwCgs0i/TleV%2BLP2WoPH/AMZNI%2BKfj343%2BNdX0rw9rsetaB4AuDpkWjWOoR27wRzhobJL2XZ5kkipNdSRiR92z5EC%2BqUAFFFFAHi//BQX4u/HD9n79kfxp8evgFe%2BFI9Y8E6Fd65dQeMNFub62u7S1tpZnt0S2urZkldkRRIXKoCxKPwK8/8AHn7Wnxc8F/HjxbqfhTw74Qi%2BHnhD4x%2BEfh94ys5tIuDreq6rrsGipHqEN2lwsMccH9uaTGYpLeV5EhnxLHtQV7D%2B1j%2BzjZftafAjXv2fda%2BKvinwjpPieylsdcv/AAgunfa7mylieKa23X9pdRojq/LIiyAqNrrzni4P2AfB0/xFs/iL4q%2BOPj7XWOs6TrnibRtQl0qKx8T65piRpY6tex21hEy3EQgtMLbNBAxsbYvExjyQD3uiiigArxf9sn4u/HD4JWvgHxj8LL3wp/Y2ofEzw54e8X2PiDRbm5urm11XWbHTQbOWG6hS2kjW5lk3yJOpKIuzkmvaK8q/au/Zbf8Aaq8N6F4Xn%2BPvjfwNb6F4ksNdRvBcOjs93e2N5BeWbSnUtPvBtiuLeNwsYQNysm9TtAB5x%2Bzz%2B0r8TNb/AGqvFvwR%2BKGr%2BHvCenQ%2BKdbt/BPhKT4Razplzr1tC6Sm/t9auLv7BqDsZJpZYraAvyXYrhifpyvJdJ/ZRD/GTRfjL8R/2gPHfjWbwvd3l34T0LxCNJhsNHurm3ktZLiJbDT7aWV/s808K%2BfJKqLO%2B0AkEetUAFFFFAHh/wC3d8XPjx%2Bz98GtX%2BOvwo8Y%2BBbHT/C2i3N5e6L4s8M3t/c%2BIb3KLZ6ZZyW17B9nmuJSLdG8q6ZpZ4gsLH5W8/8Agj%2B198Z9c%2BJfgr%2B1vBnhLSPhp43%2BJ/ij4beFfDWnaXNHq%2BiX%2BgQ6tvnnuRcNbzQSN4f1NFhjt4jGrWx8yTLAen/tK/sgwftJePPBHxAm/aB8d%2BELnwDd3N7otj4Yi0aezkvZUEa3k0Gp6deI88MfmLDIApjE8pHzNkVfAf7DXw98B/GW3%2BLsPxF8XalBp2u6nr2ieENSubL%2BydK1vUY3j1DVIEitUn8%2BcT3ZZXmeFGvrkxxR%2BZwAe10UUUAFfL/7XPx4/aX%2BC3xE0/wppUPgDxro/jmHWrbRfhzF4PvpNYS1tNDuruS/uJxevFdWwuore2khFrED9vhQTGRkST6grw6b9ia4j/aP8V/tNaJ%2B1X8S9O1fxbpsOnXOlwweH57TT7OGBo4baza50mW5t4lld7rYs2153LuHB20AM/YQ/aD8b/Hv4e3l18V/H2jX3i7ThZtr/huy%2BF2r%2BEbzQHntllEFzZavdT3Dgtv8u4ASORUO0NtJr3SvN/gd%2Bzdp3wZ8T%2BJPiHrHxS8U%2BOPFXiuKxt9Y8T%2BLmsFuXtLMTfZbVItPtbW2jija5uXG2EMzXEhZmyMekUAFFFFAHxz/AMFBP24/ip%2Bxh45/tPXNF0Dxj4RfRtR1u38Ky/DnU7KW3TTdGvtSST/hIprp9Mnu/temjZYrAl0I5llA2wtI3r37NHxd%2BOerfFTxv%2Bz1%2B0dc%2BFNQ8T%2BEdJ0PWo9a8FaRc2Fjc2OqC8jSIwXNzcussVxp12pfzcSIYm2RklRW%2BOv7CXgj9pzWrq1%2BP/xb8a%2BKPBdzJcSL8MryTTYdFikmsZrJm329lHfSAR3EzBJbp0Dvu2/IgXp/2fP2ZtI%2BAd5r3iK7%2BKHizxx4j8SGzj1bxV41uLN76W2tIjFa2o%2Bx21vCsUQeVhiPezzyu7Ozk0AelUUUUAFfEf7U/wC2V%2B1n8G/jV4g%2BFHg7w34c8a6nYaLca74YCfA/xBHJooGo6ZaoYW%2B3OPE0gsdUuPO/svynhaErKIxMI6%2B3K8P179i3U/Evj0/E7Wv2ufijNrenwXkXg28KaAB4VW6mhkn%2ByRjSdk7NHAtvuvVumWJnClXdnIB1X7LHxYf4yfCODxZe/EzRvFV/DqN1ZapfaN4MvvDotriKVla1m03ULie6s54xhXjmcPn5tqhgK9GrhvgH8BfD3wA8M6no2leKdb8Qajr%2BvXGt%2BJPEniOaBr3Vb%2BYIjTyi3ihgTEcUMSpDFHGqRIAowSe5oAKKKKACiiigAooooAKKKKAKPijxDYeEvDWo%2BK9VDm10yxmu7kRLlvLjQu2B3OFNfOf7E37Sfxr8f%2BKdH8GfGzw94Msx46%2BFtl8RvDMPgzSri0GmR3lwTd6fdma4lF3NG9zbP9sQQCdpZiYI9oL/AEtd2lrf2stje26TQzRtHNFKoZXUjBUg8EEcYryH9mb9ivwF%2BzBqr6voHxB8W%2BJZbbwxY%2BGfDo8WXtrMNA0KzeR7fTbU29vCWjUyfNLOZriQRxeZM/lrgA9iooooAK4X9qDx58RfhZ%2BzR8RPid8H/Ci694t8OeBdX1TwtobWM10NR1G3s5Zba2MMDLLMJJURPLjYO27CkEg13VZ3i3RL/wAS%2BGNQ8P6X4r1HQrm9tJIbfWtIWBrqxdlIE0QuIpYi6nkCSN0yPmVhkEA8u/Yp%2BLU/xQ%2BGd9Zat8QvD%2Bs6n4d1VdOvNM0T4Yan4OfQ0FtBJFZ3Glapcz3MLhHEiu3lo8UsWxMDe/sVeefAf9nbSfgdeeJfEdz8RPEnjHxJ4v1GG88ReKfFb2Yu7ow26W8EQjsba2tooo40AVY4UyWdmLMzMfQ6ACiiigD5c/ao/ax%2BKH7OHxe8cWXxK0bwl4i%2BF9h%2Bzv4v8e22hW%2BiXCaq7aINLWe2uLmS5e3minW%2BnAQWyFQiZd8sK7f9mf4v/HzVPi54y/Z1/aWfwleeKPDHhjw94lj1XwVpNzY2Ullqz6lbrbGG5ublzLDcaRdgyiQLIjxN5cZ3LUHxj/YV8O/HT46t8ZfHnx28cy6bN4K1PwjffD2GDRf7Eu9G1Jbb7faSF9Na9Ina0gdnF0HUoQjIjMh6T9nf9l3Q/wBn2%2B1rxHP8UPFvjfxDr9rYWV/4n8bXNpJemwsUkWzsx9ktrePyojPcOCUMjvcyu7uzZoA9PooooAK%2BRPjX%2B0v%2B1t4M139oDwJb%2BFfBniy98BeH/CniT4bWOk/D/U7%2BdY9R1XUoQl5axXjy6jPAumxzqbYW5LkhV%2BVWr67rwuX9ijxDF8dPG3x/0L9tD4raVq3jfSLHTLmxsrPww1ppttZXFzPZpbCXRXk/dG8ulBmeUus5EnmFUKgHV/sqfFub4y/CkeJtR%2BJ2jeKdRtdVubHVrrR/BF/4bNncRN81rPpmo3E91aTopXckzBiGVtqqwr0muE%2BAfwD0D4A6FrNjp/i3XPEeq%2BJvEEuueJ/E3iSW3a91W/khhg82QW0MMEYWC3t4VSKKNFSFAFzknu6ACiiigD42/aW/a7/aW/Z4%2BM0Hw21lPhn41vtbggm8Iw6d4WvbSXwXeal4h0zw9pE2pyvfTC6inbV5wWiWzkcWN0sYZfMMXuP7Kvxf%2BJHxGHj/AOH3xiOiT%2BKvhp48bw1rOq%2BGtOms7DU/M0vTtWt7iG3mnnkt82uqW6PG00uJI5MMQRjhbb/gmr4Sa6%2BIb%2BIf2l/idrNv8SdeOuaxb6kdC8yz1KK4hn0%2B5trqLS0ulNg9vbi0jeaSKJYUDI/OfWPgH8BdD%2BAfh7VtNsvF%2BueJNW8Ra9NrXifxR4le2N/q99JHFD50wtYIIF2QQW8CJFFGixwRqF4JIB3VFFFADLn7T9mk%2Bx7PO2HyvNzt3Y4zjnGa%2BIPit%2B1z%2B2n8NPiJrnw2t7bwH4z17wxe%2BGrfVvHXgj4K6/q0fhy31Zrx72wl0qz1Ke7uZo4bKxuiYp0/d3ULSwIDE0n29dwyXFrLbw3UkDyRsqzxBS8ZIwGXcCuR1GQR6g189/Bj9gLxB8BPhtcfDT4d/t1fGKKO61Z9Tm1m8svCc%2BoS3cryyXM80z6EftMk7y7pJJxI%2BY02FAMEA9Z%2BAnxDsvit8HfD/wAQrD4gaN4qTU9PEj6/4f0mawtLuQErIUtZ5ppbYq6sjQySO8bKysdykDr65L4F/Bfwl%2Bz78L9O%2BFPgq5v7iysJbq4mvtVuRNdX13dXMt1dXUzhVDSzXE80r7VVd0h2qq4UdbQAVR8Tw%2BJLnw3qFv4N1OxstXkspV0u81Owe6toLgoRHJLDHLE00atgsiyRlgCA6k7herN8Y6Df%2BKPC1/4d0vxbqWg3N5avFBrWjiA3Vi5HE0QuIpYi6nkCSN0OPmVhkUAfD3w3/bs/a1%2BMHxT1v4JfCzTfh8njPTbXXb6Txn4r%2BF2taGuqaZpFrosqWMuiXl8moafK934h2JNPM8flQyXCQus6A/Y3wC%2BLWm/Hz4E%2BCvjro2my2dn418Jabr1pZzPueCK8tY7hY2IAyVEgBPqK8W1f/gmR4H1rXL74i3f7SnxTT4gasl5a618Sba90iHVr/TLq2tbabTCiaaLOG2KWVow8i2ilWSBZVlDlmP0H4L8H%2BGvh54O0nwB4M0mLT9H0PTINP0mwhzstraGNY4o1zzhUVVH0oA06KKKAOX%2BNOo%2BONG%2BFuta38OfENjperWFmbqG%2B1Dwfe%2BIESOMh5QNOsZ4Lm8kaJXVIoZA5dlwrn5G%2BLfhL/wAFEfj94k8aaHqfje48I%2BBPBmpTzr4g8cXnwM8RTW2sX8Ov3WkIlzKt9GnhmeS1tLX9xqjSSwPKsb52BK%2B2/iZ4M13x74Sm8OeG/ilr/g28kljeLX/DMVi93BtYEqq39tcwMGAKkPE3BOMHBHit1/wTm8Kah4PuPhtq37SHxNu/DGuahNf%2BPNAmuNHEXjC7nvGuria%2BlXTRcReaWWFo7OW1iEMSRqijduAPomiiigAooooAKKKKACiiigAooooAKKKKACiiigAooooAKKKKACiiigAooooAKKKKACiiigAooooAKKKKACiiigAooooAKKKKACiiigAooooAKKKKACiiigAooooAKKKKACiiigAooooAKKKKACiiigAooooAKKKKACiiigAooooAKKKKACiiigAooooAKKKKACiiigAooooAKKKKACiiigAooooAKKKKACiiigAooooAKKKKACiiigAooooAKKKKACiiigAooooAKKKKACiiigAooooAKKKKACiiigAooooAKKKKACiiigAooooAKKKKACiiigD/2Q%3D%3D\">"
      ]
     },
     "metadata": {
      "tags": []
     },
     "output_type": "display_data"
    }
   ],
   "source": [
    "s.run(tf.global_variables_initializer())\n",
    "\n",
    "BATCH_SIZE = 512\n",
    "EPOCHS = 40\n",
    "\n",
    "# for logging the progress right here in Jupyter (for those who don't have TensorBoard)\n",
    "simpleTrainingCurves = matplotlib_utils.SimpleTrainingCurves(\"cross-entropy\", \"accuracy\")\n",
    "\n",
    "for epoch in range(EPOCHS):  # we finish an epoch when we've looked at all training samples\n",
    "    \n",
    "    batch_losses = []\n",
    "    for batch_start in range(0, X_train_flat.shape[0], BATCH_SIZE):  # data is already shuffled\n",
    "        _, batch_loss = s.run([step, loss], {input_X: X_train_flat[batch_start:batch_start+BATCH_SIZE], \n",
    "                                             input_y: y_train_oh[batch_start:batch_start+BATCH_SIZE]})\n",
    "        # collect batch losses, this is almost free as we need a forward pass for backprop anyway\n",
    "        batch_losses.append(batch_loss)\n",
    "\n",
    "    train_loss = np.mean(batch_losses)\n",
    "    val_loss = s.run(loss, {input_X: X_val_flat, input_y: y_val_oh})  # this part is usually small\n",
    "    train_accuracy = accuracy_score(y_train, s.run(classes, {input_X: X_train_flat}))  # this is slow and usually skipped\n",
    "    valid_accuracy = accuracy_score(y_val, s.run(classes, {input_X: X_val_flat}))  \n",
    "    simpleTrainingCurves.add(train_loss, val_loss, train_accuracy, valid_accuracy)"
   ]
  },
  {
   "cell_type": "markdown",
   "metadata": {
    "colab_type": "text",
    "deletable": true,
    "editable": true,
    "id": "D_WviMNDLGeZ"
   },
   "source": [
    "# Submit a linear model"
   ]
  },
  {
   "cell_type": "code",
   "execution_count": 0,
   "metadata": {
    "colab": {},
    "colab_type": "code",
    "collapsed": true,
    "deletable": true,
    "editable": true,
    "id": "vf4cG2OSLGea"
   },
   "outputs": [],
   "source": [
    "## GRADED PART, DO NOT CHANGE!\n",
    "# Testing shapes \n",
    "grader.set_answer(\"9XaAS\", grading_utils.get_tensors_shapes_string([W, b, input_X, input_y, logits, probas, classes]))\n",
    "# Validation loss\n",
    "grader.set_answer(\"vmogZ\", s.run(loss, {input_X: X_val_flat, input_y: y_val_oh}))\n",
    "# Validation accuracy\n",
    "grader.set_answer(\"RMv95\", accuracy_score(y_val, s.run(classes, {input_X: X_val_flat})))"
   ]
  },
  {
   "cell_type": "code",
   "execution_count": 36,
   "metadata": {
    "colab": {
     "base_uri": "https://localhost:8080/",
     "height": 35
    },
    "colab_type": "code",
    "collapsed": false,
    "deletable": true,
    "editable": true,
    "id": "WA8_leWCLGeg",
    "outputId": "35736bea-7cae-4ffa-f2eb-3de0d8e639f4"
   },
   "outputs": [
    {
     "name": "stdout",
     "output_type": "stream",
     "text": [
      "Submitted to Coursera platform. See results on assignment page!\n"
     ]
    }
   ],
   "source": [
    "# you can make submission with answers so far to check yourself at this stage\n",
    "grader.submit(COURSERA_EMAIL, COURSERA_TOKEN)"
   ]
  },
  {
   "cell_type": "markdown",
   "metadata": {
    "colab_type": "text",
    "deletable": true,
    "editable": true,
    "id": "pY5ujArNLGem"
   },
   "source": [
    "# MLP with hidden layers"
   ]
  },
  {
   "cell_type": "markdown",
   "metadata": {
    "colab_type": "text",
    "deletable": true,
    "editable": true,
    "id": "a42sWFUULGeo"
   },
   "source": [
    "Previously we've coded a dense layer with matrix multiplication by hand. \n",
    "But this is not convenient, you have to create a lot of variables and your code becomes a mess. \n",
    "In TensorFlow there's an easier way to make a dense layer:\n",
    "```python\n",
    "hidden1 = tf.layers.dense(inputs, 256, activation=tf.nn.sigmoid)\n",
    "```\n",
    "\n",
    "That will create all the necessary variables automatically.\n",
    "Here you can also choose an activation function (remember that we need it for a hidden layer!).\n",
    "\n",
    "Now define the MLP with 2 hidden layers and restart training with the cell above.\n",
    "\n",
    "You're aiming for ~0.97 validation accuracy here."
   ]
  },
  {
   "cell_type": "code",
   "execution_count": 0,
   "metadata": {
    "colab": {},
    "colab_type": "code",
    "collapsed": true,
    "deletable": true,
    "editable": true,
    "id": "yo7B7wlhLGeq"
   },
   "outputs": [],
   "source": [
    "# write the code here to get a new `step` operation and then run the cell with training loop above.\n",
    "# name your variables in the same way (e.g. logits, probas, classes, etc) for safety.\n",
    "### YOUR CODE HERE ###\n",
    "s = reset_tf_session()\n",
    "\n",
    "input_X = tf.placeholder(tf.float32, shape=(None, 784), name='input_X')\n",
    "input_y = tf.placeholder(tf.float32, shape=(None, 10), name='input_y')\n",
    "hidden1 = tf.layers.dense(input_X, 256, activation=tf.nn.sigmoid)\n",
    "hidden2 = tf.layers.dense(hidden1, 256, activation=tf.nn.sigmoid)\n",
    "logits = tf.layers.dense(hidden2, 10)\n",
    "probas = tf.nn.softmax(logits)\n",
    "classes = tf.argmax(probas, axis=1)\n",
    "loss = tf.reduce_mean(tf.nn.softmax_cross_entropy_with_logits(labels=input_y, logits=logits))\n",
    "step = tf.train.AdamOptimizer().minimize(loss)"
   ]
  },
  {
   "cell_type": "code",
   "execution_count": 47,
   "metadata": {
    "colab": {
     "base_uri": "https://localhost:8080/",
     "height": 309
    },
    "colab_type": "code",
    "collapsed": false,
    "deletable": true,
    "editable": true,
    "id": "t3lrDd8oSE0R",
    "outputId": "3f37109c-9cf9-40e0-9e42-dfc66800833f"
   },
   "outputs": [
    {
     "data": {
      "text/html": [
       "<img src=\"data:image/jpeg;base64,/9j/4AAQSkZJRgABAQEASABIAAD/2wBDAAIBAQEBAQIBAQECAgICAgQDAgICAgUEBAMEBgUGBgYFBgYGBwkIBgcJBwYGCAsICQoKCgoKBggLDAsKDAkKCgr/2wBDAQICAgICAgUDAwUKBwYHCgoKCgoKCgoKCgoKCgoKCgoKCgoKCgoKCgoKCgoKCgoKCgoKCgoKCgoKCgoKCgoKCgr/wAARCAEgA2ADASIAAhEBAxEB/8QAHwAAAQUBAQEBAQEAAAAAAAAAAAECAwQFBgcICQoL/8QAtRAAAgEDAwIEAwUFBAQAAAF9AQIDAAQRBRIhMUEGE1FhByJxFDKBkaEII0KxwRVS0fAkM2JyggkKFhcYGRolJicoKSo0NTY3ODk6Q0RFRkdISUpTVFVWV1hZWmNkZWZnaGlqc3R1dnd4eXqDhIWGh4iJipKTlJWWl5iZmqKjpKWmp6ipqrKztLW2t7i5usLDxMXGx8jJytLT1NXW19jZ2uHi4%2BTl5ufo6erx8vP09fb3%2BPn6/8QAHwEAAwEBAQEBAQEBAQAAAAAAAAECAwQFBgcICQoL/8QAtREAAgECBAQDBAcFBAQAAQJ3AAECAxEEBSExBhJBUQdhcRMiMoEIFEKRobHBCSMzUvAVYnLRChYkNOEl8RcYGRomJygpKjU2Nzg5OkNERUZHSElKU1RVVldYWVpjZGVmZ2hpanN0dXZ3eHl6goOEhYaHiImKkpOUlZaXmJmaoqOkpaanqKmqsrO0tba3uLm6wsPExcbHyMnK0tPU1dbX2Nna4uPk5ebn6Onq8vP09fb3%2BPn6/9oADAMBAAIRAxEAPwD9/KKKKACiiigAooooAKKKKACiiigAooooAKKKKACiiigAooooAKKKKACiiigAooooAKKKKACiiigAooooAKKKKACiiigAooooAKKKKACiiigAooooAKKKKACiiigAooooAKKKKACiiigAooooAKKKKACiiigAooooAKKKKACiiigAooooAKKKKACiiigAooooAKKKKACiiigAooooAKKKKACiiigAooooAKKKKACiiigAooooAKKKKACiiigAooooAKKKKACiiigAooooAKKKKACiiigAooooAKKKKACiiigAooooAKKKKACiiigAooooAKKKKACiiigAooooAKKKKACiiigAooooAKKKKACvPfjt%2B1J8FP2b5NGsfil4g1Maj4ilnTQNB8OeF9R1zVNR8lVed4bHTbee5kjiVkMkixlI96biu5c%2BhV4N%2B0P8D/j5/wANJ%2BDv2tv2bLLwfrWueH/B2seFNX8KeOdcutLtLywv7mwuxcQXtraXj288U2noCpt3WVJSCUKK1ABpf/BTL9izWLvxPb2nxXv0h8FWsk/jLUrvwXrEFjoIS0iu9l5dy2iwWsrQzRskMjrJIWKorMrKL2n/APBQ/wDZK1HwBrXxFTx/q9vB4f1ay0vVdE1DwNrNrrkV5ebfscC6PNaLqEr3AYGER27eaAxTcFYjy2b9gH4y%2BMf2a/jn8NfGHinwppHin4o/FS38daHc6U1xeWFpeW0OiywQ3IkihkkiN3pRRwoyYHGDuJVaPi79i/8AaV%2BLmr/Ef45fG34S/CjWvFnjWx8KaPp/gKy%2BI2s2Wm6fY6Hcaldw3qa7b6al5DqDXOqTOksVoPJSKNFZiWcgHsviH9vv9mzwv4a8OeI9XvvG3meK0v5NE8P2vwm8SXGuSRWUscV3NJpMWntf28MLzQq8s0CIpmiy37xM%2Bmaz8RPBHhv4e3XxX8T%2BJbbSvDljo76rf6vqrfZYbSySIzPPMZdvlKsYLNvxtAOcYNfGHin9hH9s/WPgX4X8Nay3hfxV470a58RHRfGV/wDHbxNpGr%2BCLW%2BuUktLO11q1sJLzXIYkjhEy3qw/aTbReYCFGPUfjR/wTotfj1%2Bzb4n%2BHHxD%2BOfjW78d%2BMPhfH4Z17xS3jbWho818tpDE2oJoS3y2FuzzQLK3kRRSEPIBIrSM5AOkg/4KUfsZf8K58V/FbWPite6Jo3giysr7xQ/ifwdq%2Bk3NlZXkxhtb37LeWsVxJaSyK6pcxxtC3luQ%2BEYjj/AI3f8FZP2d/hn8ENU%2BMfgPRfFXiqbQfiD4X8L674Y/4QXXbHU7A6zqVrax3T2cmnNdeV5Fw88DeT5d48aW8MhknjB8r1T/gmJ8ZPHfwq8faR4i8DeG9G8Y%2BI9D0fR7DxDqv7RfjPxut3aWusW%2BoTRyf27AfsEZ8likUSzHe%2BGkxknv8A9qH9gz40/GD4g/F/4g%2BBfEPheOTxfB8LbzwlZ6tfXMSvf%2BE/EdzrUsN40dvJ5ENwGt4VljEzrl2MfyKrgHqFh/wUE/Zb1H4m2XwZh8T%2BJo/Fd5oun6xLoF38N9egudO0%2B9adILu/SSyU6dDut5VeS68pYiFEhQum6j4a/wCCmH7FPi3wZ4s%2BIWkfGC4TR/Bfgi68Zaxe6h4S1W0Fx4et0Z5tWsVntUbVLNVQ4nsxPGxZArEugbB0P9kP4ofEP4mfG74g/G9fD2gxfGj4O%2BHfCF1Y%2BE9duNRl0u4tE11Ltlnns7XzYwNViMT7FZikm6OPA3fN37Y37Kn7UOj/ALDHxS%2BJv7TF34AtIfhD%2BxT8QfBHhePwFqF5cNrzXukWxn1G6W5toBYqE0i3CWcbXAVppCZ22oKAPrPw9/wUl/Yy8TaHrHiPT/i1dQWehppU1/JqnhLVbJmtNSu1s7HUIUuLVGubCWdgovoQ9qoDO0qorMPT9E%2BLvw88R/FLX/gvofiH7T4k8LaXp%2Boa/YR2k22zgvmuBa7pinlF3%2ByzHy1cyKoRmVVkjLfJOofsz%2BIPFegeKfjb/wAFIvF/wz8J%2BBbf9nu5%2BHUlx4f8QTLay6beyQyXmq3k17BbpYOTBbCG2QzCAmT/AEiQsuOw/wCCPngP4u2f7I9r8f8A9pDUDf8AxJ%2BL15H4n8V6g9nJbtJCLSCy01fKl%2BeH/iX2lpI0TYKSzTZAYtkA%2BqqKKKACiiigAooooAKKKKACiiigAooooAKKKKACiiigAooooAKKKKACiiigAooooAKKKKACiiigAooooAKKKKACiiigAooooAK8R0j/AIKMfse6ld69Z6n8Urzw83hzw5c%2BINQk8a%2BEdV0GObSbd0jnv7WTUrWBb63R5IlaW2MqAyxjOXXPtN7FczWcsNndCCZ4mWKYx7/LYjhtp64POO9fmJq//BHL9uX4v6t4X1z43fHHQ31vw14P1Cz1DxRqHxW8TeJx4h1v7ZpV9a6idLvoobLSbaS50xfPsLIBRHJtWWQKgUA%2B2X/b/wD2YbX4aN8WNY8QeKtK0ttcg0axs9c%2BGWv2GqanfzIZIYLLTbixS9v2kQM6/Z4ZAyo7AkIxHReA/wBqz4H/ABH1%2By8J%2BHPEOqQ6vf8AhSfxJDpGteFdS0y7TTYbv7JLLLDeW8UkDrP8hhkVZe%2BzbzXk3xO%2BDn7bvxib4e/G3XPBvwq0P4h/Cjx1NrHh/wAM2vjjUr/Rdcs7jSbvTLmO4vn0qGaxmKXskkbpa3AjMQU%2BYJGxV%2BJPwG/bg1/4y%2BHf2mvA%2BjfCu08WX3ww1XwX4x0LUvFepSWGkLcX8N1a39lcJpwk1AxCN1kt5YrQSlxiWLHIB3Gk/wDBRv8AZA8R694F8LeFfiNqus6n8SfBuleLfBunaJ4H1m9nvND1F9lrqMiQWjNa2%2B7HmSTiNbcMpm8oMCdj4a/tufs3fFf4jXPwn8M%2BL9Ws9ft9LudThsvE/gzVtEW/sbeRI57uyl1G1gjv4I3liDy2zSIvmISQGUnyj9hT9hL4sfsw6/8ADjWfHniDw1dnwd%2Byl4R%2BGN%2B%2BkXM8rNq2lvM1zNF5kEe61bemxmKu235o0wK8a%2BGn/BKv9sbxP8UfC/ib9qb4w2eqRaf4A8V%2BF/GniaD4v%2BJNavPEUur2KW39p2umX0Men6EcqWNpaKUXKgTOI1WgD6l8J/8ABRf9kfxrosfirQfHeuf2Hcarpen6f4lvfh/rdrpWoy6lex2VlJaX09mlteQS3M0UYuIJHhBlQs4VgT6X4W%2BLvw88a/EDxT8LvC/iH7XrnguSzj8T2iWkwWxkuoPtEEZlZBG7tCVkKIzMiyRlgokTd8w%2BOPAnxF8K/wDBPbxp8CP%2BChnif4VeCPAWg/DSLQLb4meHfFt2GadI0trXUntLqzgTTZlmFvJDBHcXTGcoiOTtDdr/AMEr/h98WPDf7ImlfFX9oqwS3%2BJ3xYvpfHXxEhW3aL7Pf36xmG02N8yfZbGOys9pyQLXBoA%2BjaKKKACiiigAooooAKKKKACiiigAooooAKKKKACiiigAooooAKKKKACiiigAooooAKKKKACiiigAooooAKKKKACiiigAooooAKK5r4xSfE2H4ZaxP8HNa0HTvEsVrv0y98TaVNfWMRVgXMsEE9vJKPLD4VZY/mK5bGa4r4CfFH4wftDfsR/D/wCNfh%2B58NaP418cfDjRNcaW80q4uNLs7y8soLiU/ZluEmkiUyPtj89WICgydWoA9arxf49eP/2i/wDhovwL8CPgL4z8FeH01/wV4l17V9T8X%2BC7vWiTp13odvDDDHb6lY%2BWG/tSVmZmfPloAF5Jn/Y0%2BN3xF%2BNvhTxfJ8Rbrw/qkvhXx9feHdP8W%2BE9Nns9M8RxW0UBlureCee4eIRXMlzZOvnygzWEpVsEKOM1r45fCnxd/wAFUvh98LfBnxJ8PazrWh/Bnx9H4k0nStaguLvSJjq3g8xR3MUbl7cuqykCQKT5bYzg0m0ty4QlUdo9m/u1Z13/AAg//BQv/o6D4M/%2BGH1b/wCaij/hB/8AgoX/ANHQfBn/AMMPq3/zUV7NRTIPGf8AhB/%2BChf/AEdB8Gf/AAw%2Brf8AzUUf8IP/AMFC/wDo6D4M/wDhh9W/%2BaivZqKAPGf%2BEH/4KF/9HQfBn/ww%2Brf/ADUUf8IP/wAFC/8Ao6D4M/8Ahh9W/wDmor2aigDxn/hB/wDgoX/0dB8Gf/DD6t/81FH/AAg//BQv/o6D4M/%2BGH1b/wCaivZqKAPGf%2BEH/wCChf8A0dB8Gf8Aww%2Brf/NRR/wg/wDwUL/6Og%2BDP/hh9W/%2BaivZqKAPGf8AhB/%2BChf/AEdB8Gf/AAw%2Brf8AzUUf8IP/AMFC/wDo6D4M/wDhh9W/%2BaivZqKAPGf%2BEH/4KF/9HQfBn/ww%2Brf/ADUUf8IP/wAFC/8Ao6D4M/8Ahh9W/wDmor2avPviB4/%2BBnw0Gp%2BMPj7448KeH9POtRafZal4w1S2tIPMNpHKsEclyyrvIEr7QckKxxwcTOcKcXKbSS6t2X3uyNsPh8Ri68aNCEpzk7KMU5Sb7KMVKTej0Sb02Oa/4Qf/AIKF/wDR0HwZ/wDDD6t/81FH/CD/APBQv/o6D4M/%2BGH1b/5qKr/8Nf8A/BOD/o6L4I/%2BFto//wAdo/4a/wD%2BCcH/AEdF8Ef/AAttH/8Ajtc31/Af8/of%2BBw/%2BSPa/wBUuLP%2BhdiP/Cev/wDKCx/wg/8AwUL/AOjoPgz/AOGH1b/5qKP%2BEH/4KF/9HQfBn/ww%2Brf/ADUV2Hw08Sfs5fGjQpfFPwd1/wAE%2BLNMt7trWfUfDV1Z38Ec6qrtE0kBZQ4V0YqTkB1OMEV5P8Qf22f2TvhD8a/iJ8Ivix4H1DQ7T4aeBtO8U%2BIfFsnw/v7jSorK5F8zFrmC0eKPy0sics/7xnaOPc8Mqr0wnCpFSg00%2Bqd196ujxcRh8RhK8qNeEoTi7OMk4yT7OMlGSeq0aT12Oo/4Qf8A4KF/9HQfBn/ww%2Brf/NRR/wAIP/wUL/6Og%2BDP/hh9W/8AmoqJv2m/2ULabw3HrHhPXtKh8V3ENvpF/rnwf1uwtFmmvXsreO5ubiwSGyea4UJEtw8TS%2BbCyBlmiZ%2BZ139un9inwFaE/Emaxt7tr3xWsNr4b8D6trBFn4f1U6bqN1KLfTd8KQStEJmZfKQuxSWaJRO1GJ1f/CD/APBQv/o6D4M/%2BGH1b/5qKP8AhB/%2BChf/AEdB8Gf/AAw%2Brf8AzUV32gR/BjxXcT2nhePwxqM1tDBNcw2K28rwxzp5kLuq5KiRPmUnG5eRkV4f%2Bz9%2B1Vonxo%2BKWjeF9c/Zu0TQ/DHjnTdd1D4Z%2BJIdVS7n1a30q9htZjd2ptIxYtMk8dzAqS3G6EP5hhdRGQDsv%2BEH/wCChf8A0dB8Gf8Aww%2Brf/NRR/wg/wDwUL/6Og%2BDP/hh9W/%2BaiuN8WftVaJ4a%2BPGo%2BB7f9m7Q7nwJ4e%2BImi%2BA/E/jVtVSO8tNf1W0s7i0SLT/shWe1zqWmwvOblGWS6IETiJ2rhB/wAFHfCmkeBJfil4y/ZP0iy8P%2BI/h9f%2BMvhRdWmvQzS%2BINMtr%2Bxst1%2Br2kaaUznVdNnGJLlVgnkdmDQshAPbf%2BEH/wCChf8A0dB8Gf8Aww%2Brf/NRR/wg/wDwUL/6Og%2BDP/hh9W/%2BaivLW/bRlbXP%2BFJWv7MvgKX4sJ8UR4JuvDy%2BN/8AiRQXDeH28QJcNqn9mefsayUqI/sXmmcMmzyx59cT8R/%2BCr/we8J%2BCPBHjnwv8AfB97F4t8JTaxHYa34vg0%2B51a7gv/sE%2BiaCq2cya5qa3CuqwK0CuHtyHAmygB9Ef8IP/wAFC/8Ao6D4M/8Ahh9W/wDmoo/4Qf8A4KF/9HQfBn/ww%2Brf/NRXBad%2B2N4Kl/aAg%2BG%2Bt/Ajwvp/hHUPije/DvSvEs2vRHU5dfttMl1BxJpn2QLFaskEqJKLlpGJicwrHJ5i8p4F/wCCjHw2%2BIfwF8R/tJeFvhD8MdU8PW0Wjt4X0vRviLbXWssdVvYbXTjrVotiE0NZPtEMzky3LRReYXXdGUoA9o/4Qf8A4KF/9HQfBn/ww%2Brf/NRR/wAIP/wUL/6Og%2BDP/hh9W/8AmorzGy/bJuPEF83wd8H/ALMHgfUvi5a/Em88Hat4XTxnt0SznttFh1qW6OqjTGmaEWl1aJj7EJBc3HlMqqjyrkTf8FEvBmreF7P4leBv2VtNvfC2i%2BBdC8VfFO81PV4rS88M2mpXl1amG3t0tZU1Ce2axvZJ1M1uojhUxvK0gQAHsv8Awg//AAUL/wCjoPgz/wCGH1b/AOaij/hB/wDgoX/0dB8Gf/DD6t/81FcVr/7VGi%2BDv2qbv9mfxJ8GPhxe3H9g6pq9nH4U8bLqOsWFpaQLNHcatprafF/ZkE4YRxyiacGV40AO7I4Dwv8A8FGPDmu/sEzftxzfCH4Hz2z3/he1t9N0H4xJfWOmvq9/YWjrq9//AGRGNNe1%2B3rJKoimwsT528GgD3T/AIQf/goX/wBHQfBn/wAMPq3/AM1FH/CD/wDBQv8A6Og%2BDP8A4YfVv/moryL4%2Bft6%2BDvgD8G/APxM8R/Df4JSHxxbarcp4gl%2BLCQeEI0s18yOCDXDpR%2B1XdzGQYYPs0e8xXIDkQhn7rR/j7qGpfG34U%2BAdS/ZP0rSPDnxU8Gz6vbatq2ppFq2k3sNpHdSWFxpotCoKLIqNJ9pBDhh5ZA3UAdH/wAIP/wUL/6Og%2BDP/hh9W/8Amoo/4Qf/AIKF/wDR0HwZ/wDDD6t/81FeZfBv9tbw78V734vXkXwQ%2BHFzafCm78VW0vhjwl46TVvF95Jo2pXNknnaN/Z0QtBdi0kkiP2mQ5khUBt5ZeT%2BFv8AwUp8MfFvwdJeeCP2evhpr%2Bs3vjDQfDnhy98J/EePUvDN1fanbTXP2e51ddMRrW4t47dvPgW1mZXuLVF3tPhQD3n/AIQf/goX/wBHQfBn/wAMPq3/AM1FUPA/jj9qzwd%2B1Z4c%2BCPxu%2BI/w98TaN4m%2BHviHXIZvCvw8vtFurS602%2B0S3RWe41e%2BSWN01SUlQiMGiQhsZBu/An4q%2BA/2hf2e774taB4I0nR9T0zUNc0fVLfS7iO5Sx1bSr65sLpYLlI4zNELi1cxy7ELxlGKISUDvHH/KQv4X/9kZ8ef%2BnbwhQB7NRRRQAVwv7RP7SPwh/ZT%2BGs/wAXvjjrepab4etZdl3fab4bv9Ua3AjeRpJIrGCaRIlSN2eVlEaBSWZRXdV4V/wUt8M/FT4g/sNfEv4T/Bb4O6z438SeMvCGo6DpekaLqGm2rRS3VrLGs8smo3dtEsKsVDbXaT5htRucAHp3xe%2BMfw8%2BBPgqT4gfE3WZ7PTku7e0iWy0y5vrq6uZ5Vhgt7e1tY5J7maSR1VYokd2J4Brz/xR/wAFBf2SPBvgbQPiRr3xQuF0jxJZ395YzWvhfU7iW2tbGVYb%2B5vYYbZpdOgtJXWK5lu1hS2kYJM0bcVg/tEWnxo%2BL/g7wH8TfC37N/ii31f4ffEDSvFE3gjV9W0VL3VYDbXVrc2sMkWoSWouIEu2lAlnjieSFVWXB3jwGf8AZY/a48DeG9e8caD%2BzxL4h1f4peEPiJpd94Vj8R6ZEfCV1r3iCbVNPN3JNcrFLbiK5ZbxrRrh1liBhjuFbcAD9AkdJEEkbhlYZVgcgj1r5y%2BE3ir9u/466Pr3jvwv8b/hJoGl2/xC8VaHpelX/wAH9Uv7iK10vXr/AEyFpbhPEUCyyPHZq7MsUa7nICgAV7Bo/wAM9Y0b4I6b8I9I%2BI%2Bq6Te6d4etdMi8UaTBateRNDEkfnxpdwzwljsziSORfmPB615J%2Bw5o9/on7KV74c1fxRf63PF8afHFpe6vqSQJc6hnx5q0cksotooog8gLFhHHGmWIVVGAADo/%2BEH/AOChf/R0HwZ/8MPq3/zUUf8ACD/8FC/%2BjoPgz/4YfVv/AJqKfr/7UH/BP3wprt74W8U/tEfBzTdT027ktdR07UPF2lQz2s8bFJIpI3lDI6sCrKwBBBBGRVT/AIa//wCCcH/R0XwR/wDC20f/AOO1yvHYFOzqw/8AA4//ACR70OFeKakFOGX4hppNNUK7TT1TTVBpppppptNNNNpplj/hB/8AgoX/ANHQfBn/AMMPq3/zUUf8IP8A8FC/%2BjoPgz/4YfVv/mop%2BgftQf8ABP3xXrtl4W8LftEfBzUtT1K7jtdO07T/ABbpU091PIwSOKONJSzuzEKqqCSSABk1e/ar%2BJfwq/ZQ/Zv8a/tJeKfhcuraf4K8PXGq3Wm6RogmuLlYlzsRY42IycZcjai5dyqqzDWlXoV03TmpW7NP8mzz8dleZ5XOMMbh6lJyV0qkJ021tdKcINq%2Bl0mr6XvoZ3/CD/8ABQv/AKOg%2BDP/AIYfVv8A5qKP%2BEH/AOChf/R0HwZ/8MPq3/zUVQ0n9rP9j/XPG8vw10vw1r8viG28OLr2oaL/AMKa11brT7B47t4pbqNtPDWrS/YblYo5gkkzxiONXd0VnaZ%2B05%2BzB4mk8O/8Irplgh1nx1N4VvbDxL4S1HR9Rsb6PRrrVzC1lc2AmSU2tusyrcLbxvDJ5iysxijm1OEu/wDCD/8ABQv/AKOg%2BDP/AIYfVv8A5qKP%2BEH/AOChf/R0HwZ/8MPq3/zUVQ%2BCn7X/AOwv%2B0Fo03iP4beJtL/s6Lw/p%2Bupf%2BIvCN3osFzpd8zLa3sEmo20C3NvI6lBLEXUPhCQxAq7%2B0b8RG%2BFev8Ag/4afCD4AeGvF3jPxte3iaVpetaqukWMFrZ2rXFzcz3SWd06AfuYlVYXLSXEediB3UAd/wAIP/wUL/6Og%2BDP/hh9W/8Amoo/4Qf/AIKF/wDR0HwZ/wDDD6t/81Fc9r/7Unwtg/Yt8Nftf%2BE/gpZXg8Xjw7b6N4d1QwWfkX%2BsX9pp8EF3ciORbeOK5vEWaVVk2rHIUWQ7VbirX9txfEV9ZfCzwT%2BzN4CvPiUni7xBoHiLRr7xyttoWnT6Pa293c7NUGmvJOzQXlo6Rm0jb5pvM8oQOaAPVv8AhB/%2BChf/AEdB8Gf/AAw%2Brf8AzUUf8IP/AMFC/wDo6D4M/wDhh9W/%2BaivAte/4KofBR9c%2BGg8BfArwtfaX8SfB3hTxFokGu%2BJYNO1rWYdcvGtlttFsBaTLq9xZhRLdoJ4RCksR3MHyPTf2aP2oPDf7RXx/wDH3wet/hr8JrC28C%2BIdV0m4tLP4gpeeJWNndC3W6n0cacgtbeU5ZZDcvj5AA27IAOw/wCEH/4KF/8AR0HwZ/8ADD6t/wDNRR/wg/8AwUL/AOjoPgz/AOGH1b/5qK9JttI0vQ/GNrb6Lp0FpHcaZctPFbRBFdkkgCkhcAkB25963aAPGf8AhB/%2BChf/AEdB8Gf/AAw%2Brf8AzUUf8IP/AMFC/wDo6D4M/wDhh9W/%2BaivZqKAPGf%2BEH/4KF/9HQfBn/ww%2Brf/ADUUf8IP/wAFC/8Ao6D4M/8Ahh9W/wDmor2aigDxn/hB/wDgoX/0dB8Gf/DD6t/81FH/AAg//BQv/o6D4M/%2BGH1b/wCaivZqKAPGf%2BEH/wCChf8A0dB8Gf8Aww%2Brf/NRR/wg/wDwUL/6Og%2BDP/hh9W/%2BaivZqKAPGf8AhB/%2BChf/AEdB8Gf/AAw%2Brf8AzUUf8IP/AMFC/wDo6D4M/wDhh9W/%2BaivZqKAPGf%2BEH/4KF/9HQfBn/ww%2Brf/ADUUf8IP/wAFC/8Ao6D4M/8Ahh9W/wDmor2aigDxn/hB/wDgoX/0dB8Gf/DD6t/81FH/AAg//BQv/o6D4M/%2BGH1b/wCaivZqKAPGf%2BEH/wCChf8A0dB8Gf8Aww%2Brf/NRR/wg/wDwUL/6Og%2BDP/hh9W/%2BaivZq53xh8X/AIS/Dwsvj/4o%2BHdDKjLDWNbgtsD1PmOKmc4U1eTSXm7fnY2oYbEYqoqdCEpyfSMXJ/dFSf4Hnf8Awg//AAUL/wCjoPgz/wCGH1b/AOaij/hB/wDgoX/0dB8Gf/DD6t/81FVfFX/BS3/gn/4NLDWf2wvh%2B5T7y6d4khvGHti3Zzn2rgtR/wCC2H/BOWK6bTfDXxq1HxFeL/y6eH/BuqXDH6H7OFP/AH1XBUzjKaTtPEQX/b8f0bPrcH4c%2BIOYR5sPlGKku/sKqXzcoQS9W0ej/wDCD/8ABQv/AKOg%2BDP/AIYfVv8A5qKP%2BEH/AOChf/R0HwZ/8MPq3/zUV5j/AMPePhzqXzeCP2N/2jPEqH/VyaH8J5nV/cGSVOKP%2BHnfxNu/n0n/AIJgftFOh%2B4bzwhDbk/UNMcVl/bmVPapf0jN/lTO3/iFnHsf4mC5P8dbDQf3Txaf3pHp3/CD/wDBQv8A6Og%2BDP8A4YfVv/moo/4Qf/goX/0dB8Gf/DD6t/8ANRXmP/Dwz9q7Wfk8G/8ABKT4qzv2Gt6rY6cufq7NR/w1v/wVL1PnSv8AgkrBaIfuS6l8c9Jz%2BKJFkfSj%2B2sC/hU36U6j/wDbEH/EM%2BKIfxpYan/jxuCi/u%2BsSZ6d/wAIP/wUL/6Og%2BDP/hh9W/8Amoq3%2Byt8RvjT4w1j4oeBPjpr/hfVtU8A/EKLQ7PVfCfhq50m3urWXQdH1NWe3uL28ZZFk1GVCwl2lY0O1TnPk/8Awvv/AIK%2B6h/x5/sCfD/T89Pt/wAU45cfXykroP8AgnZq3xl13XPjzqv7QXhLR9C8Xy/GaD%2B19K0C/a6tIMeEfDYi2SsAWzCI2PozMO1dOGx9PFTcYwmut5QlFfe%2BvkePnfCeNyHCqvXxOGqXfLy0cTSrTWjd3Gm3aOmsr2u0up9J0UUV2ny4UUUUAFFFFABRRRQAUUUUAFFFFABRRRQAUUUUAFFFFABRRRQBhfEzwdqnxB8B6n4L0b4g6z4VuNRt/JTxB4fhs5LyzBILNEt7b3FuSQCp8yFxhjgA4I8l8JfsNT%2BDP2S0/Y80n9rf4rroNr4ITwrpWvwz6JbaxptjGiRRPBcW2lxqsyQIIVlKE7SXOZcSj3eigDhP2cvgbH%2Bzl8LbH4R6f8R9a8SaZpKpBora1puk2h06zSKOKKzhj0qys4FhQJlcxl8u2XICqvjX7QOsf2Z/wVl/Zqst%2BP7Q%2BF/xMt8euJfC8uP/ACF%2BlfUFfG37YernS/8Agsb%2BxlCWwl74Z%2BKFuxz/ANOGjOB%2BaCubGT9nR5vOP4yiv1Pc4dw/1vM/Zf8ATus//AaFaX/tp9k0UUV0nhhRRRQAUUUUAFFFFABRRRQAUUUUAFcT4r%2BEXwn%2BNEGr%2BFvjF8MPDvizTLfxBFdQad4m0WC/gjnWyhRZVjnRlDhXdQwGQHYZwTXbV5P8d/2rfgF%2Bx94a1H4l/tF%2BPf8AhHdEvvFcOmWt7/Zd1d77p9PSVY9lrFI4ykMp3FQvy4zkgHHETw9OhKVdpQS15rWt530t6jWPllT%2BtxrOk6evOpODj0upKUXHfdSW%2B%2Bon/DA/7Cv/AEZZ8Jf/AA3Omf8Axij/AIYH/YV/6Ms%2BEv8A4bnTP/jFeSf8Pzf%2BCWX/AEdF/wCWTrn/AMhUf8Pzf%2BCWX/R0X/lk65/8hV4v17hX/n5Q/wDKf%2BRp/wARSxP/AEPZ/wDhZV/%2BaD6S%2BGnwi%2BE/wX0KXwt8Hfhh4d8J6ZcXbXU%2BneGtFgsIJJ2VUaVo4EVS5VEUsRkhFGcAV4r%2B0r%2Bwv4r%2BPHi74lan4f8AjPpuhaP8VfhfYeEPEunXvhCS%2BuIWspdTktru2nW9hVBnU5BJE8Um8RJteMlifSf2aP2rfgF%2B2D4Eu/iX%2Bzp49/4SLRLHV5NMur3%2By7q02XSRRStHsuoo3OEmiO4KV%2BbGcggY/wASv2y/hh8K/FniXwL4l0HXn1jw5L4Yjj0%2B1tYGk1b%2B3799O09rTdMocG7imicuY9nkux%2BQBj7WHnh6lCMqDTg1py2tbytpb0M3j5Zq/rcqzquprzuTm5dLuTlJy23cntvoeVftff8ABMeX9qz49W/xlufil4ds4oZfDE1vHr/w7TWNS0eTR9WOoEaTevdxjTUu8iK42wu7hQQ4wFGx4d/4J2LoOu6rrZ%2BL4m/tPQfiZpvl/wDCPbfK/wCEu8RQ6zvz9oOfsnleRt48/dvzFjYea%2BPX/BWP4d%2BDvDfx78DfDTSreP4l/CP4S%2BLfF%2Bk6ZretaTqFpqB0WH5zNDpepTXVsnnS2uYbpbSZ0mOwZSTy%2B81b9vDQfD/xH8SfCnTfh14r8a%2BJdP8AiBc%2BH9L8M%2BE9Gs4Low22iaZql1cmW81BIZYYl1GEGVmgdnnjhSB2USS7CPVPgz8PvEfws8CaR8O9T8U2WqWGg%2BH9O0zTZINJe2mP2e2WGSSVjPIr72QMqqqbAdpMn3q8c%2BDv7Cvjn4P%2BNbPxBZfHTTNQ0zwVoXiLTfhFo114MdRoQ1a7iuWbUJFvgdTFuIIreJYxZnyPMDs8jCZey/Yg/aR1T9p79mX4efF3xZo5s9c8W%2BAdN8RajFY6JeW9hGbpCdkUkwZQwKtmEyNKgKlwAyk%2Bd%2BCf2xvjZr3x50GXVtN8LD4beMfjF4k%2BG2g6fb6bcrrVnf6PaapK%2Boz3TXJhlhln0S/iFutujIstu5lf51ABueKP2G/EHiP46X/jdfjJbQeB/EHxC0Tx54p8Gf8ACMFru88QaVaWdvayQ3/2oLb2pOm6bM8Bt5HaS1JEyiVxWP8ACr/gnx4u%2BGSRWFz8aNA17TPCHw41jwP8JdI1nwA0lto2k6hcWs0kWqJ9uxrG1NPsLcbPsYMMDgjdKziP9pr9sb42/Cv4p%2BMX%2BHmmeFm8G/CbRfDep%2BO7bWdNuZtR1iPVL64imjsZo7mOO0a2tbfzw0kVwJ5JRFiEKZDa8bfHb9rbwB%2B18/wmtvE3w68U%2BGIfh54g8Y6jpFv4Pu9J1DS7WCSODSrSXUptWmt2kuZnmBmNrGhSwuG2x8AAGf4Y/wCCbFp4J%2BBPiT4YeHI/g1NqXjHxfDrfiG01n4GJceFI0htI7WG2s9CTUYxbKiwRSh2uZW85p3OfNATD8Wf8EoJm%2BGT/AAd%2BF/x6t9H0HXvhRJ4B8crrfgpNRuL2zmu7q7ur7T2jubeLTL2aa%2BunZ/Knh3C2IhxboDk/svf8FNfid498D%2BL9d%2BJ2gaXrOp2Hhvwrd%2BDtI0vwVqfha81bWdbN5HFpK2eqzzzTwLLbw7NXjxZzJJcMvy2c7C14h/bZ/aq0f/gnfon7X97q3g208Q2Vvra%2BKNJ0v4Sa9r1nqV3Z3NzFCkBs79ZNItmFo/mXl2ZoYvNVnKBcMAeoeIv2F9L8dftd6T%2B0143m8CPb%2BG78X2ixaP8ADdLXX7qZbCSyjj1LWXu5XvraMTzSJCsEGHEBZn8r5%2BR%2BDf8AwTV1n4N%2BHrfwvp3xS8H6npvhX4TzfDn4caTqfwyL2Vtojz28pXWYf7Q/4nUu21gQsrWindcNsDTsRZ0v9r/4zP8Atgw/DD4h6zoHgnwVfRaJH4eXUfhlrF8niC9vbEzy2kHiSK7j0uKZZsRxxGJ3lxhVYsMXNA/aI/abvv2uPE37Ka6/4Svrj/hBdU1vQtZvPhdrOiW%2BlXMN3ZRWsJa7vnTxFE0d6zTTWDRLA9sqSGNrqIKAZfgf/gmnqPwh8OaV4j%2BCXxN8I%2BFviHp/j288US6rp3wzEXhx2udJj0iSwi0WC%2BiaC1Wzt7TYq3e8TWqyu8m%2BRHqzf8EtJNJ8LWfw08DfHprLwvrXgXQvCvxTs9T8MC7vPE1ppt5dXZnt7hLmJNPnuWvr2OdjDcKY5lEaRNGGOn4N/bM%2BMUHgrx/4c8Qx%2BE/GHjTRviYPAnw71XwtpVzpuleKdWewguJF%2Bzy3V1JEljK92t48c8wSPTblhiSN4UzfCH7YX7Tviz9nz9lb9oVT4DgtPi6PDcPxE0o%2BHr1pPP1SxE5bTpPtoFqkbh%2BJluSVKjOQWIB6R4j/AGbfjh49%2BO%2BjfFvx58dvDUuneC7rWLrwJpGj/D6W1uYJb20mtEXUbqTUZRfQxRTEmKKK1EskcUjEGNQM/wAHfsuftD%2BF/Fvjn43XXx88DXHxH8ZaToGkx6hB8K7mHQrOx0qe9mi36d/a7Tz3DnULkGY3qhQsAVAI2Elf4sftGfGv4VftpeAfgw2o6Jqnhjx/qrWsOmH4c6rZy6Zbrpt3O058QyXbabdXHn2ZA05IUuWhmDgFYmkbK8Oftc/Fb4Q/E34heBv2nvE3g7xNYeCPA2na/qGrfDrwteWL6dfXlxNFb6G8Fxe3Zu7y4CRtAEaKR/MQGFfOiLAGfY/8E7fiX4Tt9F8WfD/9ofw/b%2BMra98X3Gv3Ot/DY32g3x8R3Ntc3vkaUuoRG1aN7SJYna4mOyW5EvnG4dq1bH9h34v%2BB/GfwF/4VN%2B0J4es/B/wN8JQeH4NI8T%2BAbnU9V1mD7LFZXEj38Wq28cUj20Eew/ZpNku52EqkRjjdE/b7/aPi/ZH8ReLvF/w%2B8Ix/GRvHPiTw54Y8Kad9ok022fTnmd57pvO3zQ2ltE8k8qNCJ2jVIxC9xEg6L4g/tSftNeGPgv8Kf2jNG1f4fS6f41tfCNtceAJfDN8%2Bq67qeqzQi5i0%2B7W/CWwigledVe2uMJbStI6Rq0iAGr8Wf2F/iD%2B0V4u1rVvjn8etMGmy%2BB/FPhbwvF4D8FyaNqGnWuuRpDNNcXkt/dfaZYo40KeXHboZR5rISECVLP9hD4mXujeO9U%2BIPxM%2BF3ijxL440Tw9odzbaz8FWk8LrpmkSXckCS6MdVLTzs17Pum%2B1IoEdsqxhYQrWoP2w/ib41/bssf2ePhxo2gr4Bm8M%2BJYG8U31pPPc3XiPSpdNSdIAkyRtaW5vxBLwXe4iniDRfZ2Mmt%2Byf8Wf2l/Hfx2%2BLXw4%2BMXjHwL4i0D4e3ekaRY654Q8E3mjPLrM1mb6%2Bt5FuNUvlkSG2utMIZSp3zTKw%2BSgDovgZ%2Bzp4c/ZW/ZduPg74bvIbkQQ6vqOoXdrpsdlDPe3s9xeXLQ20ZKW0HmzusUCkiKJY4wWCZNPxx/wApC/hf/wBkZ8ef%2BnbwhXqXjn/kSdY/7BVx/wCi2ry3xx/ykL%2BF/wD2Rnx5/wCnbwhQB7NRRRQAUUUUAFFFFABXgv7H/wDyb1q//Ze/HP8A6sDVa96rwX9j/wD5N61f/svfjn/1YGq0AdZr/wCxN%2Bxl4r1298U%2BKf2R/hjqWp6ldyXWo6jqHgHTpp7qeRi8kskjwlndmJZmYkkkknJqp/wwP%2Bwr/wBGWfCX/wANzpn/AMYrzvx//wAFlP8Agm58L/Het/DTx1%2B0d9h1vw7q9zpmsWX/AAiGsS/Z7q3laKWPfHaMj7XRhuVipxkEjmsj/h%2Bb/wAEsv8Ao6L/AMsnXP8A5CrwZ43hhTalOje7vf2d79b6b3vc0/4ibiaH7pZ5OPLpb63VVraWt9YVrWtayta1lay9m0D9ib9jLwprtl4p8Lfsj/DHTdT027jutO1HT/AOnQz2s8bB45Y5EhDI6sAyspBBAIORWt%2B018E7L9pP9nTx3%2Bz3qGvy6TD438I6hob6rBAJXs/tVu8ImCEgOULhtpIDbcZGc1414B/4LKf8E3Pih470X4aeBf2jvt2t%2BItXttM0ey/4RDWIvtF1cSrFFHvktFRNzuo3MwUZySBzXuPx1%2BMPhz9n34PeI/jf4y0zUbrRvCulS6nrKaVCkk8VnEN08wV3QMscYeVhnO2NtoZsKfQwNbLa0JPByg0nryctr%2BfKlrbuTLiSpxJ%2B9njXieTS7qyq8t9bXlUqWvvZNX3t1PI/EX7E3xC8f6D8XZfHvx9tYvEnxb%2BHem%2BGb7WvCfhWbTYdNksxqIW5iikvp5GRxfgNEZgcRNiQeYNnDfBH/glNF8IvEUPiaH4k%2BELDb8XB45fQfAXwvj0DSIGHhG88OGztrVLyUwhvtQu2lZ5GZ0ZSPnDp6L8Z/wDgoh8Hfgtpfi7XNU8N6nqFj4K8W2fhvWNRHiDQdKtHv7jTYtRCQ3Gr6lZwybIJ4AwD798wVFfZIU5G1/4KO6T4p8fR3/gm4tLjwFrngz4Sa74R1WLQpJ7y6/4TDxBq2mlZke7hWOMRWdmVYAvA0kzslzhYK7iTq/gb%2BxR4h%2BAUfgS78I/Fyyub/wADfA3Svh1by6h4Xdobv7HJAxvmjS7Vl3rCwEIc7C4PmNt2t1n7RvwC8cfFTxB4P%2BJnwf8Aifp3hHxn4Jvbx9K1TWvDT6vYz2t5atb3NtPapdWruD%2B5lVlmQrJbx53oXRvMPBv/AAUaPxM/aK8H%2BCPCHwf8TWXgHxH4K8Wa/aeLNU0JZ28Qw6TcadDHPpcdlczTmN/tUreVPbpPMGgaFCCc%2Bk/tSfGj4gfD3RvAvhb4OJpEPij4k%2BN7fw7oWoeJ9LnuLLTc2V5qE9zPaxzW8s221sLgLEJYiZGQFlGaAKfh39ljWPAX7Ltr%2Byt4M8U%2BF9Q0PTPA9hoVj/wnfgltYjvJ49wu7nUIFvII7uO4TbmBBDscyNvdXVE87s/%2BCa8Xhv8AZ5f4L%2BEb34SPeat4ym8SeI5/E3wPh1HRku3gS3iOmaSL%2BKPTjbwQ20UBeS42pB84lZ2c9DpX7XXxTf8AYJ8a/tHv8O7LWPHHgX/hK9MvtE0eG4FnqGp6HqV9pss0MYMk628slkZxEDJKsb7Mu4yeT%2BCP7ZnxH%2BPXg/4maP4K/aa%2BEF1f/DDULK71D4paX4Gvb7wzqOjz6ebpmjtk1lWSWGRJ43kW9mjHkHKh2aOIAZrX/BLNbLR7T4Y/DD43x6T4Dn8E%2BEvC3iHSNa8Lf2jqkln4fuZJ7aSxvxdQrYzSmVjI7wXAEn72NY3JJ9PH7NXxR8U/tMeH/jp8Vfi54cv9K8EXWsTeCdB8OeBZNNu4ft8ZhKX17Lf3Au1SEn5YobZXlCSsCURR8zeO/wDgpx%2B1D8I/2c/AvxY%2BM0/wz8Javq3wYvfiBe2%2BveG9Qhi8UXCOJrfw1pkX9oFrTUTaPF5m57xxJIClvIivt%2BjNI%2BPnxhu/22fCHwtkvPDE/wAOPH/wh13xXoEMWh3MWtWVzp134dhxPctdNDJFKutSny1t0ZDAn7xskUAew3f/ACO2n/8AYKvP/RltWpWXd/8AI7af/wBgq8/9GW1alABRRRQAUUU2SSOGNpppFREUlmY4AA6kmgNx1FeC/Gb/AIKefsIfAi8bR/G/7SGg3Oph/LGj%2BHXfVbsyZwIzFZrIUYns%2B2uBX/gpR8d/ikdv7Kn/AATY%2BKfiiFuIdX8aPb%2BF7GYdnjkui5kT8Ae1ebVzjLaU3D2ilJdI3m/ugpfjY%2B2wPhxxtjsNHFfUpUqMtqldww9N%2BaniJ0U/%2B3VM%2BuKK%2BSPP/wCC03xU4jsfgh8KrCTqZZb3XNTh%2Bm3Fs2PfvR/w7o/aa%2BJPzftJf8FQvinqySczWPw%2BtbXwvAw/55n7OshZexzgkelZ/wBpYip/Aw035y5YL/yaTf8A5Kdf%2BpWT4LXM88wtPvGl7XFT/wDKNKNO/wD3G%2BbPqLxV458E%2BBbL%2B0fG/jHStGtyCRPquoR26cdfmkYCvI/Gn/BS/wDYA8AO8fiL9r3wGzp9%2BPTdfivnU%2BhW2MhB9utcd4T/AOCNv/BPfw9fHW/EXwVm8W6q%2BPP1bxn4hvdRmmx/eWSXyz%2BCCvXvBX7Iv7Kfw4VF8A/s1eAtHKdJNO8I2cTk%2BpZYwxPuTmjmz2ptGnD1c5v8FFC9j4V4PSVbG4l/3aeGw8X/AODJ152%2BV%2B6PEbv/AILVfsH6hO2n/C/xP4t8eXqnb9h8G%2BAtSuJGPoPMhjU/g2Kj/wCHjH7Tfjvj4Df8Er/i5qYf/UyeO7mz8Mo3oSbhpMCvrK1tbWygW1sraOGJBhI4kCqo9ABwKko%2BqZtU/iYlL/BTivxm5v8AAP8AWDw/wf8AumRyqPviMXVkvnChTw8f/Jl6nyUPHX/Bajx5%2B98O/Aj4FeAon/5ZeLfE%2BoapPEPrYgIT%2BlB/Z1/4K1%2BPv3fjn/goN4O8GwN/roPAnwyiu2Yd1WW9cMn%2B8Oa%2BtaKP7JjL%2BLXqy/7faX3QUfzD/iIVeh/uOWYGj2awsKkl/wBvYipXv6uJ8kn/AIJQ2/jY%2BZ%2B0L%2B3L8dPHKt/rtMk8a/2fp0nr/o1ugx%2BD10fg3/gkF/wTf8EKp0/9lfQ76XduefXrm51F5GPVm%2B0yuCSfbHtX0nRVQyXKYy5nRi33kuZ/fNyZjiPE7xBr03SjmdWnD%2BWlJUIf%2BA4eFCP339Tzvwr%2ByH%2Byh4GC/wDCF/syfD7SSn3W07wbYwt9crECT713unaXpmkWq2Wk6dBawr92G3hVFH0CgCp6K76dGjRVqcVH0SX5JHyWMzPMsxlzYuvOq%2B85zm//ACecwooorU4gooooAK8Z/Zf/AOS3/tHf9lmsf/UK8L17NXjP7L//ACW/9o7/ALLNY/8AqFeF6APZqKKKACiiigAooooAKKKKACiiigAooooAKKKKACiiigAooooAKKKKACiuc%2BLviP4geEfhvq3iX4WeCdN8R6/Z24k0/RtX15tMtrk7l3eZdJb3DRKqbmyIZCduAvNebR/tmWKfsF%2BHf227z4ez%2BZ4m8DaJreneEbbUVd3vtVitvsmni4ZFU7ri6ih84ooGd5UD5aAPbK%2BE/wDgo1qf9if8FZf2IdT3Yzc%2BOLXP/XaLRYsf%2BPV9Qfs3fHfxR8YX8Y%2BEfiT8PrHwv4v8A%2BJ10XxJpOk6%2B%2BqWReWwtNQgntrqS2tnmie3vYcl4I2WRZU2kIGb4%2B/4K76n/Yv/AAUh/Yd1TOB/wnWr25PoJr/w9F/7NXm5vLky%2Bcuzj/6XTPtfDuh9a4ww9H%2BeNdffhcX/AJH6G0UUV6R8UFFFFABRRRQAUUUUAFFFFABRRRQAVleH/wDkLa5/2FE/9JLetWs%2B98MaRf3b38guYpZABI9rfzQb8DALCN1DEDjJ5xQBoUVl/wDCH6T/AM/eq/8Ag8u//jtH/CH6T/z96r/4PLv/AOO0AaleU/FX9jz4VfGD9o34e/tOeKL/AFmLXPhyLz%2Bz9PsbuNLDVDNGViN9E0bNP9mZpJYNrp5ckjN83GPQv%2BEP0n/n71X/AMHl3/8AHaP%2BEP0n/n71X/weXf8A8doA%2BatQ/wCCSXwQ1jS/EPhnWPjR8SbnQ9b%2BHvjPwZp2hPqWmrbaDpfieaKbUvsmyxEjzCSFDHNcvcMvIcyDAHa%2BKv2CfAOs%2BPtV%2BLPhL4seN/CXizVPGdz4iPiLw7d2BntmudJsNKubKNLqzmiNrLBpto7K8byLLGHSRCFC%2Bwf8IfpP/P3qv/g8u/8A47R/wh%2Bk/wDP3qv/AIPLv/47QByf7OX7PHh/9mL4V%2BFvgr4D8a%2BIL7w34Q8J2Wg6RY63NbTN5dsGVbmSVIEkkndSquS3lkRqVRWLM3L6B%2Bw98OvDvxzX41Wfj3xXJb2niTUfEmieCprq0OjaRrt/ayWt5qluothc%2BfLFcXYKSTvCrXlwyxK0hNeqf8IfpP8Az96r/wCDy7/%2BO0f8IfpP/P3qv/g8u/8A47QB5D8SP2D/AAJ8VfGln418W/FnxqzzaVomn%2BN9Ptp9PitfGsek3b3dkdSRbPKlZ5Zmf7GbVZVlaKQNEFjXqr/9lj4Xa74p%2BJnivxWNQ1eX4r%2BHrTQPE1vfXKiOLSbe2uIEsbfy1V44s3l5McszebdykMAVVe0/4Q/Sf%2BfvVf8AweXf/wAdo/4Q/Sf%2BfvVf/B5d/wDx2gDxXwj/AME4P2fYotQX4/fa/jY99pOlaVEfjBpGk6nHZ2Omm6azgighsYYMo17csZ3jedzL88rBVAp%2BGv8Agm38M/hn8BbP9mj4BfFzxj8NvByf2qNY0vwRZaFbf20uoTGSYXDS6ZI0bKrNEklsYJFjwN5Koy%2B7f8IfpP8Az96r/wCDy7/%2BO0f8IfpP/P3qv/g8u/8A47QB5frn7GHhjxD4i8MpqPxe8Z/8IV4Qv9IvfD/wuifTU0S3uNMERsZDILL7fIIpYYpwj3ZjMsakqQNtUNY/YgfxPr%2Br%2BMfFf7V3xU1DXbnwlq/h3wvrhutHtbnwjaak8DXMmnG102JTcf6LbBJ7pbmRPJG0gtIX9f8A%2BEP0n/n71X/weXf/AMdo/wCEP0n/AJ%2B9V/8AB5d//HaAPHvh3/wTz/Z98O/A/Sf2dvjDo1p8XvCfhyeOTwxpfxR8G%2BH7yLR9kRiHkR2um28e4hpCZXR5WMr5c7iK5xv%2BCX/w28PfAL4Tfs3fBX46eO/hv4b%2BD0ttc6Angyw8OiTUb6BcR3179s0m4SScs00jmJIllkuJWkVyV2/Qn/CH6T/z96r/AODy7/8AjtH/AAh%2Bk/8AP3qv/g8u/wD47QB574m/ZWh8dfGDSPif4%2B%2BOvjjWtL8Pa8mt6D4Cum0uPR7LUI7d4Y5w0FjHey7PMkkWOW5kjEjBtnyIF5P4If8ABOz4afCv4feIvhJ8S/iZ4k%2BMHhTxZqEmo%2BIvD3xb0Pw9qNvqOoyXKXLX1ybfSreS6m8yOPaZ2kWNYolRUEUYX27/AIQ/Sf8An71X/wAHl3/8do/4Q/Sf%2BfvVf/B5d/8Ax2gDwLQv%2BCSH/BPTQ/hl4g%2BErfsreA73SNe8QarrKR6h4G0mRtKub/iT7GPsoWARqESL5SypEiksFFLof/BNT4f%2BBvGfw58VfCb46%2BOvB9n8LvBUXhnwp4Z0Ox8PvpkFvv3XNyIbrSpjFd3QCpPPA0TMi7V2bn3e%2Bf8ACH6T/wA/eq/%2BDy7/APjtH/CH6T/z96r/AODy7/8AjtAHlEX/AATu/Y20/wDac0P9rzw1%2Bz74R0Xxxoi6w51bRfCmnW0moXWpPC097cypb%2BdLdAxPtm8wMBdXG7d5hx3PwQ%2BCHhT4C%2BGNT8NeFtQ1G%2BbWfFOreIdV1LVpY5Lm6vdQvZbuUu0aIu1DKIY1CjZDDEnO3J3v%2BEP0n/n71X/weXf/AMdo/wCEP0n/AJ%2B9V/8AB5d//HaAE8c/8iTrH/YLuP8A0W1eXeOP%2BUhfwv8A%2ByM%2BPP8A07eEK9RPgzQ3ws7X0yZBMVxq1zIjezK0hVh7EEV5d44/5SF/C/8A7Iz48/8ATt4QoA9mooooAK534r/FfwD8EfAV78TPibrjafo9g8Ec00VnNcyySzTJBBBFBAjyzzSzSxxRxRo0kkkiIiszAHoq8g/bX%2BG/j74h/CfSL74ZeGW13WPCfj/w74nh8OpdwwPq0Wn6nb3E9tHJO6RLMYUkMXmukZlWMO6KS6gG3ZftW/AS%2B%2BBd1%2B0injpofCFjJPDfXt5pF3b3Ntcw3JtJLSSyliW6S6Fypg%2BytEJjLiMIXIU413%2B3P%2BzZZeBrHx7J4m8QSR6j4gl0O00K28A61NrralFA9xLato8dmdQSRIEadg1uNsW2Q4RlY%2BWeFfgT478T/s7fFDw98ZP2fvGdtd%2BO/G95440/QPDmv6MupaXcJfwSadbwzte/Zl1KI2Freks5tBLJs86UBs%2BQN%2BxH%2B0U2lH4nfEj4b/E3xgnif46XnjLxB4f074haXpHjqxt/%2BEUttBtJF1PTryws4HZrPfNDY3UKeRcRxBpVjlSUA%2B9fh18Q/BXxb8BaP8T/AIceIoNW0DX9Nhv9I1K2zsubeVA6OAwBGQRkEAg5BAIIrx79j/8A5N61f/svXjn/ANWBqta/7LPwY%2BKXgX9iDwR8C/GniiXwl4o0nwbaabcah4VhsHl0lo0CokQltpLSSSNAqM3kNG7BmVcEVk/8E9/DUlp%2BzHqPhXxH4hvdfkt/i18QoLrVtUSBLm%2BdPGmtAzyC2jiiWRiNx8qONQx%2BVVGAAD3qisr/AIQ/Sf8An71T/wAHl3/8dpf%2BEP0n/n71X/weXf8A8doA1Kqa9oWj%2BKNDvfDPiLTYrzT9RtJLW%2Bs7hN0c8MilHjYd1ZSQR6Gq3/CH6T/z96r/AODy7/8AjtH/AAh%2Bk/8AP3qv/g8u/wD47QB8/eCf%2BCYPwo%2BGnwj8B/DD4efGr4j6VqHw%2B1vU9U0vxyup6fc63eS36TRXQupLmykgk3RTeUrrCksaQxCN02kmx4G/4JifAP4f%2BGvD3hXRPFvjCS28NeGvh5odg13qVs8j23g3VbvVNLaRvs43SSz3kq3DcB0VBGIWBdvef%2BEP0n/n71X/AMHl3/8AHaP%2BEP0n/n71X/weXf8A8doA8Q%2BG3/BO7wL8KfiJpfxA8JfHX4iKvhfw3ruheA9CuLzTZLDwtZ6rNbTTJaIbHfKYntIPJN09xsVNh3J8tekfHP4B6J8d/Bul%2BHNX8aa7omqaBrVrrHh7xZoD2q6jpmoQBlW5iE8EtuxaOSaJ0kheN45pFKYPHT/8IfpP/P3qv/g8u/8A47R/wh%2Bk/wDP3qv/AIPLv/47QBxfw2/ZtsPhF8MIfhX8Pfir4qsLVNO1dbjUSbCa8utU1K6a8uNakeW0ZTe/aZbiYAKLYvcyboHAjCczc/sK%2BANd%2BCvxB%2BDvjv4n%2BMvEc3xVbb4/8Xapc2Meqatb%2BRFbG0P2a0itoLc2sX2fy4YIxsllYYlkeU%2Btf8IfpP8Az96r/wCDy7/%2BO0f8IfpP/P3qv/g8u/8A47QBxH7Q37Ndr%2B0Z4fTwFr3xf8XaB4UutPn0/wAT%2BFPDTafFa%2BIrGYKslrcyzWktzFGYw8ebSa3fZK4LfdK5nib9kp/EX7VHhn9qe2/aI8daXP4T8P3uh6X4L0210MaMdPvJbCa8gcS6a92RLJplk5ZblWTycRmNXdW9K/4Q/Sf%2BfvVf/B5d/wDx2mXHhbQrWB7q61LUo4o0LySSa/dBVUDJJJl4AHegaTbsh13/AMjtp/8A2Crz/wBGW1atfJnjv/gpV8JrHx7c/Cf9i/4ZeIPjv48iXyru28K6gz6Zpwz/AMvOqTl4YEJHVNwyMMQcVUb4Mf8ABVv9pgbvjP8AtFeGfgl4en/1nh34X2Jv9YeM/wAEmoXB2wSf9NIMjgcV5Us3oTk4YaMqrWnuL3U/ObagvOzk12PvqHh3mmHoQxGeV6WX05JSX1iTVWUXs4YaEZ4iSa%2BFyhSi%2Bkran0J8b/2nf2e/2bNGGu/Hf4xaB4XgdC0Eeq6giTXAHXyoRmSU8HhFY8V8/D/gqT4q%2BM8n2X9hX9in4g/FGFz%2B58UapEvh3QpB/eS7vBl8dSuxTjHrXb/A7/gl3%2Bxt8D9a/wCE2Hw3fxj4skcSXPjL4hXbazqU0o/5a758pG/%2B1GiGvoNVVFCIoAAwABwBU%2ByzjE/HONJdornl/wCBStFfKDNHjfDfJNMLhauYVF9uvJ4ejfyo0XKtJf8AXzEQv1SPkc%2BF/wDgsz8aeNb%2BJvwk%2BC%2BnTfdHh/R5vEGqwg9d5uSLZj6FSKVP%2BCR/gr4jyLefte/tR/Ff4uMzBp9I1rxTJYaOx6/JZ2mzy8nsJPSvriin/YuDn/Hcqv8Ajk2v/AVyx/8AJWL/AIiZxJhdMpjRwK/6hqFOnP8A8HSVavfzVaL66Hn/AMF/2U/2a/2drRbX4IfA3wx4ZYJta60vSIkuZB0%2BefBlk%2BrMa9Aoor0qVKlQgoU4qKXRJJfckj4jHZhj80xMsTja06tSW8pylOT9ZSlJ/j8kFFFNkkjhjaWaRUVRlmY4AHqa0OQdRXGeKf2j/wBnnwNu/wCE2%2BPPgzR9n3/7V8UWlvt%2BvmSDFee61/wU6/4J7aBcG1vv2xfAEjDqbLxDFcr/AN9Qlh%2BtctTHYKj/ABKsV6yivzkcVbMsuw7tVrQj6zivzke60V83ap/wV8/4JsaPCZ7v9rXw46jqLWG5nb8o4mJrnJP%2BC23/AAT71BzB4D8feJvFcwOBD4c8A6rKxPoPMt0B/OuaWdZPB2eIh/4En%2BTZyT4hyGDs8VTv/ji39ybf4H1pRXyUP%2BCslnrfy/Dv/gn9%2B0p4gU/6u7g%2BGJgtm/7aSTDH5UH9vr9tjxD8vw5/4JL/ABAumb7n/CTeMdO0cH6mXfip/tvLX8MnL/DCo/ygR/rFlD%2BCcpf4adWX5U/1PrWivkoftD/8Fd9R/wBKtf8AgnZ4K05G6Wt/8XLeWVPq0Ue0/hS/8Lu/4LEXn7u2/Ye%2BGVmf%2Bel38SzIv5ImaP7YodKdX/wVP/gB/b2G6Ua3/gmp%2BqR9aUV8knV/%2BC2/jE/ZbPwh%2Bzx4OhP%2Bsur/AFDVtQnA/wBhYwEz/vcUo/Zw/wCCuWrD7VqX/BSTwjpEj8ta6V8HrS4ij9laaQMR9aP7UqS/h4aq/wDt1R/9Kmg/tmrP%2BFhK0v8At2Mf/S6i/I%2BtaK%2BSv%2BGNP%2BCl%2BtfJ4r/4K43qw94dE%2BDOk2rf9/BIW/Sj/h33%2B2LZ/wCkaP8A8FY/iUlyeXa98N6fcRE%2B0bAAD2zR9fxz2wk/nKmv/bn%2BYf2pmL2wNT5ypL8Od/mfWtFfJX/DIn/BUfRudA/4K0JeIPu2%2BsfBHSm/ORJNxo/4Z0/4K6Xf7m4/4KOeDbRRwJrT4Q20jkepDyYzR/aOKW%2BEqf8AlN/%2B5A/tbGLfA1f/ACk/xVU%2Bta8Z/Zf/AOS3/tHf9lmsf/UK8L15h/wyL/wVQuebn/grxFBnqlt8A9GP5Fpc10X/AATr8GfE34fa38efCHxj%2BMD%2BPvElp8ZoP7S8WyaFDppv9/hHw28f%2BjQExx7I2SL5T83l7jyxrow2Kr158s6EoLvJwt6e7KT/AAOrCY3E4mo41MNOmrbydO3p7s5O/wArH0nRRRXaeiFFFFABRRRQAUUUUAFFFFABRRRQAUUUUAFFFFABRRRQAUUUUAYHxR0Tx54l%2BH2q6B8MvFOkaJrt5amKw1XXtCl1O0tySAzSW0VzavKNm4ACaPBIOSAVPh3gn9h/4oWn7Duj/sU/E3496Fqlv4c8FaZoug%2BJ/DvgObTbi2u9Ma3bTb9op9RukdomtYHePIWR1JBjU7B9IUUAeZfs3fAfxT8Hn8Y%2BLviV8QbHxR4v8feJ11rxJq2k6A%2Bl2KvFYWmnwQW1rJc3LwxJb2UOQ88jNI0r5AcKvwj/AMFj/hH8KPhv%2B2p%2Bz18aPBPwx8PaNrlzrt7qniXXNK0WC3u9UeHXvCyRvdTRoHnK%2Bc%2BC5YjecdTX6d1%2Bcv8AwXr/ANBvvBHizp/YPgTXNQ3f3dvivwOmf/IleTnumTV32i39zi/0P0Dwp18Scqh/PWjD/wAGRq0//ch%2BjVFFFesfn4UUUUAFFFFABRRRQAUUUUAFFFFABRRRQAUUUUAFFFFABRRRQAUUUUAFFFFABRRRQAUUUUAFFFFABRRRQAUUUUAFFFFABXjPjj/lIX8L/wDsjPjz/wBO3hCvZq8Z8cf8pC/hf/2Rnx5/6dvCFAHs1FFFABRRRQAUUUUAFeM/sH/8kQ1z/ss3xH/9TXW69mrxn9g//kiGuf8AZZviP/6mut0AezUUUUAFFFFABRRRQAUUUUAFQanqem6Lp0%2Br6zqEFpaWsTS3N1cyrHHEijLMzMQFAHJJ4Feb/tUftefBT9j3wGnjf4va9IJr2b7PoPh/TIvP1LWro4C29rADukckqM8Ku4bmGRXztZfs2/tG/wDBQW8i%2BKX/AAUIuJfAPwstZBeaL8D9N1JonukU7kn1u5UqWIwG8hdoXjPlsGDebisxVKr7ChHnq9r2UV3nLaK7LWT%2BzHqvtci4P%2BuZf/a%2Bb11hMAm17SS5p1ZR3hh6V4utNbSleNGne9WqvgfS%2BOP%2BCoEHxH8V3Xwj/wCCenwev/jP4mtpPJv9es5fsvhnSG/vXGoPhJSB8wSLIcAhXzxWfD/wTw/aD/ailTW/%2BCj/AO1Be67psjBz8KvhvJLpPh6MZz5c8oIuL1fQuVYHoxFdh4h/4KDf8EyP2Q/Dlt8OdP8Ajp4G0ay05fJtPDngmIXv2c5%2B55GnpJsYnruAOTk%2Btc23/BYX4NeIVKfBv9mj45%2BPZH4t28MfDK4MTk9CXmaPavq2OBzivHqVctqztmGKjUf8kW%2BReXLHmlL/ALfbv/L0Mq/izw3w3N4fhaFPCyX/AC/k44jGPzU1CcKF%2BkcPSi1/z%2BbVz6V%2BFvwj%2BF/wR8H23w/%2BEPgHSfDei2o/c6do9kkEeccsQo%2BZzjl2yzHkkmuir5Eb45/8FbPjqph%2BEX7Ifgv4TabPxHrnxS8UnULvyz/y0WzsRmKQdklyMjnimx/8EsvEnxpkGq/t4/tkeP8A4nu/zSeGdJvP7A0FCe32S0IZyOgfepI6jmvShj6k4qGDw8mls2vZwXpzLm%2B6B%2Bc4jiDMM0xEq1KjUrTm23Oq3BNvduVRyqSb78jb7n0H8Rv2oP2bfhAkrfFP4/eDfDzQg74tY8S2tvJ9AjuGJ9gCa8L13/gsv%2BxnPqUvh74K/wDCbfFXVojtbS/hr4IvL%2BTd2Ad1jjbPqrEV2Pw6/wCCWf8AwTy%2BFrRyeFP2R/B0jwkGKXWrA6m6kdCGvGlOffOa9y0PQNC8MaZFovhvRbTT7OEYhtLG2WKKMeiqgAH4Cq5M7q7yp015KU3/AOTOMfwMuTiOv8U6VJf3YzqP75OEfwZ8pJ%2B2V/wUf%2BJDfbPgz/wTCvNL00fMt98SPHtpps8o/u/ZFUyRt7kkdqWT48/8FhdRX%2By9O/YI%2BHmm3M3yx6rqPxRSe1tz/ekiiUSOvspzX1vRT/s7Ev4sVUv5ciXySg7feH9k4yWs8bVv5ezivklTdvvb8z5Gj/Zf/wCCpvxZb%2B0vjN/wUI0TwMrDP/CP/CnwNHJChPpd3x88gdMEH1qQf8Ew/ihqn77xX/wVC/aJmm/vaR4thsE/74SFhX1rRR/YuBf8Tmm%2B8qk3%2BUor7kg/1ey2X8Xnm%2B8qtR/lOK%2B5L0Pko/8ABKS8vf8AR9e/4KRftQ3tqf8AW2p%2BKIjWQejFbfOPali/4IofsJapItx8TNB8ZeN5gcmbxZ8QdSnZj6nypowfyr60oo/sPKH8VFS/xc0v/SpSX4B/q3kT%2BLDxl/i5p/hOcl%2BB8%2B%2BFv%2BCU3/BOjwdt/sn9kLwbNs6f2rYNffn9paTP416Fon7Jv7LHhm3Fp4c/Zo%2BH%2BnxDpHZeDbGJR%2BCxCvQKK6qeX4Cj/DowXpGK/wDbTto5XlmHX7qhCPpCC/8AbTm9L%2BDfwh0OYXOi/Crw3ZyL92S10O3jYfiqCujjjjiQRRIFVRhVUYAFLRXTGEIfCkvRJfkdcKdOmrQil6JL8kgoooqiwooooAKKKKACiiigAooooAK8Z/Zf/wCS3/tHf9lmsf8A1CvC9ezV4z%2By/wD8lv8A2jv%2ByzWP/qFeF6APZqKKKACiiigAooooAKKKKACiiigAooooAKKKKACiiigAooooAKKKKACiuO/aD%2BM2hfs7/A7xZ8c/EmmXV9Z%2BFNAudSk0%2Bx2%2BfeNFGWS3i3EL5kjBY13EDc4yQMmuG%2BGP7VHjjWND%2BJWmfF74JDR/GnwwtY7zVfC3hDXn1xNTtprH7ZbPZTvbWryvJtmg8toUImgcAshR2APaq/Pr/guro/8AbnhSay2btnwF8X3GMf8APLxP4Glz/wCOV79%2BwV%2B3jb/ttxeJHsvDXhVIfD9npVz/AGz4E8eDxHpUj30U0hsHuvslt5WoWwiU3Frsbylubc728whfKv8Agrno/wDbjajZbM7P2XPiZcY/646j4Rlz/wCOV52bw9plOIj3hP8A9JkfY%2BHeJ%2Bp%2BIOUV/wCXFYd/%2BV6X%2BZ9j%2BBtY/wCEh8E6Pr%2B7d9u0q3uN3rvjVv61q1wP7KWsf8JD%2By58Ntf37vt3gHR7jd677KFs/rXfV2UJ%2B0oQn3Sf3pP9T53NcN9TzTEYf%2BSpUj/4DOcf/bQooorU4AooooAKKKKACiiigAooooAKKKKACiiigAooooAKKKKACiiigAooooAKKKKACiiigAooooAKKKKACiiigAooooAK8Z8cf8pC/hf/ANkZ8ef%2BnbwhXs1eM%2BOP%2BUhfwv8A%2ByM%2BPP8A07eEKAPZqKKKACuO%2BPHxs8Nfs/fDqX4ieJtI1PVN2pWOmaZouiQxyXuqahe3UVpaWkCyyRx%2BZJPNGu6R0jQEu7oisw7GvL/2t/g34z%2BM/wAMLCx%2BGt5pkXibw14w0XxLoEetzyRWV1caffw3JtZ5Io5HiSaNJIfNWOQxGQSBJNmxgDNh/bY%2BGS/s76r%2B0Lq3hPxLp66Jr7eH9V8H3VnbtrEGt/2gmnR6ZsineBppbqWGON1mMDieOQS%2BW2%2Bs/wD4bw8Enwv5ifB/xs/jT/hOG8IH4WJHpja4usDTxqhty4vvsCr/AGcyXvnG7EXkuvz72EZ5/wAHfswfFdfgT8RfA/xc%2BGfgLxPqfxG1zUPE2q6KPGd/b6emoz3CeRYpdJp/nxRwW9vaFdQSMTfaEaRbeLC48jT/AIJRa7H4Ts/GeufD3wN4r8SyfGS78c658OvGXjXVNT0G/hn8PJoIsp9VvbS4u710jt7W8Nxc2r7543Xy41MbxgH274S1u/8AEvhfT/EGq%2BFNR0G5vbOOa40XV2ga6sXZQTDKbeWWEup%2BUmOR0JHyswwT5V%2Bwf/yRDXP%2ByzfEf/1Ndbq/%2Bz9%2BztrPgL9kjw7%2Bzj8VvGd/qN3Y6ELLUtR8P%2BIL%2BxkiG8usFreRSx3aRwqVhjkDrIY4lJwSRWF/wTp8PWHhL9m6%2B8LaVcX0ttp3xb%2BIdtby6nqk97cuieM9aUGW4uHeadyBzJI7OxyWYkk0Ae6UUUUAFFFFABRRTJ54LWB7m5mSOONC0kkjAKqgZJJPQAd6AH18o/8ABSD/AIKs/B39g7Q28IadNZ%2BIviNfW%2B/TPDIucRWSsMi5vXXmKLHIjH7yXgKACXXjPjL/AMFD/jD%2B1Z8Rr79lP/glVplprWp2jeX4v%2BMd/Hu0Lw3GSV/cMVZbmYkNtYB1OwlElG54%2B4/ZK/4JHfs0/s2a7/wtbx0Lv4nfEm6uDd6l478bf6TK10TlpYIXLLCS3Idi8oz/AKw189icfjcyvRyu1tpVX8K7qC%2B3Jd17qfVvRPKs5wtHFKvHCrEqPwqcpQoNr%2Bdw/e1YJrWFJwU2uV14x5mfKX7K%2Bo/tY/Fbx%2B/7TXgX9lbWvir8VdVi2wfFv4tg6H4W8NQNnEWjWT/v5oBuI81AkrZY7V3Pu%2BlrD/gmR48/aDvofFf/AAUi/aY1r4kMsgmj%2BH3huWTR/DFowOQphhKy3RUjiRyjEZDA19gUVWE4ew1GlyV5up1aekW%2BrcV8Tfecpei0SjP62acX5h9cz/EvESSUY07KnQpwXw06dCnaEacdoxfMur5pOUpcF8Iv2Wf2bfgHCkfwX%2BBPhTwy6LtNzpGhQQzv2%2BeYL5jn3Zia72iivbp0qVGHJTiorskkvuSRFGjRw8FClFRiuiSS%2B5JIKKKK0NQooooAKKKKACiiigAooooAKKKKACiiigAooooAKKKKACiiigAooooAKKKKACvGf2X/APkt/wC0d/2Wax/9QrwvXs1eM/sv/wDJb/2jv%2ByzWP8A6hXhegD2aiiigAooooAKKKKACiiigAooooAKKKKACiiigAooooAKKKKACiiigDjv2hPgzof7RPwN8WfAzxJql1YWfivQLnTZNQsdvn2bSxlUuI9wK%2BZGxWRdwI3IMgjIry3w9%2Bxp8TNR8P8AxMtvjH8fbDV9Z%2BLmjT6V4v1vwt4Rm0d7W0Gmixs005Wv7g2rRb7mdnkacyS3BK%2BUqKg%2Bg6KAPFP2Xv2WPG/wV8eeIfin8UfinoniXXtc8KaD4aiXwv4LOg2Ftp2km%2Ba3Jtzd3Re4ZtQn3yeYqbEhRIowh3eL/txfAv4UaN8cPEuv%2BCPhf4e0jXfGn7KfxVXxJrOlaLBb3eryCbwysbXM0aB52XzG2lyxG446mvtOvnf9pjR/%2BEh/aw8L6Bs3fbv2dviVb7fXff8AhNcfrWGJh7TDVId4yX3xa/U9TI8T9TzvCYj%2BSrSl/wCA1acv/bToP%2BCcusf25%2BwN8Gr7duK/DXRoCfeKzji/9kr2ivm7/gkHrH9uf8E2fhLe787PDslvn/rldTRY/wDHK%2Bka58qn7TK6Eu8If%2BkxPY4%2Bw/1TjvNqH8uKxC/8r1f8wooorvPkwooooAKKKKACiiigAooooAKKKKACiiigAooooAKKKKACiiigAooooAKKKKACiiigAooooAKKKKACiiigAooooAK8Z8cf8pC/hf8A9kZ8ef8Ap28IV7NXjPjj/lIX8L/%2ByM%2BPP/Tt4QoA9mooooAKKKKACiiigArxn9g//kiGuf8AZZviP/6mut17NXjP7B//ACRDXP8Ass3xH/8AU11ugD2aiiigAoorgf2l/wBpX4T/ALJfwg1P41fGTXxZaVpyhYoYgGuL64YHy7aBMjzJXIwF4AALMVVWYZ1atOhTdSo0opXbeySMq1alh6MqtWSjGKu29EkurNn4v/GL4Z/AP4d6n8V/i/4xs9C8P6RB5t9qN6%2BFUdAqgZZ3Y4VUUFmYgAEnFfnUfiZ%2B1L/wXM8cXfgb4Ytq/wAMf2adMvTD4g13ATUvFG0826nlTkdYhujjB3SmVtkdcD8MPh5%2B01/wXr%2BPKfFn47SXnhP4BeFNSYaboNhcMI7yRTgwQvgefORxLdYxGCVjAziv1h8B%2BA/Bnwv8G6b8Pfh54Zs9G0TSLVbbTdMsIRHFbxL0VQPzJ6kkkkkk18vSnieJ5c2sMIvVSq/rGn%2BMu9rnqYrI5YKipZxBqpJJxwz0cYtJxnilupSTUoYTSSi1PFcvNHDPH%2BBfwF%2BEn7Nfw2sPhJ8E/BFnoOhacn7q0tE%2BaVyAGllc5aWVsDdI5LHHJrr6KK%2Bpp06dKChBJJaJLRJeRwyk5O7/AK/rokkkrJJJJIoooqxBRRRQAUUUUAFFFFABRRRQAUUUUAFFFFABRRRQAUUUUAFFFFABRRRQAUUUUAFFFFABRRRQAV4z%2By//AMlv/aO/7LNY/wDqFeF69mrxn9l//kt/7R3/AGWax/8AUK8L0AezUUUUAFFFFABRRRQAUUUUAFFFFABRRRQAUUUUAFFFFABRRRQAUUUUAFFc78XPil4N%2BB/wt8RfGP4h372uheFtFudU1aeKFpZFt4ImkfYi5aRyFIVFBZmIABJFcl8H/wBqnwh8UND8W3/irwX4g%2BH%2Bo%2BA5VHi/QPHH2KO60yF7RLyO5d7O5uLd4XgfcHSZgCkiNteN1UA9Prxfx/DHcf8ABQX4Y28yBkf4L%2BPVdT3B1bwgCK6j9n348Xv7QHhx/GMfwP8AGnhHSLi2t7rQb7xfFp8R1m0nVnjuIYba7nmgG0Kxjuo4Jl8xQYwdwXmfHH/KQv4X/wDZGfHn/p28IUAm07nmn/BEOaWP/gmz4G0C4ctLo%2Bo65Yyk9cpq94QPyYV9Y18l/wDBG7/Qf2afFvhPp/YPxi8T6ft/u7bzfj/yJX1pXk5F/wAibDrtBL7rr9D7/wAVkn4l5xNfbxFSf/gzlqf%2B5Aooor1j4AKKKKACiiigAooooAKKKKACiiigAooooAKKKKACiiigAooooAKKKKACiiigAooooAKKKKACiiigAooooAKKKKACvGfHH/KQv4X/APZGfHn/AKdvCFezV4z44/5SF/C//sjPjz/07eEKAPZqKKKACvP/ANpf443PwB%2BGsXizRfCK%2BINa1XxDpeg%2BG9Dk1H7HHe6jqF7FaQLLP5chghVpfMlkEcjLFG5VJGCo3oFefftL/A66%2BP3w1i8J6L4vXw/rWleIdL17w3rkmnfbI7PUdPvYruBpbfzIzPCzReVLGJI2aKRwrxsVdQDz65/boutC/Ze8U/G7xb8KY7TxP4O8YnwjrfhK38RCS0j1h9SgsIMag8CYspDdWtwbloFaOCUs8QZGjrI1f/gomvhb4IfEPxT4j%2BF%2Bn3PxE%2BHvjOTwfP4C8OeKze22p66dNt9Uhgt797WJzD9iuo555Wtla3SC6LRt9nO7p/h/%2Byt8RvBHwj8Y%2BAdU%2BJng/wAQ6p46utS1XxFfa98O5J9Pu9VvZmMhksTqOHsFthDbLaGXzNkO57l2YmvP9A/4JGfAX/hUuqeEPF149p4j1XV9T1Ya18MrjUvBmn6bd3mm22mbLTT9Kv02WqWdlax/Z5ZpQ%2ByRmYtM5IB9G/Bj4h/8Ld%2BD3hP4sf2P/Z//AAk/hqw1b7B9o837N9pt0m8rftXft37d21c4zgdK8%2B/YP/5Ihrn/AGWb4j/%2BprrddB8Jv2Zfh78Pf2XvDn7Kfi6xi8Z%2BHtF8LWui38XitH1GPVEijVWMyXkk5dGZciN3cINqA7VGOR/4J0%2BGPDXgr9m6%2B8H%2BDfD1jpGkaX8W/iHaaZpemWiW9taQR%2BM9aWOKKJAFjRVAUKoAAAAFAHulFFRXt7Z6bZy6jqN3FBb28TSTzzSBUjRRlmZjwAACST0xRsDaSOb%2BNfxm%2BHX7PXws1r4y/FjxFFpegaBZNc393JycDhY0Xq8jsVRUHLMwA5NfkyPDfx%2B/4LhftmRWnj5b7w98PfCu2e/0mGTKeGtNkOUtmP3ZNWu1XL9RboCDlkMce7%2B23%2B0h8R/%2BCjHxh8N%2BDvgrYtd%2BE7jxJLpXwb0S4QiPxNqsOVu/E12hH/IOsV3%2BUGBDyDkMFuI1/SX9kX9lrwB%2Bx98ENM%2BDfgNWuGgzc65rVwM3GsajIAZ7yZiSWd2HGSdqhVBwor4qq58U4/2Cf%2By02nL/AKePdL/D1/w%2B99qNvp%2BHMPQyzLKfFmNipOUmsvpSScZypvlnj6kWnzUqM1yYOEk41cRGVeSlTw8FLtvAHgHwb8LPBWl/Dr4eeHLXSNE0WyS00zTbOPbHBEgwFA/Uk5JJJJJJNa9FFfaRjGEVGKskfOVq1bEVpVasnKUm2222222223dtttttttttsKKKKZmFFFFABRRRQAUUUUAFFFFABRRRQAUUUUAFFFFABRRRQAUUUUAFFFFABRRRQAUUUUAFFFFABRRRQAV4z%2By//wAlv/aO/wCyzWP/AKhXhevZq8Z/Zf8A%2BS3/ALR3/ZZrH/1CvC9AHs1FFFABRRRQAUUUUAFFFFABRRRQAUUUUAFFFFABRRRQAUUUUAFFFFAHn/7VfwVuv2jP2bvG3wO07Xo9KvPE/hy6sdO1OaEyx2l0yEwTOgILosoRmQEFlBGRnNeV%2BFP2YPjn8Qofi7eftFaZ4R0q5%2BNOgnQdatvB3ie7vo9D06HTDZweTJcWFubyWSW5vZXLLAIlaFAJirOfpSigD5k/YA/Y5%2BI37MPiDXta8WeGvA/hexv/AAloOir4d%2BH%2Bq3V3a6pf2BvPtOv3RuLa3KXt2tzCjrtlfbap5lzOdvl6l/8ADHw34O/4KbeC/Gek6l4hmvPEPwe8cSX8Oq%2BLtRvrSIpq3hLAtrW5nkgsgdxytukYbA3A7Vx9D14z44/5SF/C/wD7Iz48/wDTt4QoA8x/4JR/8SyT9ozwm3H9nftPeKTCv92GT7M6f1r60r5L/wCCdf8AxKv2nv2q/CfTyfi9FqG3/r6skfP47a%2BtK8nJNMshHs5r7qlQ/QPFH3uN8RV/5%2BQw8/8AwPCYR/owooor1j8/CiiigAooooAKKKKACiiigAooooAKKKKACiiigAooooAKKKKACiiigAooooAKKKKACiiigAooooAKKKKACiiigArxnxx/ykL%2BF/8A2Rnx5/6dvCFezV4z44/5SF/C/wD7Iz48/wDTt4QoA9mooooAKKKKACiiigArxn9g/wD5Ihrn/ZZviP8A%2BprrdezV4z%2Bwf/yRDXP%2ByzfEf/1NdboA9mr4Z/4Kn/tIR%2BO9Tvf2IfBnjCbR9FtPD7%2BIvj54ssSC%2BheGowGNjGen2u8%2BWNI%2BpWRQVKykr9R/tY/H/Qv2Wv2b/GXx%2B8Q%2BW0XhnRJbm3glbAubo4S3gz/00meOP/gdfnf8Kf2ctc%2BMPjTwX%2BxT4xubnUvEPjGW2%2BK/7Weu3H%2Btn3MJtO0GQjhF3OgMIxtH7xOMivmeIcXVcVgqPxTtf0b5Yx/7fd%2BZ9KcZvqjsyHIafF/ElPKK83TwkISxGMqLeGFpazUf%2BnlZ2o0%2B8qitvp9E/wDBKj9mW6g0aT9tf4neDoNH1zxjolvYfD/wugJj8IeEowPsVjFno8qhZpX6uWDEBmkz9lU2GGG2hS3t4ljjjUKiIuAoHAAA6CnV7WAwVPL8LGjDW277t7t%2Br%2B5WS0SPS4lz6txHm88ZKCpwSjClTj8FGjTXLSpQXSNOCUe8nzzd5TkwooorsPBCiiigAooooAKKKKACiiigAooooAKKKKACiiigAooooAKKKKACiiigAooooAKKKKACiiigAooooAKKKKACvGf2X/8Akt/7R3/ZZrH/ANQrwvXs1eM/sv8A/Jb/ANo7/ss1j/6hXhegD2aiiigAooooAKKKKACiiigAooooAKKKKACiiigAooooAKKKKACiiigAorN8Z%2BMfCvw78H6t8QPHOv2ulaJoWmz6hrGqXsoSGztYY2klmkY8KiIrMT2ANc58EP2hPhV%2B0Romoa78LdY1GZdI1AWOrWGt%2BHb7SL6xuDDFOqT2d/DDcRboZoZULxgOkqOpKsDQB2teI/EDVbC1/wCCjfwn0q4uVSe7%2BC/j826MceZs1bweWA9Tg5x6AntXc/CT9on4NfHbW/GHh74TeNo9ZuvAPiaTw94rEFpOiWWpRxRySW4kkRUmKrIoZoi6q4ZCwdHVfkL/AIKb/FS/%2BBn/AAUy/Y5%2BKgkdNLifxho%2BvuP9XHaajN4eszJJ6IkksT59VWubF4iOEw7qy2Vr%2BjaX4XucmOxccDhZV5bRtf0coxb%2BXNf5Hffsb/8AEo/4KZftc%2BGzwkl14L1CAf3vN0iXef8AvoAV9aV8l/A7/iTf8FhPjppvT%2B2vht4Z1DH97yQ8Gf1xX1pXFk2mGnHtUqr/AMqN/qfpfiT7%2BeYWt/Pg8DL/AMtKcH%2BNNhRRRXrH5%2BFFFFABRRRQAUUUUAFFFFABRRRQAUUUUAFFFFABRRRQAUUUUAFFFFABRRRQAUUUUAFFFFABRRRQAUUUUAFFFFABXjPjj/lIX8L/APsjPjz/ANO3hCvZq8Z8cf8AKQv4X/8AZGfHn/p28IUAezUUUUAFef8A7S/xxufgD8NYvFmi%2BEV8Qa1qviHS9B8N6HJqP2OO91HUL2K0gWWfy5DBCrS%2BZLII5GWKNyqSMFRvQK8%2B/aX%2BB118fvhrF4T0Xxevh/WtK8Q6Xr3hvXJNO%2B2R2eo6fexXcDS2/mRmeFmi8qWMSRs0UjhXjYq6gHn1z%2B3RdaF%2By94p%2BN3i34Ux2nifwd4xPhHW/CVv4iElpHrD6lBYQY1B4ExZSG6tbg3LQK0cEpZ4gyNHR4Q/ax%2BO/wASvDHizT/h18DvAl341%2BHXjebw38QdJ1H4rT2%2Bj6fKmnWuorJBqKaTJJcbre%2Btcq9rDscyoxHlZbQ%2BH/7K3xG8EfCPxj4B1T4meD/EOqeOrrUtV8RX2vfDuSfT7vVb2ZjIZLE6jh7BbYQ2y2hl8zZDue5dmJrzDU/%2BCX3jPTv2fLz4G/Cv41eCfC0Pi7x8PEfxRsLD4TvFoPiG2Wygs49Gg0601S3ew0/ybOzSWNbiRp1hkWRmW4mDAH0f%2Bzt8ZdK/aL%2BAXgn4/aFod5pll428Kafrtpp2obfPto7u3SdY3KkqWUOBlSVOMgkEVxf7B/8AyRDXP%2ByzfEf/ANTXW679Phvp3i34URfDD43aH4Y8U29zpcdpr9iPDQi0m/wAGVbG4luAkJIGInkl2gAbmxmvMP8Agnb4d8LeA/2adQ8K%2BE9B0/RtG0j4s/EO207TdOtUt7Wyto/GetKkUcaAJHGqgAKoAAAAAAoA8F/4Kz/GLwv4g%2BLXgb9nPxLJ53hTwdY3HxR%2BK1urDE2mabuFjYt2IurwiLaedxjIr1b/AIJa/BXxR4P%2BBV3%2B0T8Xl874i/GfUP8AhLPF1y6ENDHMC1nZKDyscMDLhD9xpHXoBXw14Yhvf%2BCgf7Qdsl0kksP7RHxGfWdWjbObL4c%2BG5mhtoHHWL7XdxMpwMGS2QnrX6%2BxRRQRLDDGqIihURRgKB0AHYV8jkq/tPNK2YS%2BFO0fmrL7oW%2BdRn1OXN5J4cxrbV85qe3l3WCw8pUsLDuo1qyrYlr7SjTbukh1FFFfXHywUUUUAFFFFABRRRQAUUUUAFFFFABRRRQAUUUUAFFFFABRRRQAUUUUAFFFFABRRRQAUUUUAFFFFABRRRQAUUUUAFeM/sv/APJb/wBo7/ss1j/6hXhevZq8Z/Zf/wCS3/tHf9lmsf8A1CvC9AHs1FFFABRRRQAUUUUAFFFFABRRRQAUUUUAFFFFABRRRQAUUUUAFFFFAHmH7anwh8VfHz9kz4h/B3wK9qNb8QeFLy10eO%2BlKW810YyYopWAJWJ3Co7YOFZjg4wfMPhr4E/aW8c%2BJfjN8RZvh/rvwi1r4qaTb6X4UvtTk0jVZ/C8ljpZhi1O7htL94pne6uZTHDFJIGjs0MrQmTav09RQB8t/wDBOr9lX9oP9lrxx8WdG%2BKuseELrwzqes6GPBknhbwtPpouobXQbCyknKz6rfygbrfyispEjyQyzF2WZVXyb/gqF%2BzB4r%2BL3xM1TQ5Pit4k1%2BfUv2fvHer%2BFtBv7bTo4NEu7DWPCF3FHZPa2kNwTK8SoTcSzHptKgtn79rxjx2iSf8ABQj4YRyIGVvgx48DKwyCP7W8IcVhisPDFYadGe0k0/mmv69DmxmFp43B1MPU%2BGcXF/NNfrf5HzB8Pfj1/Y37VHwE/b61yWN/Cn7QPwvs/A/iG9AwmkeIUf7RCGbpiWZZYAOxjdjgACv0Gr88P2bv2a9L%2BM37Kn7Qn/BLnW7kWd/8NPiHff8ACDXLMVbTba6c6jo9yCPmT975pbb1RmAPJr6b/wCCdn7TGrftP/sy6Z4i8cwNa%2BNvDd1N4c%2BIOmygCW11mzIin3qPul/llx0Hm47Gvn8ixE4S9nV/5eJzX%2BOPuVY/%2BBRU15SZ948RPjDw1y7PP%2BYjBRhg8SvKLqfV6vo2q1CT/nhTb1lr7pRRRX058YFFFFABRRRQAUUUUAFFFFABRRRQAUUUUAFFFFABRRRQAUUUUAFFFFABRRRQAUUUUAFFFFABRRRQAUUUUAFFFFABXjPjj/lIX8L/APsjPjz/ANO3hCvZq8Z8cf8AKQv4X/8AZGfHn/p28IUAezUUUUAFFFFABRRRQAV8j6b8Rv8AhUn/AATM%2BNnxGjn8ubSvFfxals2zj/SD4s15YRntmRkH419cV%2BaH7evxCh8Ef8EdPiDokl35DeKv2gvGWjpKDyAfH%2BsXMgH1itpAfYmvOzfEfVMqr1v5YSfzs0vxaODNJVo5bW9irzcWopbuUvcil5uU4pebRs/8G/XwV1G7%2BFmqftYeLLHZJqOmWnhDwahO5YNLsB/pUkRx9y4vzM7D%2B/EfWv0Wr5//AOCVvgn/AIV//wAE7PhDoPk7PP8ABtvqJXGObwtdk/j5%2Bfxr6ArDh/CxweS0Ka3cU36ySb/NL0SPvOOakVxPXwdNr2WE5cLTS2VLCxjh4W9fZSm%2B8qkn1CiiivYPkgooooAKKKKACiiigAooooAKKKKACiiigAooooAKKKKACiiigAooooAKKKKACiiigAooooAKKKKACiiigAooooAK8Z/Zf/5Lf%2B0d/wBlmsf/AFCvC9ezV4z%2By/8A8lv/AGjv%2ByzWP/qFeF6APZqKKKACiiigAooooAKKKKACiiigAooooAKKKKACiiigAooooAKKKKACio729s9Os5dQ1C7igt4ImknnmkCpGijLMzHgAAEknpXM%2BAfjp8Efit4Cn%2BKnwu%2BMfhXxJ4XtjMLnxJoHiG2vLCLyRmXdcQu0a7By2W%2BUdcUAdVXjPjj/AJSF/C//ALIz48/9O3hCu%2B%2BE/wAcPgt8etAm8V/Az4v%2BF/Gml290ba41Lwn4gttRt4pgqsYmkt3dVcKynaTnDA9xXA%2BOP%2BUhfwv/AOyM%2BPP/AE7eEKAPIv2svCPxl/Y5/aYv/wDgox8E/CMni7wvrOg2umfGXwXYxf6f9ktSfK1a0OcSSQxna0Z/gU84Zni5PWPEHir4OeO9R/4Kf/sHwQ/E34UfEu0tbv4peBtGUi%2BjeBSh1SxU4/0hF3Ce3YBywbdyd0X3eQCMEV8g%2BP8A9iD4/fszfETWvj5/wTU8Y6Tpqa7dfbvFfwZ8SR40LWLjHzzWjqQbCdgP4cIzbcsqLtr5rMMvrUZurQ5nHmc7Rs5wm95wT0lGX26b3u3Hdo04dz7MeBczrYihQWKwWJTjiMNK/vRk1KThZqSfNFTTi1Up1YqpTvedOf0Z8A/2gPhH%2B058MdP%2BL/wU8ZW2taHqKfJPAcPBIAN0MqH5opVyAyMARx2IJ7Kvy803x54EuvjlqXjD9nr4gXX7Kn7Ql5Msniz4R/EmPZ4X8XT5OHDYELmQ5C3EO2Rssyx5cyH6W%2BFP/BUPwvoPiu2%2BCX7d/gC5%2BCvj128uB9ck36BrBGB51lqI/dFD1xIw2khd7NmtMDn1CpFRxLUXtzL4G%2B2tnCX9yootPROSPt1wvlvFOFnmXBVd4yirudD/AJjMP1calFJSqxjqva0YyVknUpUnc%2BraKjtbq1vrWO9srmOaGaMPDNE4ZXUjIYEcEEcgipK%2BhPhWmnZhRRRQIKKKKACiiigAooooAKKKKACiiigAooooAKKKKACiiigAooooAKKKKACiiigAooooAKKKKACiiigArxnxx/ykL%2BF//ZGfHn/p28IV7NXjPjj/AJSF/C//ALIz48/9O3hCgD2aiiigArzD9rb4yeMvgx8MLC%2B%2BGtnpkviXxJ4w0Xw1oEmtwSS2Vrcahfw2xup44pI3ljhjkkm8pZIzKYhGHj3719Prjfjx8EvDX7QPw6l%2BHfibWNT0vbqVjqel61ok0cd7peoWV1Fd2l3A0scke%2BOeGNtsiPG4BR0dGZSAeJ3/AO2P8Z/DP7IfxE%2BJGu%2BHvD1745%2BG/jebwtrd9YabdJowC31tF/bLW3nSTpaw2V3HfTwCZmQQzRiY4EtcV8Mv%2BChHxg%2BPOoQfAz4IeP8A4Z634vHxT1DwxJ8TbTw3eXHhm8sLXw7aa21/a2MeoiWUt9vtbPaL4pvWaYSMqrG3vvw5/ZYHwp%2BHureBvBfx68cQXWuSXl7qXiaVdJl1CbVrq6e4n1Ul7Aw%2BeS4jEXlfZUiijRIFC1zlx%2BwF4KPhqzOl/Gvx7p/ja18Z3HiqX4qWs%2BmNrt3qk9gdOmkmWSxexaNrER2whFoIkjt4CiI8SOoB0nwD/af8OfEP9krw7%2B0/8W9Q0bwdbXWgrdeJ5tQ1VIdP0u5jYxXI%2B0TFV8lZkcK77crtJAJxX5T/APBUH4z%2BFfFf7Enw98K%2BENfs9c0XxP8AHH4seIbK/wBIuUube5ii8UaxDa3EckZKujtfgo6kg5yDX7E/B34UeDvgV8KvD3wb%2BH1pNDovhnSINO01bmcyzNHEgUPLI3MkjYLO55ZmZjyTX4s/tF3Uvxl/bU8J/BWKLz7CH4v%2BINAuU6%2BVeal8UNbuWJ9Aba0XJr5fjCclkU6Ud6jjBfOS/wAj2%2BFMLSx/G2TYWqrwnjMO5L%2B5SqPE1P8AyTCSP2o%2BEPgxPhx8J/C/w8iQKug%2BHbLTlUdAIIEix/47XRUUV9NCEacFFbJJfdp%2Bh5WJr1cViJ16jvKcpSb85Nyf4yYUUUVRiFFFFABRRRQAUUUUAFFFFABRRRQAUUUUAFFFFABRRRQAUUUUAFFFFABRRRQAUUUUAFFFFABRRRQAUUUUAFFFFABXjP7L/wDyW/8AaO/7LNY/%2BoV4Xr2avGf2X/8Akt/7R3/ZZrH/ANQrwvQB7NRRRQAUUUUAFFFFABRRRQAUUUUAFFFFABRRRQAUUUUAFFFFABRRRQB5F%2B338PvGnxW/Yo%2BKfw4%2BHmjS6nrOs%2BBtRtbLSIHCvqZaBt1mpYhQZ13QjcQv7zkgZNecfs7%2BNdKm%2BKXxr%2BOM3wh8d6b4M8Xx2Euj6Nqnwx1a1u9VfTNHjjvrg2EtqsyNIjW9nEkqI9ybErCsiqhP1JRQB8x/8E8vEeofGPxJ8Q/2ofG/gPxb4T8U%2BOJdLjufCHiX4f6tof8AYWlWkdwmn2jSahawLf3mJbiS5lgMkcbzJCrNHFFJLq3%2Bm/Fe0/4KbeC7zxt408PahoVx8HvHB8NadpXhiezu7BBq3hLzFubmS9mS7JymCkNuF2nIbcNv0PXjPjj/AJSF/C//ALIz48/9O3hCgD2aiiigDjfjb%2Bzz8D/2kPCjeCfjr8LdG8UaaQfLh1WzV3gYjBeKTh4X/wBtGVvevk/4k/8ABKH4qeDfCF14J/ZT/aNjv/BsvI%2BEPxq0seINAGPuxwTODcWSr1Bjy4JzvBr7iorz8ZleBxz5qsPetbmWkrdrrdeTUl5HFUwFCWLhi6blTrwacatOUqdSLWzU4OMtHtdteR%2BQDWn/AAUU/wCCddxLd/D/AOFvjvwLo1vKXl0TTC3jbwNMM5Lqu77dpEJPU5llPqAcV7P%2Bz1/wcOfBLxB5Og/tN%2BAp/Dl1hhJ4k8JSNqemsqnDTSQYW8tFyeEeJz6mv0Yryv43fsPfsh/tHGWf41fs7%2BFddu5wRJqk2lpFenPpdRbZh%2BD14ayLNsvd8uxVo/yVI3j%2BG3yS9D7KfGmfY6PJn1KjmX/TyqnQxfzxWGivavzxOGrN9ZvVvf8Agv8AtH/AX9orQx4i%2BBvxd0DxRahA0v8AZGpJLJBntLEDviP%2By6qfau1r4B%2BIP/BvH%2Byvc64PGP7P3xd8ffDjWYX32M%2BnasLuG2bsV8wLPkevn1a0D9mv/gt5%2BzQnlfCj9sXwN8XtGtEPk6V8StOnhu58dB5qhpSx/wBu6xXXTzLOaGmMwjf96lJTX/gLcZL8T57G43Kb81GjXp/3ZKnWS9KlGUG/WVCL6vsfelFfEj/8FJP27vgulva/tV/8ErPGnlJCXvtf%2BGOrRa5AQM5cQRBhCuO0k%2BfWrPgv/gvp/wAE6/EV0dO8Y%2BL/ABT4Lu0fZNZ%2BKPCVx5kT5xtf7IJwp%2Bp4710LiDKFLlqVfZvtNSg//Jopfc2eXLNMFTpupUbhFbylCpGK6aylTUV5Xkj7SorxPwP/AMFI/wBgf4iBB4Y/a88Al5ceXBqHiOGylb2EdwyMT7YzXrHhnxv4L8aW32zwd4v0vVoSMiXTNQjnXHrlGIr0aOLwuIX7qpGXpJP8mzahjcFilehVjP8Awyi/ybNSiiiug6gooooAKKKKACiiigAooooAKKKKACiiigAooooAKKKKACiiigAooooAKKKKACvGfHH/ACkL%2BF//AGRnx5/6dvCFezV4z44/5SF/C/8A7Iz48/8ATt4QoA9mooooAKKKKACiiigAr8S/2PfCN346/wCCvWo%2Bfumtr39rLx/ONxytuNCuNSuB9MyagPxr9tK/Lf8A4Jv/AA3RP%2BCq/iyTCOmnap8VvFMzIciO7vfH2oaaqn0Y21oh%2BnFfPcQUHiPqsentofr/AJM%2Bx4DwrlxDUzB7YTC46t6SeEnQg/XnxWnmfqRRRRX0J8cFFFFABRRRQAUUUUAFFFFABRRRQAUUUUAFFFFABRRRQAUUUUAFFFFABRRRQAUUUUAFFFFABRRRQAUUUUAFFFFABRRRQAV4z%2By//wAlv/aO/wCyzWP/AKhXhevZq8Z/Zf8A%2BS3/ALR3/ZZrH/1CvC9AHs1FFFABRRRQAUUUUAFFFFABRRRQAUUUUAFFFFABRRRQAUUUUAFFFFABRRRQAV4z44/5SF/C/wD7Iz48/wDTt4Qr2avGfHH/ACkL%2BF//AGRnx5/6dvCFAHs1FFFABRRRQAUUUUAFFFFABXJfE/4CfA/42WX9n/GH4P8AhjxRFs2quv6HBdlB/smRCVPoRgiutoqJ06dWLjNJp9Gk19zTN8NisVgqyrYepKE1tKMpRkvRxcWvvPjf4rf8EHP%2BCcHxNEs2mfC3VPCVzMSXufCviCaMA%2BqxXBmhX6BAK8A8df8ABtfotnqEesfBv9px4/spJttO8TeGFyx7brqxmgcfUIa/UeivDxPC3D%2BKd5YeKfeN4/8ApLS/A9tcUZlV0xlOhil2xGGw1f8A8mqUPafP2t10a3PyVm/4Jdf8FQ/g7IX8IeL9T1a1iP8Ao8Xwr%2BPep6HOyjoGGqRyxg%2BwOKT%2B1f8AgpP8Jfl8Z6t%2B2B4f8vh5rDR9I8eRRe7Ohh3KO5x0r9a6K4/9U8NS/wB3r1IfO6/OL/EtY/gfE/77w7hr98PVxmEfyVHE1Ka/8Ffhofk3pv8AwUK%2BN/hi7TS/FP8AwVwk0W8Y4j0/4o/sxPpj5/us9osijHclq9N8F/tuftpeJNifD/8A4KI/sZ%2BJZG/1dt4ivb7TZpP%2B2aSK/wCQr9ENR03TtXtH0/VtPgureQYkguIg6MPdWBBrzLxr%2Bw3%2Bxl8Rd7%2BNf2VPh7qEr/euZfCFmJvwlWMOPwNH9iZtS/h4m/rKrH/26ovwD%2BzfCXE/8usywr/6d42lXivliKMJW/7eb8zw/QPjB/wWL1K0%2B36R8Nf2bvFsAHM/hfxhqKI30Mu4Cr//AA0T/wAFddJ/5CH/AATn8Gatjr/ZXxdtoM/Tzo6v6/8A8EXP%2BCb2tXf9qaf%2Bz4dEvR/q73w94m1KzeP/AHVjuAg/75qh/wAOjfA2g/N8Lf2zv2hvCG3/AFcGi/FCQwD2aOWJ9w9s0fVM/p/ak/StB/8ApyivzD/U/wAPK/8Au/EmNo%2BVbCRn%2BNGpK/ryr0D/AIbO/wCCl2n/APIe/wCCQmoADq%2BnfGrR7nPuAIwfwpf%2BHgX7Ytl/yHP%2BCTvxKjx977B4k0%2B6/LaRmg/sE/tueGv%2BSaf8FZ/Hlrt/1Y8U%2BC9N1r8/NKbqP%2BFJf8Fh/C//ACAv23/hn4p2/d/4Sb4amx3/AF%2BxucfhRzZxD4vb/JYef5cr/AP%2BIc4Gr/unF1B%2BVSlVpP582ElH/wAmD/h5d8bLMZ1f/glr8ekx1%2BxaLbXH/oMozSf8PUvEVt/yE/8AgmV%2B1Enr9l%2BGST/yuBS/2z/wW78Nf8f/AIL/AGb/ABNGv3f7L1HWrOZx7%2BcCgP04o/4aU/4K0%2BHf%2BQ1/wTT8MeIQv3m8P/GOztc%2B4FzGT%2BFH1vHR%2BKrWj64eL/8ASWw/4hXxPP8A3bPsFV9MRhF/6dVAT/h7XosX/IQ/4J7ftTWnr9p%2BD7DH5XBpf%2BHvPw4j/wCPv9jb9o639fO%2BEswx%2BUpo/wCG/P2z9E/5Hb/gk38Q4Mff/sLxZp2p4%2Bnl7c0f8PU9Z0n5fGf/AATb/aZsMffmtPhst3Ev1dJx/Kj%2B0ai%2BLGNf4sO1%2Bgf8Qh8UJfwa9Kr/AIJ4Cf8A6TjV%2BQn/AA%2BF%2BCqf8fP7Mvx7h9fN%2BFVwMfk9H/D479npP%2BPj4F/GyL/rp8Lrsf1pT/wWQ/Zw0/8A5G74NfGbw/j739s/DC7Tb9dm6nR/8FvP%2BCb1u4h8RfGrVdGkJx5eq%2BBtXjOfT5bVhR/akVvmNNesIr85IP8AiDvjR9jB1p/4MLGp/wCmq1QZ/wAPlv2YE/4%2BPhh8Xov%2BunwxvR/IUf8AD6H9j9P%2BPrw58TYPXzvhtfj%2BSGt7Sv8AgsV/wTS1nH2T9rDQ0z0%2B1afewf8Ao2BcV0Wmf8FOf%2BCfGrY%2By/th%2BAUz/wA/PiCKD/0YVraOOnP4cwpP/t2H/wAtPPr%2BGXi7hf4uDrx9cDW/RM8//wCH1/7CkX/H9rXjW19ftHw81MY/KE0f8PwP%2BCcMX/H/APGDWrX1%2B0eA9XGPytTXsGm/t2fsR6vgaZ%2B2H8Lpyf4I/H%2BnFvy87Nbun/tOfs2atj%2Byv2hPA9znp9n8WWb5/KSt41cdL4cZSf8A26v0rHkVuE/EPDfxac4/4sHXX52PBE/4Lk/8EuWbZJ%2B040Td1l8Fa0CP/JOp4/8Agt3/AMEu5Blf2p7cf73hTVx/O0r6NtPib8LtZAFh8QdAuwegh1aCTP5Ma0LeDwzqi%2BZaw2FyOu6NUf8AlW8YZxL4a9J/9w5fpVZ5lXL%2BK6H8SpCPrQqL86iPmQ/8Ft/%2BCXoGT%2B1Pa/h4W1f/AORKhl/4Li/8Etohlv2pIz/u%2BDtab%2BVnX1MND0VTldHtQfUW6/4VNHZ2kP8AqbWNMdNqAVXss7/5/U//AAXL/wCWGPsOI/8AoIpf%2BCp//LT5O/4fkf8ABMaTi0/aGu7j08nwNrRz%2BdmKP%2BH3n/BOx%2Bbb4pa/N7xeAdXP87YV9a0Uexzr/n/D/wAFv/5YH1fiL/oJp/8AgmX/AMtPkv8A4fafsBn7njLxYw9V%2BH2q/wDxiqfwU/ba%2BAX7Yv8AwUL8Gf8ACjtX1e6/4Rz4M%2BMv7U/tXw9dWG37Rq3hXy9v2iNN%2BfIkztzjAzjIr7Arxnxx/wApC/hf/wBkZ8ef%2BnbwhWtClmcaqdWtGUeqULP7%2Bd/kb4ahnEKydevCUeqVNxb%2BftJW18mezUUUV6B6gV5D%2B2v8SPH3w8%2BE%2BkWXwy8StoWseLPH/h3wxD4iS0hnfSYtQ1O3t57mOOdHiaYQvIIvMR4xK0ZdHUFG9ernfix8J/APxv8AAV78M/ibobaho9%2B8Ek0MV7NbSxywzJPBPDPA6SwTRTRRyxyxOskckaOjKyggA%2BZNb/aR/aA8JfsRfFu/g%2BI39reOfh98QLvwhoPiu70y0S71tmv7WK02QRwraHUXjvY7WMeUlu94qFo0jZkXy0ftVftrX%2Bhw/CWx8S/Ey48U23xl1bRtQ8N6bpng9fiFDpEHhy21KFZjOn/COtia7hmeaJtptbq0jVzcmVD9eWv7F37OVp8Kb34Jf8IXqE/hjUreRL/Tr3xVqdwbiaS9e%2Be9eWW4aVr43Tmc3xb7V5gVvNyi4ypf%2BCfn7LMnhmDw2nhLxFDNb%2BIZ9cXxHa/ETXIdefUJrVbSWeTWEvRqEpe2jigYPOymKGKMjbGgUAs/syfHrUvFf7EPgP8AaF%2BKerPrmo3/AIC03UvEl34Q8M31y1zePbx/aDb2MMDXRPmlx5Sxb1wQUGCB8ef8ET9Ri%2BKP7YX7U3xegs76KysPiDqek6MNT0yeyuFhuPEet30iSW9wiTQOGdN0ciK6k4ZQQRX6FfD/AMA%2BDfhV4G0f4afDvw7baRoOgabDYaPpdmm2K1tokCRxqOuAoA5yT1JJr5D/AOCMvg99MX9pvxzdQ7Ztb/a38fRRtj70Ftq8yIf%2B%2B2lH4V52NpurisN2U3L7oSt%2BLPsuGcbDA5FnTfxVMPCkv%2B38VRcv/JabT8mfalFFFeifGhRRRQAUUUUAFFFFABRRRQAUUUUAFFFFABRRRQAUUUUAFFFFABRRRQAUUUUAFFFFABRRRQAUUUUAFFFFABRRRQAUUUUAFeM/sv8A/Jb/ANo7/ss1j/6hXhevZq8Z/Zf/AOS3/tHf9lmsf/UK8L0AezUUUUAFFFFABRRRQAUUUUAFFFFABRRRQAUUUUAFFFFABRRRQAUUUUAePf8ABQc%2BOR%2Bw58WD8N/7T/tj/hAtT%2Bz/ANib/t2z7O/m/ZvL%2Bfz/ACvM8vZ8%2B/bt%2BbFfNnwi8S/DzTvhj%2B094a/4Jya/4ag8O6l4Wmf4K2HgW6t1sLrxLF4dzeHSUhPluElfTTKYAVW5aXfiUy196UUAfG//AATLP7Ph%2BMfj3/hi06R/wqf/AIVv4K8z/hHNv2H/AISrfrP9peZs4/tH7H/ZH2vd%2B93eT5n7zfXoN/qXxXu/%2BCm3guz8beC/D2n6Fb/B7xwPDWo6V4nnvLu/Q6t4S8xrm2ksoUtCMJgJNcBtxyV2jd9D184ftH6v8a9H/bw%2BE8/wO%2BH/AIW8Rak3wj8drd2nivxhc6LBHB/anhIl0lt9PvWd920bDGowSd%2BQFIB9H0V4z/wnH/BQv/o1/wCDP/h%2BNW/%2BZej/AITj/goX/wBGv/Bn/wAPxq3/AMy9AHs1FeM/8Jx/wUL/AOjX/gz/AOH41b/5l6P%2BE4/4KF/9Gv8AwZ/8Pxq3/wAy9AHs1FfOOk/tHft26x8Z9f8Agdb/ALKHwkXVPDvhfSNdvLl/jrqnkSQajc6lbwohHhjcXVtLnLAqAA8eCxLBeo/4Tj/goX/0a/8ABn/w/Grf/MvQB7NRXjP/AAnH/BQv/o1/4M/%2BH41b/wCZej/hOP8AgoX/ANGv/Bn/AMPxq3/zL0AezUV4z/wnH/BQv/o1/wCDP/h%2BNW/%2BZeuX8A/tHft2/ETxX438IaP%2Byh8JIbjwH4oi0LVZLn466oEnnk0rT9TDxbfDBJTydRhUlgp3o4xgBmAPo6ivGf8AhOP%2BChf/AEa/8Gf/AA/Grf8AzL0f8Jx/wUL/AOjX/gz/AOH41b/5l6APZqK8Z/4Tj/goX/0a/wDBn/w/Grf/ADL0f8Jx/wAFC/8Ao1/4M/8Ah%2BNW/wDmXoA9mor5x%2BEX7R37dvxl8KXfi/w5%2Byh8JLa3s/FGt6FJHe/HXVFcz6Xqt1pk7jb4YYbGmtJGQ5yUZSQpyo6j/hOP%2BChf/Rr/AMGf/D8at/8AMvQB7NRXjP8AwnH/AAUL/wCjX/gz/wCH41b/AOZej/hOP%2BChf/Rr/wAGf/D8at/8y9AHs1FeM/8ACcf8FC/%2BjX/gz/4fjVv/AJl65f4I/tHft2/Hj4MeEPjj4V/ZQ%2BElrpfjPwvp%2Bu6bbah8ddUWeGC7to7iNJAnhhlDhZAGCswyDgkc0AfR1FeM/wDCcf8ABQv/AKNf%2BDP/AIfjVv8A5l6P%2BE4/4KF/9Gv/AAZ/8Pxq3/zL0AezUV4z/wAJx/wUL/6Nf%2BDP/h%2BNW/8AmXrl/jd%2B0d%2B3b8B/gx4v%2BOPir9lD4SXWl%2BDPC%2Boa7qVtp/x11Rp5oLS2kuJEjD%2BGFUuVjIUMyjJGSBzQB9HUkkccqGOVAykcqwyDXjX/AAnH/BQv/o1/4M/%2BH41b/wCZej/hOP8AgoX/ANGv/Bn/AMPxq3/zL0Aelar8Mfhrrmf7b%2BHmh3m7r9q0mGTP/fSmuc1P9lH9lvW8/wBs/s2eALvPX7V4OsZM/wDfURrmP%2BE4/wCChf8A0a/8Gf8Aw/Grf/MvR/wnH/BQv/o1/wCDP/h%2BNW/%2BZespYfDz%2BKCfqk/zTPQoZvm2F/gYmpD/AA1Kkf8A0mpEn1H/AIJ9/sJark3v7GnwuJPVo/AdhGx/FYgaw9Q/4Jb/APBPDU8/af2P/A65/wCffSFh/wDRZFZnxd/aO/bt%2BDXhS08X%2BI/2UPhJc2954o0TQo47L466ozifVNVtdMgc7vDCjYs13GznOQisQGOFPUf8Jx/wUL/6Nf8Agz/4fjVv/mXrnlluWz%2BKhB/9uR/%2BRPXo8bcaYf8AhZpiY%2BmIr/8Ay5nH3/8AwR4/4Jqajn7R%2BydoS5/54X15F/6BOKx7v/giF/wS%2BvG8xv2YI4m7Nb%2BLtYjx/wB83gFekf8ACcf8FC/%2BjX/gz/4fjVv/AJl6P%2BE4/wCChf8A0a/8Gf8Aw/Grf/MvWMskyaW%2BGp/%2BAR/yPSpeJ/iVR/h51i1/3M1v/k2eZf8ADkj/AIJ6Qf8AIJ%2BG3iKw9Psfj7Vlx/31cmk/4cwfsfQH/iV6/wDEux9BafEnUBj83Nenf8Jx/wAFC/8Ao1/4M/8Ah%2BNW/wDmXrl/H37R37dvw78V%2BCPCGsfsofCSa48eeKJdC0qS2%2BOuqFIJ49K1DUy8u7wwCE8nTplBUMd7oMYJZY/sLJemHh8lb8mjf/iK/iY/izjEP/FUcv8A0qMjmv8Ahzt8AIf%2BQb8evjdZ%2Bn2X4pXQx%2BYNB/4JE/DqL/kH/tl/tHWnp9m%2BLUox%2BcRr03/hOP8AgoX/ANGv/Bn/AMPxq3/zL0f8Jx/wUL/6Nf8Agz/4fjVv/mXo/sLKP%2BfK%2B%2BS/KaD/AIip4idcym/WNGX/AKVh5HmP/Dpqwi/48P8Agop%2B1Vbegg%2BMBA/W2NU/gr%2Byrefsyf8ABQvwWtz%2B0x8U/iKutfBnxlsHxM8VDUzp/k6t4Vz9nIjTy/M80b%2Bu7yo%2Bm3n1r/hOP%2BChf/Rr/wAGf/D8at/8y9UPA/gf9qzxj%2B1Z4c%2BN3xu%2BHHw98M6N4Z%2BHviHQ4YfCvxDvtauru61K%2B0S4RmS40ixSKNE0uUFg7sWlQBcZI2oZVl%2BGqqpShaS85/k5tfgefmnH3F%2Bd4GeDx2K56c7XXs8Or2aa96GGpzWqW012d1dP3WiiivQPjwooooAKKKKACvB/%2BCdnhXTPDHwV8XTacG36r8efiVfXbPjmVvGesL27BUUfhXvFfJX7JXiz9s7T/h74os/hj8A/hhq%2BhJ8afiL/AGfqOvfF3UdNu5l/4TPWSxktotAuUiIbcABM%2BQAcgnaE4ptN9C41KkISgnpK113s7r7nqfWtFeM/8Jx/wUL/AOjX/gz/AOH41b/5l6P%2BE4/4KF/9Gv8AwZ/8Pxq3/wAy9Mg9morxn/hOP%2BChf/Rr/wAGf/D8at/8y9H/AAnH/BQv/o1/4M/%2BH41b/wCZegD2aivnH4I/tHft2/Hj4MeEPjj4V/ZQ%2BElrpfjPwvp%2Bu6bbah8ddUWeGC7to7iNJAnhhlDhZAGCswyDgkc11H/Ccf8ABQv/AKNf%2BDP/AIfjVv8A5l6APZqK8Z/4Tj/goX/0a/8ABn/w/Grf/MvR/wAJx/wUL/6Nf%2BDP/h%2BNW/8AmXoA9mor5x%2BN37R37dvwH%2BDHi/44%2BKv2UPhJdaX4M8L6hrupW2n/AB11Rp5oLS2kuJEjD%2BGFUuVjIUMyjJGSBzXUf8Jx/wAFC/8Ao1/4M/8Ah%2BNW/wDmXoA9morxn/hOP%2BChf/Rr/wAGf/D8at/8y9H/AAnH/BQv/o1/4M/%2BH41b/wCZegD2aivGf%2BE4/wCChf8A0a/8Gf8Aw/Grf/MvXL/F39o79u34NeFLTxf4j/ZQ%2BElzb3nijRNCjjsvjrqjOJ9U1W10yBzu8MKNizXcbOc5CKxAY4UgH0dRXjP/AAnH/BQv/o1/4M/%2BH41b/wCZej/hOP8AgoX/ANGv/Bn/AMPxq3/zL0AezUV4z/wnH/BQv/o1/wCDP/h%2BNW/%2BZej/AITj/goX/wBGv/Bn/wAPxq3/AMy9AHs1FfOPj79o79u34d%2BK/BHhDWP2UPhJNcePPFEuhaVJbfHXVCkE8elahqZeXd4YBCeTp0ygqGO90GMEsvUf8Jx/wUL/AOjX/gz/AOH41b/5l6APZqK8Z/4Tj/goX/0a/wDBn/w/Grf/ADL0f8Jx/wAFC/8Ao1/4M/8Ah%2BNW/wDmXoA9morxn/hOP%2BChf/Rr/wAGf/D8at/8y9cvq37R37duj/GfQPgdcfsofCRtU8ReF9X12zuU%2BOuqeRHBp1zptvMjk%2BGNwdm1SAqApBCSZKkKGAPo6ivGf%2BE4/wCChf8A0a/8Gf8Aw/Grf/MvR/wnH/BQv/o1/wCDP/h%2BNW/%2BZegD2aivGf8AhOP%2BChf/AEa/8Gf/AA/Grf8AzL0f8Jx/wUL/AOjX/gz/AOH41b/5l6APZqK%2BcdJ/aO/bt1j4z6/8Drf9lD4SLqnh3wvpGu3ly/x11TyJINRudSt4UQjwxuLq2lzlgVAAePBYlgvUf8Jx/wAFC/8Ao1/4M/8Ah%2BNW/wDmXoA9morxn/hOP%2BChf/Rr/wAGf/D8at/8y9H/AAnH/BQv/o1/4M/%2BH41b/wCZegD2aivGf%2BE4/wCChf8A0a/8Gf8Aw/Grf/MvXL%2BAf2jv27fiJ4r8b%2BENH/ZQ%2BEkNx4D8URaFqslz8ddUCTzyaVp%2Bph4tvhgkp5OowqSwU70cYwAzAH0dRXjP/Ccf8FC/%2BjX/AIM/%2BH41b/5l6P8AhOP%2BChf/AEa/8Gf/AA/Grf8AzL0AezV4z%2By//wAlv/aO/wCyzWP/AKhXhej/AITj/goX/wBGv/Bn/wAPxq3/AMy9W/2Vvhz8afB%2BsfFDx38dNA8L6Tqnj74hRa5Z6V4T8S3OrW9raxaDo%2BmKr3FxZWbNI0mnSuVEW0LIg3Mc4APW6KKKACiiigAooooAKKKKACiiigAooooAKKKKACiiigAooooAKKKKACiiigAr5X/ae/a0%2BLnww%2BMfizWvAPh3wfJ4Y%2BD/AIf8P3vjU61pFxNquqW%2Br38qXMFhcR3EaWXkW1nHcZkinFzIUjIh8vzT9UV4z8Z/2Ifhx8bvikfiZrnjnxVpcWo2ukWvi/w1o11app3imDS72S9sYr5ZbeSYLHNNLn7PLAZY5DFMZYwqAA9mooooAKKKKAPmPw5%2B0r8TIf2//FHwf%2BI2seHvCfhtfEFpongyLUfhFrKXXjGAaBBqOIPEbXa6c0sd3c6gBaCF5PLtJgFBZpF%2BnK8r8WfstQeP/jJpHxT8e/G/xrq%2BleHtdj1rQPAFwdMi0ax1CO3eCOcNDZJey7PMkkVJrqSMSPu2fIgX1SgAooooA8X/AOCgvxd%2BOH7P37I/jT49fAK98KR6x4J0K71y6g8YaLc31td2lrbSzPboltdWzJK7IiiQuVQFiUfgV5/48/a0%2BLngv48eLdT8KeHfCEXw88IfGPwj8PvGVnNpFwdb1XVddg0VI9Qhu0uFhjjg/tzSYzFJbyvIkM%2BJY9qCvYf2sf2cbL9rT4Ea9%2Bz7rXxV8U%2BEdJ8T2Utjrl/4QXTvtdzZSxPFNbbr%2B0uo0R1flkRZAVG115zxcH7APg6f4i2fxF8VfHHx9rrHWdJ1zxNo2oS6VFY%2BJ9c0xI0sdWvY7awiZbiIQWmFtmggY2NsXiYx5IB73RRRQAV4v%2B2T8Xfjh8ErXwD4x%2BFl74U/sbUPiZ4c8PeL7HxBotzc3Vza6rrNjpoNnLDdQpbSRrcyyb5EnUlEXZyTXtFeVftXfstv%2B1V4b0LwvP8AH3xv4Gt9C8SWGuo3guHR2e7vbG8gvLNpTqWn3g2xXFvG4WMIG5WTep2gA84/Z5/aV%2BJmt/tVeLfgj8UNX8PeE9Oh8U63b%2BCfCUnwi1nTLnXraF0lN/b61cXf2DUHYyTSyxW0BfkuxXDE/TleS6T%2ByiH%2BMmi/GX4j/tAeO/Gs3he7vLvwnoXiEaTDYaPdXNvJayXES2Gn20sr/Z5p4V8%2BSVUWd9oBII9aoAKKKKAPD/27vi58eP2fvg1q/wAdfhR4x8C2On%2BFtFuby90XxZ4Zvb%2B58Q3uUWz0yzktr2D7PNcSkW6N5V0zSzxBYWPyt5/8Ef2vvjPrnxL8Ff2t4M8JaR8NPG/xP8UfDbwr4a07S5o9X0S/0CHVt889yLhreaCRvD%2BposMdvEY1a2PmSZYD0/8AaV/ZBg/aS8eeCPiBN%2B0D478IXPgG7ub3RbHwxFo09nJeyoI1vJoNT068R54Y/MWGQBTGJ5SPmbIq%2BA/2Gvh74D%2BMtv8AF2H4i%2BLtSg07XdT17RPCGpXNl/ZOla3qMbx6hqkCRWqT%2BfOJ7ssrzPCjX1yY4o/M4APa6KKKACvl/wDa5%2BPH7S/wW%2BImn%2BFNKh8AeNdH8cw61baL8OYvB99JrCWtpod1dyX9xOL14rq2F1Fb20kItYgft8KCYyMiSfUFeHTfsTXEf7R/iv8Aaa0T9qv4l6dq/i3TYdOudLhg8Pz2mn2cMDRw21m1zpMtzbxLK73WxZtrzuXcODtoAZ%2Bwh%2B0H43%2BPfw9vLr4r%2BPtGvvF2nCzbX/Ddl8LtX8I3mgPPbLKILmy1e6nuHBbf5dwAkciodobaTXuleb/A79m7Tvgz4n8SfEPWPil4p8ceKvFcVjb6x4n8XNYLcvaWYm%2By2qRafa2ttHFG1zcuNsIZmuJCzNkY9IoAKKKKAPjn/goJ%2B3H8VP2MPHP9p65ougeMfCL6NqOt2/hWX4c6nZS26abo19qSSf8ACRTXT6ZPd/a9NGyxWBLoRzLKBthaRvXv2aPi78c9W%2BKnjf8AZ6/aOufCmoeJ/COk6HrUeteCtIubCxubHVBeRpEYLm5uXWWK4067Uv5uJEMTbIySorfHX9hLwR%2B05rV1a/H/AOLfjXxR4LuZLiRfhleSabDosUk1jNZM2%2B3so76QCO4mYJLdOgd9235EC9P%2Bz5%2BzNpHwDvNe8RXfxQ8WeOPEfiQ2cereKvGtxZvfS21pEYrW1H2O2t4ViiDysMR72eeV3Z2cmgD0qiiigAr4j/an/bK/az%2BDfxq8QfCjwd4b8OeNdTsNFuNd8MBPgf4gjk0UDUdMtUMLfbnHiaQWOqXHnf2X5TwtCVlEYmEdfbleH69%2BxbqfiXx6fidrX7XPxRm1vT4LyLwbeFNAA8KrdTQyT/ZIxpOydmjgW33Xq3TLEzhSruzkA6r9lj4sP8ZPhHB4svfiZo3iq/h1G6stUvtG8GX3h0W1xFKytazabqFxPdWc8YwrxzOHz821QwFejVw3wD%2BAvh74AeGdT0bSvFOt%2BINR1/XrjW/EniTxHNA17qt/MERp5RbxQwJiOKGJUhijjVIkAUYJPc0AFFFFABRRRQAUUUUAFFFFAFHxR4hsPCXhrUfFeqhza6ZYzXdyIly3lxoXbA7nCmvnP9ib9pP41%2BP/ABTo/gz42eHvBlmPHXwtsviN4Zh8GaVcWg0yO8uCbvT7szXEou5o3ubZ/tiCATtLMTBHtBf6Wu7S1v7WWxvbdJoZo2jmilUMrqRgqQeCCOMV5D%2BzN%2BxX4C/Zg1V9X0D4g%2BLfEstt4YsfDPh0eLL21mGgaFZvI9vptqbe3hLRqZPmlnM1xII4vMmfy1wAexUUUUAFcL%2B1B48%2BIvws/Zo%2BInxO%2BD/hRde8W%2BHPAur6p4W0NrGa6Go6jb2csttbGGBllmEkqInlxsHbdhSCQa7qs7xbol/4l8Mah4f0vxXqOhXN7aSQ2%2BtaQsDXVi7KQJohcRSxF1PIEkbpkfMrDIIB5d%2BxT8Wp/ih8M76y1b4heH9Z1Pw7qq6deaZonww1Pwc%2BhoLaCSKzuNK1S5nuYXCOJFdvLR4pYtiYG9/Yq88%2BA/7O2k/A688S%2BI7n4ieJPGPiTxfqMN54i8U%2BK3sxd3Rht0t4IhHY21tbRRRxoAqxwpks7MWZmY%2Bh0AFFFFAHy5%2B1R%2B1j8UP2cPi944sviVo3hLxF8L7D9nfxf49ttCt9EuE1V20QaWs9tcXMly9vNFOt9OAgtkKhEy75YV2/7M/xf%2BPmqfFzxl%2Bzr%2B0s/hK88UeGPDHh7xLHqvgrSbmxspLLVn1K3W2MNzc3LmWG40i7BlEgWRHiby4zuWoPjH%2Bwr4d%2BOnx1b4y%2BPPjt45l02bwVqfhG%2B%2BHsMGi/2Jd6NqS232%2B0kL6a16RO1pA7OLoOpQhGRGZD0n7O/wCy7of7Pt9rXiOf4oeLfG/iHX7Wwsr/AMT%2BNrm0kvTYWKSLZ2Y%2ByW1vH5URnuHBKGR3uZXd3Zs0Aen0UUUAFfInxr/aX/a28Ga7%2B0B4Et/CvgzxZe%2BAvD/hTxJ8NrHSfh/qd/Oseo6rqUIS8tYrx5dRngXTY51NsLclyQq/KrV9d14XL%2BxR4hi%2BOnjb4/6F%2B2h8VtK1bxvpFjplzY2Vn4Ya0022sri5ns0thLoryfujeXSgzPKXWciTzCqFQDq/2VPi3N8ZfhSPE2o/E7RvFOo2uq3Njq11o/gi/wDDZs7iJvmtZ9M1G4nurSdFK7kmYMQyttVWFek1wnwD%2BAegfAHQtZsdP8W654j1XxN4gl1zxP4m8SS27Xuq38kMMHmyC2hhgjCwW9vCqRRRoqQoAuck93QAUUUUAfG37S37Xf7S37PHxmg%2BG2sp8M/Gt9rcEE3hGHTvC17aS%2BC7zUvEOmeHtIm1OV76YXUU7avOC0S2cjixuljDL5hi9x/ZV%2BL/AMSPiMPH/wAPvjEdEn8VfDTx43hrWdV8NadNZ2Gp%2BZpenatb3ENvNPPJb5tdUt0eNppcSRyYYgjHC23/AATV8JNdfEN/EP7S/wATtZt/iTrx1zWLfUjoXmWepRXEM%2Bn3NtdRaWl0psHt7cWkbzSRRLCgZH5z6x8A/gLofwD8Patptl4v1zxJq3iLXpta8T%2BKPEr2xv8AV76SOKHzphawQQLsggt4ESKKNFjgjULwSQDuqKKKAGXP2n7NJ9j2edsPlebnbuxxnHOM18QfFb9rn9tP4afETXPhtb23gPxnr3hi98NW%2BreOvBHwV1/Vo/DlvqzXj3thLpVnqU93czRw2VjdExTp%2B7uoWlgQGJpPt67hkuLWW3hupIHkjZVniCl4yRgMu4FcjqMgj1Br57%2BDH7AXiD4CfDa4%2BGnw7/bq%2BMUUd1qz6nNrN5ZeE59Qlu5XlkuZ5pn0I/aZJ3l3SSTiR8xpsKAYIB6z8BPiHZfFb4O%2BH/iFYfEDRvFSanp4kfX/AA/pM1haXcgJWQpazzTS2xV1ZGhkkd42VlY7lIHX1yXwL%2BC/hL9n34X6d8KfBVzf3FlYS3VxNfarcia6vru6uZbq6upnCqGlmuJ5pX2qq7pDtVVwo62gAqj4nh8SXPhvULfwbqdjZavJZSrpd5qdg91bQXBQiOSWGOWJpo1bBZFkjLAEB1J3C9Wb4x0G/wDFHha/8O6X4t1LQbm8tXig1rRxAbqxcjiaIXEUsRdTyBJG6HHzKwyKAPh74b/t2fta/GD4p638EvhZpvw%2BTxnptrrt9J4z8V/C7WtDXVNM0i10WVLGXRLy%2BTUNPle78Q7EmnmePyoZLhIXWdAfsb4BfFrTfj58CfBXx10bTZbOz8a%2BEtN160s5n3PBFeWsdwsbEAZKiQAn1FeLav8A8EyPA%2Bta5ffEW7/aU%2BKafEDVkvLXWviTbXukQ6tf6ZdW1rbTaYUTTRZw2xSytGHkW0UqyQLKsocsx%2Bg/Bfg/w18PPB2k%2BAPBmkxafo%2Bh6ZBp%2Bk2EOdltbQxrHFGuecKiqo%2BlAGnRRRQBy/xp1Hxxo3wt1rW/hz4hsdL1awszdQ32oeD73xAiRxkPKBp1jPBc3kjRK6pFDIHLsuFc/I3xb8Jf%2BCiPx%2B8SeNND1PxvceEfAngzUp518QeOLz4GeIprbWL%2BHX7rSES5lW%2BjTwzPJa2lr%2B41RpJYHlWN87AlfbfxM8Ga7498JTeHPDfxS1/wbeSSxvFr/hmKxe7g2sCVVb%2B2uYGDAFSHibgnGDgjxW6/4JzeFNQ8H3Hw21b9pD4m3fhjXNQmv/HmgTXGjiLxhdz3jXVxNfSrpouIvNLLC0dnLaxCGJI1RRu3AH0TRRRQAUUUUAFFFFABRRRQAUUUUAFFFFABRRRQAUUUUAFFFFABRRRQAUUUUAFFFFABRRRQAUUUUAFFFFABRRRQAUUUUAFFFFABRRRQAUUUUAFFFFABRRRQAUUUUAFFFFABRRRQAUUUUAFFFFABRRRQAUUUUAFFFFABRRRQAUUUUAFFFFABRRRQAUUUUAFFFFABRRRQAUUUUAFFFFABRRRQAUUUUAFFFFABRRRQAUUUUAFFFFABRRRQAUUUUAFFFFABRRRQAUUUUAFFFFABRRRQAUUUUAFFFFABRRRQAUUUUAFFFFABRRRQAUUUUAFFFFABRRRQB//Z\">"
      ]
     },
     "metadata": {
      "tags": []
     },
     "output_type": "display_data"
    }
   ],
   "source": [
    "s.run(tf.global_variables_initializer())\n",
    "\n",
    "BATCH_SIZE = 512\n",
    "EPOCHS = 40\n",
    "\n",
    "# for logging the progress right here in Jupyter (for those who don't have TensorBoard)\n",
    "simpleTrainingCurves = matplotlib_utils.SimpleTrainingCurves(\"cross-entropy\", \"accuracy\")\n",
    "\n",
    "for epoch in range(EPOCHS):  # we finish an epoch when we've looked at all training samples\n",
    "    \n",
    "    batch_losses = []\n",
    "    for batch_start in range(0, X_train_flat.shape[0], BATCH_SIZE):  # data is already shuffled\n",
    "        _, batch_loss = s.run([step, loss], {input_X: X_train_flat[batch_start:batch_start+BATCH_SIZE], \n",
    "                                             input_y: y_train_oh[batch_start:batch_start+BATCH_SIZE]})\n",
    "        # collect batch losses, this is almost free as we need a forward pass for backprop anyway\n",
    "        batch_losses.append(batch_loss)\n",
    "\n",
    "    train_loss = np.mean(batch_losses)\n",
    "    val_loss = s.run(loss, {input_X: X_val_flat, input_y: y_val_oh})  # this part is usually small\n",
    "    train_accuracy = accuracy_score(y_train, s.run(classes, {input_X: X_train_flat}))  # this is slow and usually skipped\n",
    "    valid_accuracy = accuracy_score(y_val, s.run(classes, {input_X: X_val_flat}))  \n",
    "    simpleTrainingCurves.add(train_loss, val_loss, train_accuracy, valid_accuracy)"
   ]
  },
  {
   "cell_type": "markdown",
   "metadata": {
    "colab_type": "text",
    "deletable": true,
    "editable": true,
    "id": "yctmiaV4LGew"
   },
   "source": [
    "# Submit the MLP with 2 hidden layers\n",
    "Run these cells after training the MLP with 2 hidden layers"
   ]
  },
  {
   "cell_type": "code",
   "execution_count": 0,
   "metadata": {
    "colab": {},
    "colab_type": "code",
    "collapsed": true,
    "deletable": true,
    "editable": true,
    "id": "5nPg2DFOLGex"
   },
   "outputs": [],
   "source": [
    "## GRADED PART, DO NOT CHANGE!\n",
    "# Validation loss for MLP\n",
    "grader.set_answer(\"i8bgs\", s.run(loss, {input_X: X_val_flat, input_y: y_val_oh}))\n",
    "# Validation accuracy for MLP\n",
    "grader.set_answer(\"rE763\", accuracy_score(y_val, s.run(classes, {input_X: X_val_flat})))"
   ]
  },
  {
   "cell_type": "code",
   "execution_count": 51,
   "metadata": {
    "colab": {
     "base_uri": "https://localhost:8080/",
     "height": 35
    },
    "colab_type": "code",
    "collapsed": false,
    "deletable": true,
    "editable": true,
    "id": "OAEmKKBlLGe2",
    "outputId": "93293be0-2c2e-46a6-b10a-118beffdffb2"
   },
   "outputs": [
    {
     "name": "stdout",
     "output_type": "stream",
     "text": [
      "Submitted to Coursera platform. See results on assignment page!\n"
     ]
    }
   ],
   "source": [
    "# you can make submission with answers so far to check yourself at this stage\n",
    "grader.submit(COURSERA_EMAIL, COURSERA_TOKEN)"
   ]
  },
  {
   "cell_type": "code",
   "execution_count": 0,
   "metadata": {
    "colab": {},
    "colab_type": "code",
    "collapsed": true,
    "deletable": true,
    "editable": true,
    "id": "u76bslB3LGe9"
   },
   "outputs": [],
   "source": []
  }
 ],
 "metadata": {
  "colab": {
   "name": "digits_classification.ipynb",
   "provenance": []
  },
  "kernelspec": {
   "display_name": "Python 3",
   "language": "python",
   "name": "python3"
  },
  "language_info": {
   "codemirror_mode": {
    "name": "ipython",
    "version": 3
   },
   "file_extension": ".py",
   "mimetype": "text/x-python",
   "name": "python",
   "nbconvert_exporter": "python",
   "pygments_lexer": "ipython3",
   "version": "3.5.2"
  }
 },
 "nbformat": 4,
 "nbformat_minor": 0
}
